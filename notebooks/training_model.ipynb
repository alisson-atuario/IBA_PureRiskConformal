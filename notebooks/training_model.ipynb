{
 "cells": [
  {
   "cell_type": "markdown",
   "metadata": {},
   "source": [
    "# Importando Bibliotecas"
   ]
  },
  {
   "cell_type": "code",
   "execution_count": 1,
   "metadata": {},
   "outputs": [
    {
     "name": "stdout",
     "output_type": "stream",
     "text": [
      "optuna: 3.6.1\n",
      "darts: 0.30.0\n",
      "pytorch_lightning: 2.3.3\n"
     ]
    }
   ],
   "source": [
    "# Importando as bibliotecas necessárias\n",
    "import os\n",
    "from pathlib import Path\n",
    "import pandas as pd\n",
    "import dill\n",
    "import glob\n",
    "import numpy as np\n",
    "import torch\n",
    "\n",
    "# Visualizando a distribuição dos valores pagos em sinistros\n",
    "import matplotlib.pyplot as plt\n",
    "\n",
    "\n",
    "from darts.dataprocessing.transformers import MissingValuesFiller\n",
    "from darts.utils.timeseries_generation import datetime_attribute_timeseries\n",
    "from darts.utils.likelihood_models import GaussianLikelihood\n",
    "\n",
    "import optuna\n",
    "print(f'optuna: {optuna.__version__}')\n",
    "from optuna.integration import PyTorchLightningPruningCallback\n",
    "from optuna.visualization.matplotlib import plot_optimization_history, plot_param_importances, plot_contour\n",
    "\n",
    "import darts\n",
    "print(f'darts: {darts.__version__}')\n",
    "from darts.metrics import mse,rmse,rmsle,mae,mape,smape,qr,ql,ope\n",
    "from darts.models import RNNModel\n",
    "\n",
    "\n",
    "import pytorch_lightning as pl\n",
    "print(f'pytorch_lightning: {pl.__version__}')  # Mostra a versão diretamente\n",
    "\n",
    "\n",
    "\n",
    "import optuna\n",
    "\n",
    "from pytorch_lightning.callbacks import EarlyStopping\n",
    "from pytorch_lightning import LightningModule\n",
    "from pytorch_lightning import Trainer\n",
    "from pytorch_lightning.callbacks import Callback\n",
    "from pytorch_lightning.callbacks import ModelCheckpoint\n",
    "\n",
    "import warnings\n",
    "\n",
    "class PyTorchLightningPruningCallback(Callback):\n",
    "    \"\"\"PyTorch Lightning callback to prune unpromising trials.\n",
    "    See `the example <https://github.com/optuna/optuna-examples/blob/\n",
    "    main/pytorch/pytorch_lightning_simple.py>`__\n",
    "    if you want to add a pruning callback which observes accuracy.\n",
    "    Args:\n",
    "        trial:\n",
    "            A :class:`~optuna.trial.Trial` corresponding to the current evaluation of the\n",
    "            objective function.\n",
    "        monitor:\n",
    "            An evaluation metric for pruning, e.g., ``val_loss`` or\n",
    "            ``val_acc``. The metrics are obtained from the returned dictionaries from e.g.\n",
    "            ``pytorch_lightning.LightningModule.training_step`` or\n",
    "            ``pytorch_lightning.LightningModule.validation_epoch_end`` and the names thus depend on\n",
    "            how this dictionary is formatted.\n",
    "    \"\"\"\n",
    "\n",
    "    def __init__(self, trial: optuna.trial.Trial, monitor: str) -> None:\n",
    "        super().__init__()\n",
    "\n",
    "        self._trial = trial\n",
    "        self.monitor = monitor\n",
    "\n",
    "    def on_validation_end(self, trainer: Trainer, pl_module: LightningModule) -> None:\n",
    "        # When the trainer calls `on_validation_end` for sanity check,\n",
    "        # do not call `trial.report` to avoid calling `trial.report` multiple times\n",
    "        # at epoch 0. The related page is\n",
    "        # https://github.com/PyTorchLightning/pytorch-lightning/issues/1391.\n",
    "        if trainer.sanity_checking:\n",
    "            return\n",
    "\n",
    "        epoch = pl_module.current_epoch\n",
    "\n",
    "        current_score = trainer.callback_metrics.get(self.monitor)\n",
    "        if current_score is None:\n",
    "            message = (\n",
    "                \"The metric '{}' is not in the evaluation logs for pruning. \"\n",
    "                \"Please make sure you set the correct metric name.\".format(self.monitor)\n",
    "            )\n",
    "            warnings.warn(message)\n",
    "            return\n",
    "\n",
    "        self._trial.report(current_score, step=epoch)\n",
    "        if self._trial.should_prune():\n",
    "            message = \"Trial was pruned at epoch {}.\".format(epoch)\n",
    "            raise optuna.TrialPruned(message)\n"
   ]
  },
  {
   "cell_type": "markdown",
   "metadata": {},
   "source": [
    "# Extrai os dados tratados"
   ]
  },
  {
   "cell_type": "markdown",
   "metadata": {},
   "source": [
    "**Descrição das Colunas:**\n",
    "\n",
    "1. **D_OCORR** (Data da Ocorrência): Data em que ocorreu o sinistro, usada para organizar e agrupar os registros no tempo.\n",
    "   \n",
    "2. **INDENIZ** (Valor da Indenização): Valor pago pela seguradora para cobrir o sinistro. Essa é a variável-alvo do modelo, ou seja, o que queremos prever.\n",
    "\n",
    "3. **MODALIDADE**: Tipo de modalidade de seguro contratada. Representada por várias subcategorias após o One-Hot Encoding.\n",
    "\n",
    "4. **TIPO_PROD**: Tipo de produto de seguro. Representado por subcategorias após o One-Hot Encoding.\n",
    "\n",
    "5. **SEXO**: Gênero do segurado (Masculino ou Feminino). Representado por subcategorias (SEXO_F e SEXO_M) após o One-Hot Encoding.\n",
    "\n",
    "6. **REGIAO**: Região geográfica onde o segurado está localizado. Representado por subcategorias após o One-Hot Encoding com base nos códigos oficiais dos estados brasileiros.\n",
    "\n",
    "7. **VAL_SALVAD** (Valor Salvado): Valor residual recuperado após o sinistro, geralmente relacionado ao que restou do veículo. Usado como uma variável contínua nas previsões.\n",
    "\n",
    "8. **VAL_RESS** (Valor Residual): Valor residual relacionado à apólice, referente a deduções aplicadas após o sinistro. Também usada como uma variável contínua.\n",
    "\n",
    "9. **EVENTO** Refere-se ao tipo de evento relacionado ao sinistro, podendo variar entre diferentes causas, como roubo, colisão, incêndio, etc. A codificação varia de 1 a 9, representando diferentes tipos de eventos.\n",
    "\n",
    "10. **CAUSA**: Indica a causa específica do sinistro, com códigos que variam de 1 a 8. Cada código representa uma causa distinta, como falha mecânica, erro do motorista, causas naturais, entre outras.\n",
    "\n",
    "**Covariáveis:**\n",
    "\n",
    "- **Covariáveis Passadas**: Todas as variáveis categóricas e contínuas, exceto a coluna de data (`D_OCORR`) e o alvo (`INDENIZ`). Essas covariáveis incluem:\n",
    "   - **MODALIDADE** (subcategorias)\n",
    "   - **TIPO_PROD** (subcategorias)\n",
    "   - **SEXO** (subcategorias)\n",
    "   - **REGIAO** (subcategorias)\n",
    "   - **VAL_SALVAD** e **VAL_RESS** (variáveis contínuas)\n",
    "\n",
    "- **Covariáveis Futuras**: O atributo **D_OCORR** será usado para capturar padrões temporais ao longo do tempo.\n",
    "\n",
    "**Variável-Alvo:**\n",
    "**INDENIZ** (Valor da Indenização): O valor a ser previsto com base nas covariáveis categóricas e contínuas fornecidas.\n",
    "\n"
   ]
  },
  {
   "cell_type": "code",
   "execution_count": 2,
   "metadata": {},
   "outputs": [
    {
     "data": {
      "text/html": [
       "<div>\n",
       "<style scoped>\n",
       "    .dataframe tbody tr th:only-of-type {\n",
       "        vertical-align: middle;\n",
       "    }\n",
       "\n",
       "    .dataframe tbody tr th {\n",
       "        vertical-align: top;\n",
       "    }\n",
       "\n",
       "    .dataframe thead th {\n",
       "        text-align: right;\n",
       "    }\n",
       "</style>\n",
       "<table border=\"1\" class=\"dataframe\">\n",
       "  <thead>\n",
       "    <tr style=\"text-align: right;\">\n",
       "      <th></th>\n",
       "      <th>D_OCORR</th>\n",
       "      <th>INDENIZ</th>\n",
       "      <th>EVENTO_1</th>\n",
       "      <th>EVENTO_2</th>\n",
       "      <th>EVENTO_3</th>\n",
       "      <th>EVENTO_4</th>\n",
       "      <th>EVENTO_5</th>\n",
       "      <th>EVENTO_6</th>\n",
       "      <th>EVENTO_7</th>\n",
       "      <th>EVENTO_8</th>\n",
       "      <th>CAUSA_1</th>\n",
       "      <th>CAUSA_2</th>\n",
       "      <th>CAUSA_3</th>\n",
       "      <th>CAUSA_4</th>\n",
       "      <th>CAUSA_5</th>\n",
       "      <th>CAUSA_6</th>\n",
       "      <th>CAUSA_7</th>\n",
       "      <th>MODALIDADE_1</th>\n",
       "      <th>MODALIDADE_2</th>\n",
       "      <th>MODALIDADE_3</th>\n",
       "      <th>TIPO_PROD_1</th>\n",
       "      <th>TIPO_PROD_2</th>\n",
       "      <th>REGIAO_11.0</th>\n",
       "      <th>REGIAO_12.0</th>\n",
       "      <th>REGIAO_13.0</th>\n",
       "      <th>REGIAO_14.0</th>\n",
       "      <th>REGIAO_15.0</th>\n",
       "      <th>REGIAO_16.0</th>\n",
       "      <th>REGIAO_17.0</th>\n",
       "      <th>REGIAO_21.0</th>\n",
       "      <th>REGIAO_22.0</th>\n",
       "      <th>REGIAO_23.0</th>\n",
       "      <th>REGIAO_24.0</th>\n",
       "      <th>REGIAO_25.0</th>\n",
       "      <th>REGIAO_26.0</th>\n",
       "      <th>REGIAO_27.0</th>\n",
       "      <th>REGIAO_28.0</th>\n",
       "      <th>REGIAO_29.0</th>\n",
       "      <th>REGIAO_31.0</th>\n",
       "      <th>REGIAO_32.0</th>\n",
       "      <th>REGIAO_33.0</th>\n",
       "      <th>REGIAO_35.0</th>\n",
       "      <th>REGIAO_41.0</th>\n",
       "      <th>REGIAO_42.0</th>\n",
       "      <th>REGIAO_43.0</th>\n",
       "      <th>REGIAO_50.0</th>\n",
       "      <th>REGIAO_51.0</th>\n",
       "      <th>REGIAO_52.0</th>\n",
       "      <th>REGIAO_53.0</th>\n",
       "      <th>SEXO_F</th>\n",
       "      <th>SEXO_M</th>\n",
       "      <th>VAL_SALVAD</th>\n",
       "      <th>VAL_RESS</th>\n",
       "    </tr>\n",
       "  </thead>\n",
       "  <tbody>\n",
       "    <tr>\n",
       "      <th>0</th>\n",
       "      <td>1970-01-01</td>\n",
       "      <td>6477.0</td>\n",
       "      <td>0.0</td>\n",
       "      <td>1.0</td>\n",
       "      <td>0.0</td>\n",
       "      <td>0.0</td>\n",
       "      <td>0.0</td>\n",
       "      <td>0.0</td>\n",
       "      <td>0.0</td>\n",
       "      <td>0.0</td>\n",
       "      <td>0.0</td>\n",
       "      <td>0.0</td>\n",
       "      <td>0.0</td>\n",
       "      <td>1.0</td>\n",
       "      <td>0.0</td>\n",
       "      <td>0.0</td>\n",
       "      <td>0.0</td>\n",
       "      <td>1.0</td>\n",
       "      <td>0.0</td>\n",
       "      <td>0.0</td>\n",
       "      <td>1.0</td>\n",
       "      <td>0.0</td>\n",
       "      <td>0.262622</td>\n",
       "      <td>0.0</td>\n",
       "      <td>0.737378</td>\n",
       "      <td>0.0</td>\n",
       "      <td>0.0</td>\n",
       "      <td>0.0</td>\n",
       "      <td>0.0</td>\n",
       "      <td>0.0</td>\n",
       "      <td>0.0</td>\n",
       "      <td>0.0</td>\n",
       "      <td>0.0</td>\n",
       "      <td>0.0</td>\n",
       "      <td>0.0</td>\n",
       "      <td>0.0</td>\n",
       "      <td>0.0</td>\n",
       "      <td>0.0</td>\n",
       "      <td>0.0</td>\n",
       "      <td>0.0</td>\n",
       "      <td>0.0</td>\n",
       "      <td>0.0</td>\n",
       "      <td>0.0</td>\n",
       "      <td>0.0</td>\n",
       "      <td>0.0</td>\n",
       "      <td>0.0</td>\n",
       "      <td>0.0</td>\n",
       "      <td>0.0</td>\n",
       "      <td>0.0</td>\n",
       "      <td>0.0</td>\n",
       "      <td>1.0</td>\n",
       "      <td>0.0</td>\n",
       "      <td>0.0</td>\n",
       "    </tr>\n",
       "    <tr>\n",
       "      <th>1</th>\n",
       "      <td>1981-03-05</td>\n",
       "      <td>3742.0</td>\n",
       "      <td>0.0</td>\n",
       "      <td>1.0</td>\n",
       "      <td>0.0</td>\n",
       "      <td>0.0</td>\n",
       "      <td>0.0</td>\n",
       "      <td>0.0</td>\n",
       "      <td>0.0</td>\n",
       "      <td>0.0</td>\n",
       "      <td>0.0</td>\n",
       "      <td>0.0</td>\n",
       "      <td>0.0</td>\n",
       "      <td>1.0</td>\n",
       "      <td>0.0</td>\n",
       "      <td>0.0</td>\n",
       "      <td>0.0</td>\n",
       "      <td>1.0</td>\n",
       "      <td>0.0</td>\n",
       "      <td>0.0</td>\n",
       "      <td>1.0</td>\n",
       "      <td>0.0</td>\n",
       "      <td>1.000000</td>\n",
       "      <td>0.0</td>\n",
       "      <td>0.000000</td>\n",
       "      <td>0.0</td>\n",
       "      <td>0.0</td>\n",
       "      <td>0.0</td>\n",
       "      <td>0.0</td>\n",
       "      <td>0.0</td>\n",
       "      <td>0.0</td>\n",
       "      <td>0.0</td>\n",
       "      <td>0.0</td>\n",
       "      <td>0.0</td>\n",
       "      <td>0.0</td>\n",
       "      <td>0.0</td>\n",
       "      <td>0.0</td>\n",
       "      <td>0.0</td>\n",
       "      <td>0.0</td>\n",
       "      <td>0.0</td>\n",
       "      <td>0.0</td>\n",
       "      <td>0.0</td>\n",
       "      <td>0.0</td>\n",
       "      <td>0.0</td>\n",
       "      <td>0.0</td>\n",
       "      <td>0.0</td>\n",
       "      <td>0.0</td>\n",
       "      <td>0.0</td>\n",
       "      <td>0.0</td>\n",
       "      <td>1.0</td>\n",
       "      <td>0.0</td>\n",
       "      <td>0.0</td>\n",
       "      <td>0.0</td>\n",
       "    </tr>\n",
       "    <tr>\n",
       "      <th>2</th>\n",
       "      <td>1988-11-19</td>\n",
       "      <td>187500.0</td>\n",
       "      <td>1.0</td>\n",
       "      <td>0.0</td>\n",
       "      <td>0.0</td>\n",
       "      <td>0.0</td>\n",
       "      <td>0.0</td>\n",
       "      <td>0.0</td>\n",
       "      <td>0.0</td>\n",
       "      <td>0.0</td>\n",
       "      <td>0.0</td>\n",
       "      <td>0.0</td>\n",
       "      <td>0.0</td>\n",
       "      <td>1.0</td>\n",
       "      <td>0.0</td>\n",
       "      <td>0.0</td>\n",
       "      <td>0.0</td>\n",
       "      <td>1.0</td>\n",
       "      <td>0.0</td>\n",
       "      <td>0.0</td>\n",
       "      <td>1.0</td>\n",
       "      <td>0.0</td>\n",
       "      <td>0.000000</td>\n",
       "      <td>1.0</td>\n",
       "      <td>0.000000</td>\n",
       "      <td>0.0</td>\n",
       "      <td>0.0</td>\n",
       "      <td>0.0</td>\n",
       "      <td>0.0</td>\n",
       "      <td>0.0</td>\n",
       "      <td>0.0</td>\n",
       "      <td>0.0</td>\n",
       "      <td>0.0</td>\n",
       "      <td>0.0</td>\n",
       "      <td>0.0</td>\n",
       "      <td>0.0</td>\n",
       "      <td>0.0</td>\n",
       "      <td>0.0</td>\n",
       "      <td>0.0</td>\n",
       "      <td>0.0</td>\n",
       "      <td>0.0</td>\n",
       "      <td>0.0</td>\n",
       "      <td>0.0</td>\n",
       "      <td>0.0</td>\n",
       "      <td>0.0</td>\n",
       "      <td>0.0</td>\n",
       "      <td>0.0</td>\n",
       "      <td>0.0</td>\n",
       "      <td>0.0</td>\n",
       "      <td>0.0</td>\n",
       "      <td>1.0</td>\n",
       "      <td>0.0</td>\n",
       "      <td>0.0</td>\n",
       "    </tr>\n",
       "    <tr>\n",
       "      <th>3</th>\n",
       "      <td>1992-01-19</td>\n",
       "      <td>1400.0</td>\n",
       "      <td>1.0</td>\n",
       "      <td>0.0</td>\n",
       "      <td>0.0</td>\n",
       "      <td>0.0</td>\n",
       "      <td>0.0</td>\n",
       "      <td>0.0</td>\n",
       "      <td>0.0</td>\n",
       "      <td>0.0</td>\n",
       "      <td>0.0</td>\n",
       "      <td>0.0</td>\n",
       "      <td>0.0</td>\n",
       "      <td>0.0</td>\n",
       "      <td>0.0</td>\n",
       "      <td>1.0</td>\n",
       "      <td>0.0</td>\n",
       "      <td>1.0</td>\n",
       "      <td>0.0</td>\n",
       "      <td>0.0</td>\n",
       "      <td>1.0</td>\n",
       "      <td>0.0</td>\n",
       "      <td>0.000000</td>\n",
       "      <td>1.0</td>\n",
       "      <td>0.000000</td>\n",
       "      <td>0.0</td>\n",
       "      <td>0.0</td>\n",
       "      <td>0.0</td>\n",
       "      <td>0.0</td>\n",
       "      <td>0.0</td>\n",
       "      <td>0.0</td>\n",
       "      <td>0.0</td>\n",
       "      <td>0.0</td>\n",
       "      <td>0.0</td>\n",
       "      <td>0.0</td>\n",
       "      <td>0.0</td>\n",
       "      <td>0.0</td>\n",
       "      <td>0.0</td>\n",
       "      <td>0.0</td>\n",
       "      <td>0.0</td>\n",
       "      <td>0.0</td>\n",
       "      <td>0.0</td>\n",
       "      <td>0.0</td>\n",
       "      <td>0.0</td>\n",
       "      <td>0.0</td>\n",
       "      <td>0.0</td>\n",
       "      <td>0.0</td>\n",
       "      <td>0.0</td>\n",
       "      <td>0.0</td>\n",
       "      <td>0.0</td>\n",
       "      <td>1.0</td>\n",
       "      <td>0.0</td>\n",
       "      <td>0.0</td>\n",
       "    </tr>\n",
       "    <tr>\n",
       "      <th>4</th>\n",
       "      <td>1993-08-11</td>\n",
       "      <td>80413.0</td>\n",
       "      <td>1.0</td>\n",
       "      <td>0.0</td>\n",
       "      <td>0.0</td>\n",
       "      <td>0.0</td>\n",
       "      <td>0.0</td>\n",
       "      <td>0.0</td>\n",
       "      <td>0.0</td>\n",
       "      <td>0.0</td>\n",
       "      <td>0.0</td>\n",
       "      <td>0.0</td>\n",
       "      <td>0.0</td>\n",
       "      <td>0.0</td>\n",
       "      <td>0.0</td>\n",
       "      <td>1.0</td>\n",
       "      <td>0.0</td>\n",
       "      <td>1.0</td>\n",
       "      <td>0.0</td>\n",
       "      <td>0.0</td>\n",
       "      <td>1.0</td>\n",
       "      <td>0.0</td>\n",
       "      <td>0.000000</td>\n",
       "      <td>1.0</td>\n",
       "      <td>0.000000</td>\n",
       "      <td>0.0</td>\n",
       "      <td>0.0</td>\n",
       "      <td>0.0</td>\n",
       "      <td>0.0</td>\n",
       "      <td>0.0</td>\n",
       "      <td>0.0</td>\n",
       "      <td>0.0</td>\n",
       "      <td>0.0</td>\n",
       "      <td>0.0</td>\n",
       "      <td>0.0</td>\n",
       "      <td>0.0</td>\n",
       "      <td>0.0</td>\n",
       "      <td>0.0</td>\n",
       "      <td>0.0</td>\n",
       "      <td>0.0</td>\n",
       "      <td>0.0</td>\n",
       "      <td>0.0</td>\n",
       "      <td>0.0</td>\n",
       "      <td>0.0</td>\n",
       "      <td>0.0</td>\n",
       "      <td>0.0</td>\n",
       "      <td>0.0</td>\n",
       "      <td>0.0</td>\n",
       "      <td>0.0</td>\n",
       "      <td>0.0</td>\n",
       "      <td>1.0</td>\n",
       "      <td>0.0</td>\n",
       "      <td>0.0</td>\n",
       "    </tr>\n",
       "  </tbody>\n",
       "</table>\n",
       "</div>"
      ],
      "text/plain": [
       "      D_OCORR   INDENIZ  EVENTO_1  ...  SEXO_M  VAL_SALVAD  VAL_RESS\n",
       "0  1970-01-01    6477.0       0.0  ...     1.0         0.0       0.0\n",
       "1  1981-03-05    3742.0       0.0  ...     0.0         0.0       0.0\n",
       "2  1988-11-19  187500.0       1.0  ...     1.0         0.0       0.0\n",
       "3  1992-01-19    1400.0       1.0  ...     1.0         0.0       0.0\n",
       "4  1993-08-11   80413.0       1.0  ...     1.0         0.0       0.0\n",
       "\n",
       "[5 rows x 53 columns]"
      ]
     },
     "execution_count": 2,
     "metadata": {},
     "output_type": "execute_result"
    }
   ],
   "source": [
    "path_project = \"../\"\n",
    "# print(f'Projeto salvo em: {full_path}')\n",
    "\n",
    "path_raw = \"../data/raw\"\n",
    "path_processed = \"../data/processed\"\n",
    "file_path = os.path.join(path_processed,'trated_data.csv')\n",
    "df = pd.read_csv(file_path, sep=';')\n",
    "df.head()"
   ]
  },
  {
   "cell_type": "markdown",
   "metadata": {},
   "source": [
    "# Série Temporal Darts"
   ]
  },
  {
   "cell_type": "markdown",
   "metadata": {},
   "source": [
    "Transforma dados de indenizações em um gráfico de linha mostrando os valores diários de 2015 a 2019.  \r\n",
    "\r\n",
    "**Passo a passo:**  \r\n",
    "1. Converte a tabela de dados para formato de série temporal (com datas diárias)  \r\n",
    "2. Completa datas e valores faltantes automaticamente  \r\n",
    "3. Filtra apenas o período de 2015-2019  \r\n",
    "4. Gera e salva o gráfico (`indenizacao_2015_2019.png`)  \r\n",
    "\r\n",
    "**Saída:**  \r\n",
    "Um gráfico pronto para análise, mostrando como as indenizações variaram dia após dia nesses 5 anos.  "
   ]
  },
  {
   "cell_type": "code",
   "execution_count": 3,
   "metadata": {},
   "outputs": [],
   "source": [
    "from darts import TimeSeries\n",
    "from darts.dataprocessing.transformers import MissingValuesFiller\n",
    "\n",
    "# Criar a série TimeSeries\n",
    "df_series_all = TimeSeries.from_dataframe(\n",
    "    df,\n",
    "    # value_cols='INDENIZ',  # Coluna alvo\n",
    "    time_col='D_OCORR',\n",
    "    fill_missing_dates=True,  # Preencher datas ausentes\n",
    "    freq='D'  # Frequência diária\n",
    ")\n",
    "\n",
    "\n",
    "# Preencher valores faltantes\n",
    "df_series_all = MissingValuesFiller().transform(df_series_all)"
   ]
  },
  {
   "cell_type": "code",
   "execution_count": 4,
   "metadata": {},
   "outputs": [
    {
     "data": {
      "image/png": "[encoded data removed]",
      "text/plain": [
       "<Figure size 720x432 with 1 Axes>"
      ]
     },
     "metadata": {},
     "output_type": "display_data"
    }
   ],
   "source": [
    "# Filtrar a série para os anos de 2010 a 2019 usando o método slice\n",
    "df_series = df_series_all.slice(pd.Timestamp('2015-01-01'), pd.Timestamp('2019-12-31'))\n",
    "\n",
    "# Plotar a indenização nesse período\n",
    "plt.figure(figsize=(10, 6))\n",
    "df_series['INDENIZ'].plot(label='Indenização por Data')\n",
    "\n",
    "# Adicionar título e rótulos\n",
    "plt.title('Indenização por Data (2015-2019)')\n",
    "plt.xlabel('Data')\n",
    "plt.ylabel('Valor da Indenização')\n",
    "\n",
    "# Exibir o gráfico\n",
    "plt.savefig(os.path.join(path_project,'reports','figures','indenizacao_2015_2019.png'))\n",
    "plt.show()\n"
   ]
  },
  {
   "cell_type": "markdown",
   "metadata": {},
   "source": [
    "# Divisão dos Dados"
   ]
  },
  {
   "cell_type": "markdown",
   "metadata": {},
   "source": [
    "**Preparação de Dados para Modelo de Previsão Temporal**\r\n",
    "\r\n",
    "**Objetivo:**  \r\n",
    "Estruturar os dados de forma adequada para treinamento, validação e teste de modelos de séries temporais.\r\n",
    "\r\n",
    "**Fluxo de Divisão dos Dados:**\r\n",
    "\r\n",
    "1. **Divisão Inicial**\r\n",
    "   - 85% dos dados iniciais → Treino + Validação\r\n",
    "   - 15% dos dados finais → Teste + Calibração\r\n",
    "\r\n",
    "2. **Subdivisão do Conjunto de Treino**\r\n",
    "   - 70% → Dados de Treino efetivos\r\n",
    "   - 30% → Dados de Validação\r\n",
    "\r\n",
    "3. **Divisão do Conjunto de Teste**\r\n",
    "   - 50% → Calibração do modelo\r\n",
    "   - 50% → Teste final\r\n",
    "\r\n",
    "**Processamento de Variáveis:**\r\n",
    "\r\n",
    "1. **Covariáveis Temporais**\r\n",
    "   - Passadas: Utiliza outras colunas além do alvo e data\r\n",
    "   - Futuras: Incorpora informação do dia da semana em formato one-hot encoding\r\n",
    "\r\n",
    "2. **Normalização**\r\n",
    "   - Aplica Scaler para padronização das variáveis numéricas\r\n",
    "   - Garante que todas as features estejam na mesma escala\r\n",
    "\r\n",
    "**Saídas Geradas:**\r\n",
    "\r\n",
    "- Conjuntos estruturados:\r\n",
    "  - Treino (70%)\r\n",
    "  - Validação (15%)\r\n",
    "  - Calibração (7.5%)\r\n",
    "  - Teste final (7.5%)\r\n",
    "\r\n",
    "- Visualização:\r\n",
    "  - Gráfico da série temporal normalizada (`train_indenizacao_scaled.png`)\r\n",
    "\r\n",
    "**Importância do Processo:**\r\n",
    "\r\n",
    "1. **Validação Robusta**\r\n",
    "   - Separação clara entre dados de treino e teste\r\n",
    "   - Conjunto dedicado para calibração\r\n",
    "\r\n",
    "2. **Qualidade dos Dados**\r\n",
    "   - Normalização adequada das variáveis\r\n",
    "   - Incorporação de informações temporais relevantes\r\n",
    "\r\n",
    "3. **Reprodutibilidade**\r\n",
    "   - Estrutura padronizada para experimentos futuros\r\n",
    "   - Divisão temporal que preserva a ordem dos eventos) para melhorar as previsões"
   ]
  },
  {
   "cell_type": "code",
   "execution_count": 5,
   "metadata": {},
   "outputs": [
    {
     "name": "stdout",
     "output_type": "stream",
     "text": [
      "Treino Series - Timesteps: 1088, Components: 52\n",
      "Validação Series - Timesteps: 465, Components: 52\n",
      "Calibração Series - Timesteps: 137, Components: 52\n",
      "Teste Final Series - Timesteps: 136, Components: 52\n"
     ]
    }
   ],
   "source": [
    "# Define as proporções de divisão dos dados\n",
    "train_val_size = int(0.85 * len(df_series))  # 85% para treino_geral (treino + validação)\n",
    "test_size = len(df_series) - train_val_size  # 15% para teste (que será dividido em calibração e teste)\n",
    "\n",
    "# 1. Divide em treino_geral (treino + validação) e teste (que será usado depois para calibração e teste final)\n",
    "treino_geral_series, test_series = df_series.split_after(train_val_size)\n",
    "\n",
    "# 2. Divide treino_geral em treino e validação\n",
    "train_size = int(0.7 * len(treino_geral_series))  # 70% do treino_geral para treino real\n",
    "train_series, val_series = treino_geral_series.split_after(train_size)\n",
    "\n",
    "# Define a proporção para calibração e teste final\n",
    "cal_size = int(0.5 * len(test_series))  # 50% para calibração e 50% para teste final\n",
    "\n",
    "# 3. Divide test_series em calibração e teste final\n",
    "cal_series, test_final_series = test_series.split_after(cal_size)\n",
    "\n",
    "# Exibir as dimensões das séries divididas\n",
    "print(f\"Treino Series - Timesteps: {train_series.n_timesteps}, Components: {train_series.n_components}\")\n",
    "print(f\"Validação Series - Timesteps: {val_series.n_timesteps}, Components: {val_series.n_components}\")\n",
    "print(f\"Calibração Series - Timesteps: {cal_series.n_timesteps}, Components: {cal_series.n_components}\")\n",
    "print(f\"Teste Final Series - Timesteps: {test_final_series.n_timesteps}, Components: {test_final_series.n_components}\")\n",
    "\n"
   ]
  },
  {
   "cell_type": "markdown",
   "metadata": {},
   "source": [
    "**Covariáveis Passadas**"
   ]
  },
  {
   "cell_type": "code",
   "execution_count": 6,
   "metadata": {},
   "outputs": [
    {
     "name": "stdout",
     "output_type": "stream",
     "text": [
      "Train Past Covariates - Timesteps: 1088, Components: 51\n",
      "Validation Past Covariates - Timesteps: 465, Components: 51\n"
     ]
    }
   ],
   "source": [
    "# Seleciona as colunas para as covariáveis passadas, removendo a coluna de tempo e o alvo\n",
    "past_covariates_columns = df.drop(columns=['INDENIZ', 'D_OCORR']).columns.tolist()\n",
    "\n",
    "# Cria as covariáveis passadas para o treino\n",
    "train_past_covariates = train_series[past_covariates_columns]\n",
    "train_past_covariates = MissingValuesFiller().transform(train_past_covariates)\n",
    "\n",
    "# Cria as covariáveis passadas para a validação\n",
    "val_past_covariates = val_series[past_covariates_columns]\n",
    "val_past_covariates = MissingValuesFiller().transform(val_past_covariates)\n",
    "\n",
    "# Exibe as dimensões das covariáveis passadas\n",
    "print(f\"Train Past Covariates - Timesteps: {train_past_covariates.n_timesteps}, Components: {train_past_covariates.n_components}\")\n",
    "print(f\"Validation Past Covariates - Timesteps: {val_past_covariates.n_timesteps}, Components: {val_past_covariates.n_components}\")\n"
   ]
  },
  {
   "cell_type": "markdown",
   "metadata": {},
   "source": [
    "**Covariáveis Futuras**"
   ]
  },
  {
   "cell_type": "code",
   "execution_count": 7,
   "metadata": {},
   "outputs": [
    {
     "name": "stdout",
     "output_type": "stream",
     "text": [
      "Train Future Covariates - Timesteps: 1088, Components: 31\n",
      "Validation Future Covariates - Timesteps: 465, Components: 31\n"
     ]
    }
   ],
   "source": [
    "from darts.utils.timeseries_generation import datetime_attribute_timeseries\n",
    "\n",
    "# Cria as covariáveis futuras (day_series) para o treino e validação a partir de 'D_OCORR'\n",
    "train_future_covariates = datetime_attribute_timeseries(\n",
    "    train_series.time_index,\n",
    "    attribute=\"day\",  # Aqui estamos pegando a informação do \"dia\"\n",
    "    one_hot=True,\n",
    "    dtype=np.float32\n",
    ")\n",
    "\n",
    "val_future_covariates = datetime_attribute_timeseries(\n",
    "    val_series.time_index,\n",
    "    attribute=\"day\",\n",
    "    one_hot=True,\n",
    "    dtype=np.float32\n",
    ")\n",
    "\n",
    "# Exibe as dimensões das covariáveis futuras\n",
    "print(f\"Train Future Covariates - Timesteps: {train_future_covariates.n_timesteps}, Components: {train_future_covariates.n_components}\")\n",
    "print(f\"Validation Future Covariates - Timesteps: {val_future_covariates.n_timesteps}, Components: {val_future_covariates.n_components}\")\n"
   ]
  },
  {
   "cell_type": "markdown",
   "metadata": {},
   "source": [
    "**Normalizando os dados de treinamento**"
   ]
  },
  {
   "cell_type": "code",
   "execution_count": 8,
   "metadata": {},
   "outputs": [
    {
     "name": "stdout",
     "output_type": "stream",
     "text": [
      "Train Series (Scaled) - Timesteps: 1088, Components: 3\n",
      "Validation Series (Scaled) - Timesteps: 465, Components: 3\n",
      "Calibration Series (Scaled) - Timesteps: 137, Components: 3\n",
      "Test Final Series (Scaled) - Timesteps: 136, Components: 3\n"
     ]
    }
   ],
   "source": [
    "from darts.dataprocessing.transformers import Scaler\n",
    "\n",
    "# Seleciona as colunas contínuas que precisam de normalização\n",
    "continuous_columns = ['INDENIZ', 'VAL_SALVAD', 'VAL_RESS']\n",
    "\n",
    "# Cria um scaler para as variáveis contínuas\n",
    "scaler = Scaler()\n",
    "\n",
    "# Aplica o scaler nas colunas contínuas da série de treino\n",
    "train_continuous_scaled = scaler.fit_transform(train_series[continuous_columns])\n",
    "\n",
    "# Aplica o scaler treinado nos dados de validação, calibração e teste\n",
    "val_continuous_scaled = scaler.transform(val_series[continuous_columns])\n",
    "cal_continuous_scaled = scaler.transform(cal_series[continuous_columns])\n",
    "test_continuous_scaled = scaler.transform(test_final_series[continuous_columns])\n",
    "\n",
    "# Exibe as dimensões após a normalização\n",
    "print(f\"Train Series (Scaled) - Timesteps: {train_continuous_scaled.n_timesteps}, Components: {train_continuous_scaled.n_components}\")\n",
    "print(f\"Validation Series (Scaled) - Timesteps: {val_continuous_scaled.n_timesteps}, Components: {val_continuous_scaled.n_components}\")\n",
    "print(f\"Calibration Series (Scaled) - Timesteps: {cal_continuous_scaled.n_timesteps}, Components: {cal_continuous_scaled.n_components}\")\n",
    "print(f\"Test Final Series (Scaled) - Timesteps: {test_continuous_scaled.n_timesteps}, Components: {test_continuous_scaled.n_components}\")\n"
   ]
  },
  {
   "cell_type": "code",
   "execution_count": 9,
   "metadata": {},
   "outputs": [
    {
     "data": {
      "image/png": "[encoded data removed]",
      "text/plain": [
       "<Figure size 720x432 with 1 Axes>"
      ]
     },
     "metadata": {},
     "output_type": "display_data"
    }
   ],
   "source": [
    "# Selecionar a série normalizada da indenização\n",
    "train_indenizacao_scaled = train_continuous_scaled['INDENIZ']\n",
    "\n",
    "# Plotar a indenização normalizada no treino\n",
    "plt.figure(figsize=(10, 6))\n",
    "train_indenizacao_scaled.plot(label='Indenização Normalizada')\n",
    "\n",
    "# Adicionar título e rótulos\n",
    "plt.title('Indenização Normalizada vs Data (Treino)')\n",
    "plt.xlabel('Data')\n",
    "plt.ylabel('Valor da Indenização Normalizada')\n",
    "\n",
    "# Exibir o gráfico\n",
    "plt.savefig(os.path.join(path_project,'reports','figures','train_indenizacao_scaled.png'))\n",
    "plt.show()\n"
   ]
  },
  {
   "cell_type": "markdown",
   "metadata": {},
   "source": [
    "# Construção da Rede Neural LSTM"
   ]
  },
  {
   "cell_type": "markdown",
   "metadata": {},
   "source": [
    "Prepara e otimiza um modelo LSTM para previsão de séries temporais univariadas (valores de indenização).\n",
    "\n",
    "**Principais etapas:**\n",
    "\n",
    "1. **Pré-processamento:**\n",
    "   - Seleciona apenas a coluna 'INDENIZ'\n",
    "   - Normaliza os dados usando Scaler\n",
    "   - Cria covariáveis futuras (informação de dia da semana)\n",
    "\n",
    "2. **Configuração do Modelo:**\n",
    "   - Define funções para ajustar automaticamente os parâmetros de treino\n",
    "   - Implementa um modelo LSTM com:\n",
    "     - Early stopping\n",
    "     - Checkpointing\n",
    "     - Suporte a covariáveis\n",
    "\n",
    "3. **Otimização com Optuna:**\n",
    "   - Testa combinações de hiperparâmetros (25 trials)\n",
    "   - Usa poda inteligente (pruning) para eficiência\n",
    "   - Armazena resultados em banco de dados SQLite\n",
    "\n",
    "4. **Resultados:**\n",
    "   - Identifica os melhores parâmetros\n",
    "   - Salva o estudo completo para análise futura\n",
    "\n",
    "**Saídas importantes:**\n",
    "- Modelo LSTM otimizado\n",
    "- Gráficos de desempenho\n",
    "- Arquivo com estudo completo (optuna_study.pkl)\n",
    "- Melhores parâmetros encontrados\n",
    "\n",
    "**Configurações-chave:**\n",
    "- Janela de entrada: 24 passos\n",
    "- Janela de treino: 365 dias\n",
    "- Paciência: 25 épocas\n",
    "- Faixa de neurônios: 50-300"
   ]
  },
  {
   "cell_type": "markdown",
   "metadata": {},
   "source": [
    "**Preparação e Escalonamento das Séries Temporais Univariadas (INDENIZ)**"
   ]
  },
  {
   "cell_type": "code",
   "execution_count": 10,
   "metadata": {},
   "outputs": [
    {
     "name": "stdout",
     "output_type": "stream",
     "text": [
      "Train Series (Scaled) - Timesteps: 1088, Components: 1\n",
      "Validation Series (Scaled) - Timesteps: 465, Components: 1\n",
      "Calibration Series (Scaled) - Timesteps: 137, Components: 1\n",
      "Test Final Series (Scaled) - Timesteps: 136, Components: 1\n"
     ]
    }
   ],
   "source": [
    "from darts.dataprocessing.transformers import Scaler\n",
    "\n",
    "# Seleciona apenas a coluna 'INDENIZ' das séries de treino, validação, calibração e teste\n",
    "train_series_univariate = train_series['INDENIZ']\n",
    "val_series_univariate = val_series['INDENIZ']\n",
    "cal_series_univariate = cal_series['INDENIZ']\n",
    "test_final_series_univariate = test_final_series['INDENIZ']\n",
    "\n",
    "# Cria um scaler para a variável 'INDENIZ'\n",
    "scaler = Scaler()\n",
    "\n",
    "# Aplica o scaler na série de treino\n",
    "train_continuous_scaled = scaler.fit_transform(train_series_univariate)\n",
    "\n",
    "# Aplica o scaler treinado nos dados de validação, calibração e teste\n",
    "val_continuous_scaled = scaler.transform(val_series_univariate)\n",
    "cal_continuous_scaled = scaler.transform(cal_series_univariate)\n",
    "test_continuous_scaled = scaler.transform(test_final_series_univariate)\n",
    "\n",
    "# Exibe as dimensões após a normalização\n",
    "print(f\"Train Series (Scaled) - Timesteps: {train_continuous_scaled.n_timesteps}, Components: {train_continuous_scaled.n_components}\")\n",
    "print(f\"Validation Series (Scaled) - Timesteps: {val_continuous_scaled.n_timesteps}, Components: {val_continuous_scaled.n_components}\")\n",
    "print(f\"Calibration Series (Scaled) - Timesteps: {cal_continuous_scaled.n_timesteps}, Components: {cal_continuous_scaled.n_components}\")\n",
    "print(f\"Test Final Series (Scaled) - Timesteps: {test_continuous_scaled.n_timesteps}, Components: {test_continuous_scaled.n_components}\")\n"
   ]
  },
  {
   "cell_type": "code",
   "execution_count": 11,
   "metadata": {},
   "outputs": [],
   "source": [
    "# Cria as covariáveis futuras (calendário, etc.)\n",
    "all_future_covariates = datetime_attribute_timeseries(\n",
    "    df_series.time_index,\n",
    "    attribute=\"day\",\n",
    "    one_hot=True,\n",
    "    dtype=np.float32\n",
    ")"
   ]
  },
  {
   "cell_type": "markdown",
   "metadata": {},
   "source": [
    "**Gerenciamento Dinâmico de Janelas de Treinamento e Validação**"
   ]
  },
  {
   "cell_type": "code",
   "execution_count": 12,
   "metadata": {
    "scrolled": true
   },
   "outputs": [
    {
     "name": "stdout",
     "output_type": "stream",
     "text": [
      "24 24\n",
      "24 365\n",
      "1\n"
     ]
    }
   ],
   "source": [
    "# Função para ajustar os tamanhos do bloco e do input\n",
    "def adjust_block_and_input_sizes(total_days, desired_block_size, desired_input_size, output_chunk_length=1):\n",
    "    # Certifique-se de que haja dados suficientes para pelo menos um ponto de treinamento\n",
    "    min_length = desired_block_size + output_chunk_length\n",
    "    if total_days < min_length:\n",
    "        block_size = max(1, total_days - output_chunk_length)\n",
    "        input_size = max(1, block_size - output_chunk_length)\n",
    "    else:\n",
    "        block_size = min(desired_block_size, total_days)\n",
    "        input_size = min(desired_input_size, total_days - output_chunk_length)  # Ensure at least 1 day for input\n",
    "    return block_size, input_size\n",
    "\n",
    "def verify_and_adjust_parameters(train_block_size, train_input_size, output_chunk_length, val_series_len, trial_parameters, message=False):\n",
    "    min_val_length = train_block_size + output_chunk_length\n",
    "    if val_series_len < min_val_length:\n",
    "        if message:\n",
    "            print(f\"Conjunto de validação muito pequeno ({val_series_len} dias). Ajustando parâmetros...\")\n",
    "        val_block_size = max(1, val_series_len - output_chunk_length)\n",
    "        val_input_size = max(1, val_block_size)\n",
    "        trial_parameters['training_length'] = val_block_size\n",
    "        trial_parameters['input_chunk_length'] = val_input_size\n",
    "    else:\n",
    "        trial_parameters['training_length'] = train_block_size\n",
    "        trial_parameters['input_chunk_length'] = train_input_size\n",
    "    return trial_parameters\n",
    "\n",
    "def calculate_number_of_blocks(total_days, block_size):\n",
    "    if block_size <= 0:\n",
    "        return 0\n",
    "    return total_days // block_size\n",
    "\n",
    "def calculate_adjusted_parameters(train_series, val_series, desired_block_size, desired_input_size, output_chunk_length):\n",
    "    # Ajustar os tamanhos para o conjunto de treino\n",
    "    train_block_size, train_input_size = adjust_block_and_input_sizes(len(train_series), desired_block_size, desired_input_size, output_chunk_length)\n",
    "    # Ajustar os tamanhos para o conjunto de validação\n",
    "    val_block_size, val_input_size = adjust_block_and_input_sizes(len(val_series), desired_block_size, desired_input_size, output_chunk_length)\n",
    "\n",
    "    # Atualizar os parâmetros com os valores ajustados\n",
    "    adjusted_parameters = {\n",
    "        'training_length': train_block_size,\n",
    "        'input_chunk_length': train_input_size,\n",
    "        'output_chunk_length': output_chunk_length\n",
    "    }\n",
    "\n",
    "    # Verificar e ajustar os parâmetros se necessário\n",
    "    adjusted_parameters = verify_and_adjust_parameters(train_block_size, train_input_size, output_chunk_length, len(val_series), adjusted_parameters)\n",
    "\n",
    "    return adjusted_parameters\n",
    "\n",
    "# Exemplo de uso\n",
    "adjusted_params = calculate_adjusted_parameters(train_series, val_series,\n",
    "                                                desired_block_size=365,\n",
    "                                                desired_input_size=24,\n",
    "                                                output_chunk_length=1)\n",
    "# Garantindo a relação lógica entre os parâmetros\n",
    "max_input_chunk_length = adjusted_params['input_chunk_length']\n",
    "max_training_length = adjusted_params['training_length']\n",
    "max_output_chunk_length = adjusted_params['output_chunk_length']\n",
    "\n",
    "# Imprimindo os resultados\n",
    "print(min(24,max_input_chunk_length), max_input_chunk_length)\n",
    "print(max_input_chunk_length, max_training_length)\n",
    "print(max_output_chunk_length)"
   ]
  },
  {
   "cell_type": "markdown",
   "metadata": {},
   "source": [
    "**Pipeline de Otimização de Hiperparâmetros para Modelo LSTM com Optuna**"
   ]
  },
  {
   "cell_type": "code",
   "execution_count": 13,
   "metadata": {},
   "outputs": [],
   "source": [
    "def model_objective_lstm(train, val, trial_parameters, trial=None, **kwargs):\n",
    "    \"\"\"\n",
    "    Treina um modelo LSTM para séries temporais com hiperparâmetros configuráveis.\n",
    "    \n",
    "    Suporta integração com Optuna (via parâmetro trial) e utiliza covariáveis futuras quando fornecidas.\n",
    "    Configura automaticamente callbacks para early stopping e pruning (se trial for fornecido).\n",
    "    \n",
    "    Parâmetros:\n",
    "    ----------\n",
    "    train : TimeSeries\n",
    "        Série temporal de treinamento\n",
    "    val : TimeSeries\n",
    "        Série temporal de validação\n",
    "    trial_parameters : dict\n",
    "        Dicionário com parâmetros do modelo (ex: hidden_dim, dropout, etc.)\n",
    "    trial : optuna.Trial, optional\n",
    "        Objeto trial do Optuna para habilitar pruning\n",
    "    **kwargs : dict\n",
    "        Argumentos extras (ex: train_future_covariates, val_future_covariates)\n",
    "    \n",
    "    Retorna:\n",
    "    -------\n",
    "    tuple\n",
    "        (modelo_treinado, série de treino, série de validação)\n",
    "    \"\"\"\n",
    "\n",
    "    # Configurar callbacks para pruning e early stopping\n",
    "    # pruner = PyTorchLightningPruningCallback(trial, monitor=\"train_loss\") if trial else None\n",
    "    pruner = PyTorchLightningPruningCallback(trial, monitor=\"train_loss\") if trial else None\n",
    "    early_stopper = EarlyStopping(\n",
    "        monitor=\"train_loss\",\n",
    "        min_delta=0.001,\n",
    "        patience=trial_parameters.get('patience', 10),  # Padrão para 'patience'\n",
    "        verbose=True\n",
    "    )\n",
    "\n",
    "    # Adicionar callback de checkpoint\n",
    "    checkpoint_callback = ModelCheckpoint(\n",
    "        dirpath=f\"../models/checkpoints/trial_{trial.number if trial else 'final'}\",  # Pasta por trial\n",
    "        filename=\"best_model-{epoch:02d}-{train_loss:.2f}\",\n",
    "        monitor=\"train_loss\",\n",
    "        mode=\"min\",\n",
    "        save_top_k=1,  # Salva apenas o melhor modelo\n",
    "        save_weights_only=False  # Salva o modelo completo\n",
    "    )\n",
    "\n",
    "    callbacks = [early_stopper, checkpoint_callback] + ([pruner] if pruner else [])\n",
    "\n",
    "    pl_trainer_kwargs = {\n",
    "        \"accelerator\": \"auto\",\n",
    "        \"callbacks\": callbacks,\n",
    "        \"enable_progress_bar\": kwargs.get(\"enable_progress_bar\", True),\n",
    "        \"enable_checkpointing\": True\n",
    "    }\n",
    "\n",
    "    # Criar o modelo LSTM com os parâmetros passados diretamente do dicionário trial_parameters\n",
    "    model = RNNModel(\n",
    "        model='LSTM',\n",
    "        input_chunk_length=trial_parameters['input_chunk_length'],\n",
    "        output_chunk_length=trial_parameters['output_chunk_length'],\n",
    "        hidden_dim=trial_parameters['hidden_dim'],\n",
    "        n_rnn_layers=trial_parameters['n_rnn_layers'],\n",
    "        dropout=trial_parameters['dropout'],\n",
    "        batch_size=trial_parameters['batch_size'],\n",
    "        n_epochs=trial_parameters['n_epochs'],\n",
    "        optimizer_kwargs={\"lr\": trial_parameters['lr']},\n",
    "        random_state=trial_parameters['random_state'],\n",
    "        likelihood=GaussianLikelihood(),\n",
    "        pl_trainer_kwargs=pl_trainer_kwargs\n",
    "    )\n",
    "\n",
    "    # Obter as covariáveis futuras, se fornecidas\n",
    "    train_future_covariates = kwargs.get('train_future_covariates', None)\n",
    "    val_future_covariates = kwargs.get('val_future_covariates', None)\n",
    "\n",
    "    # Treinar o modelo LSTM com covariáveis futuras, se aplicável\n",
    "    model.fit(train, future_covariates=train_future_covariates)\n",
    "    \n",
    "    # Obter o caminho do melhor modelo salvo\n",
    "    best_model_path = checkpoint_callback.best_model_path\n",
    "\n",
    "    # Retornar o modelo treinado, treino e validação\n",
    "    return model, train, val, best_model_path\n",
    "\n",
    "def objective(trial, train, val, parameters, **kwargs):\n",
    "    \"\"\"\n",
    "    Função objetivo para otimização de hiperparâmetros com Optuna.\n",
    "    \n",
    "    Gera sugestões de hiperparâmetros, treina o modelo LSTM e retorna o MSE\n",
    "    calculado no conjunto de validação para guiar a otimização.\n",
    "    \n",
    "    Parâmetros:\n",
    "    ----------\n",
    "    trial : optuna.Trial\n",
    "        Objeto trial do Optuna\n",
    "    train : TimeSeries\n",
    "        Série temporal de treinamento\n",
    "    val : TimeSeries\n",
    "        Série temporal de validação\n",
    "    parameters : dict\n",
    "        Dicionário com configurações de busca (tipos e bounds dos parâmetros)\n",
    "    **kwargs : dict\n",
    "        Argumentos extras (ex: covariáveis futuras)\n",
    "    \n",
    "    Retorna:\n",
    "    -------\n",
    "    float\n",
    "        Valor do MSE calculado nas previsões de validação\n",
    "    \"\"\"\n",
    "    print(f\"Executando trial #{trial.number}\")\n",
    "\n",
    "    # Inicialização dos parâmetros ajustados\n",
    "    trial_parameters = {}\n",
    "\n",
    "    # Mapeia os tipos de sugestão do Optuna para cada parâmetro\n",
    "    suggest_methods = {\n",
    "        'int': trial.suggest_int,\n",
    "        'float': trial.suggest_float,\n",
    "        'categorical': trial.suggest_categorical\n",
    "    }\n",
    "\n",
    "    # Atualiza os parâmetros com os valores sugeridos pelo Optuna ou usa valores fixos\n",
    "    for param, param_config in parameters.items():\n",
    "        if isinstance(param_config, dict) and 'type' in param_config and 'bounds' in param_config:\n",
    "            bounds = param_config['bounds']\n",
    "            suggest_method = suggest_methods.get(param_config['type'])\n",
    "            if suggest_method:\n",
    "                if isinstance(bounds, tuple) and len(bounds) == 2:\n",
    "                    trial_parameters[param] = suggest_method(param, *bounds)\n",
    "                elif isinstance(bounds, list):\n",
    "                    trial_parameters[param] = suggest_method(param, bounds)\n",
    "        else:\n",
    "            # Aqui estamos tratando parâmetros fixos\n",
    "            trial_parameters[param] = param_config\n",
    "\n",
    "    # Treinar o modelo LSTM\n",
    "    model, train, val, best_model_path = model_objective_lstm(\n",
    "        train=train,\n",
    "        val=val,\n",
    "        trial_parameters=trial_parameters,\n",
    "        trial=trial,\n",
    "        train_future_covariates=kwargs.get('train_future_covariates'),\n",
    "        val_future_covariates=kwargs.get('val_future_covariates')\n",
    "    )\n",
    "\n",
    "    # Fazer previsões no conjunto de validação\n",
    "    y_pred_val = model.predict(n=len(val), future_covariates=kwargs.get('val_future_covariates'))\n",
    "\n",
    "    if y_pred_val is None:\n",
    "        raise ValueError(\"O modelo não gerou previsões válidas\")\n",
    "\n",
    "    # Calcular a métrica MSE no conjunto de validação\n",
    "    mse_val = mse(val, y_pred_val)\n",
    "\n",
    "    return mse_val\n",
    "\n",
    "\n",
    "def adjust_training_length(training_length, input_chunk_length):\n",
    "    \"\"\"\n",
    "    Ajusta o training_length para garantir que seja pelo menos igual ao input_chunk_length.\n",
    "    \n",
    "    Parâmetros:\n",
    "    ----------\n",
    "    training_length : int\n",
    "        Tamanho inicial proposto para a janela de treinamento\n",
    "    input_chunk_length : int\n",
    "        Tamanho do chunk de entrada requerido pelo modelo\n",
    "    \n",
    "    Retorna:\n",
    "    -------\n",
    "    int\n",
    "        Valor ajustado de training_length (max(training_length, input_chunk_length))\n",
    "    \"\"\"\n",
    "    if training_length < input_chunk_length:\n",
    "        print(f\"Ajustando training_length de {training_length} para {input_chunk_length}\")\n",
    "        return input_chunk_length\n",
    "    return training_length\n",
    "\n",
    "def update_optuna_parameters(optuna_parameters, best_params):\n",
    "    \"\"\"\n",
    "    Atualiza os parâmetros originais com os melhores valores encontrados pelo Optuna.\n",
    "    \n",
    "    Mantém os parâmetros que não foram otimizados e preserva a estrutura original\n",
    "    do dicionário de parâmetros.\n",
    "    \n",
    "    Parâmetros:\n",
    "    ----------\n",
    "    optuna_parameters : dict\n",
    "        Dicionário original com configurações de parâmetros\n",
    "    best_params : dict\n",
    "        Melhores parâmetros encontrados pelo Optuna\n",
    "    \n",
    "    Retorna:\n",
    "    -------\n",
    "    dict\n",
    "        Dicionário atualizado com valores otimizados\n",
    "    \"\"\"\n",
    "    # Criar uma cópia dos parâmetros originais\n",
    "    updated_parameters = {}\n",
    "\n",
    "    # Atualizar os parâmetros otimizados\n",
    "    for param, value in optuna_parameters.items():\n",
    "        if param in best_params:\n",
    "            updated_parameters[param] = best_params[param]\n",
    "        elif isinstance(value, dict) and 'bounds' in value:\n",
    "            updated_parameters[param] = value['bounds']  # Valor fixo ou intervalo de bounds\n",
    "        else:\n",
    "            updated_parameters[param] = value  # Parâmetro fixo (ex: lr, batch_size, etc.)\n",
    "\n",
    "    return updated_parameters\n"
   ]
  },
  {
   "cell_type": "markdown",
   "metadata": {},
   "source": [
    "**Definição dos Parâmetros e Execução da Otimização com Optuna**"
   ]
  },
  {
   "cell_type": "code",
   "execution_count": 14,
   "metadata": {},
   "outputs": [],
   "source": [
    "# Define os limites para a otimização do Optuna com base nos parâmetros ajustados # obs: input_chunk_length <= training_length\n",
    "optuna_parameters = {\n",
    "    'input_chunk_length': 24,\n",
    "    'training_length': 365,\n",
    "    'output_chunk_length': 1,  # Fixo\n",
    "    'hidden_dim': {'type': 'int', 'bounds': (50, 300)},\n",
    "    'n_rnn_layers': {'type': 'int', 'bounds': (1, 6)},\n",
    "    'dropout': {'type': 'float', 'bounds': (0.1,0.2)},\n",
    "    'lr': 1e-2,\n",
    "    'n_epochs': 500,\n",
    "    'batch_size': {'type': 'int', 'bounds': (32,64)},\n",
    "    'random_state': 42,\n",
    "    # 'n_warmup_steps': {'type': 'int', 'bounds': 50},\n",
    "    'patience': 25\n",
    "}"
   ]
  },
  {
   "cell_type": "code",
   "execution_count": 15,
   "metadata": {
    "scrolled": true
   },
   "outputs": [
    {
     "name": "stderr",
     "output_type": "stream",
     "text": [
      "C:\\Users\\aliss_u3voar7\\AppData\\Local\\Temp\\ipykernel_11400\\364199374.py:6: ExperimentalWarning: PatientPruner is experimental (supported from v2.8.0). The interface can change in the future.\n",
      "  pruner = optuna.pruners.PatientPruner(\n",
      "\u001b[32m[I 2025-06-13 22:37:38,267]\u001b[0m A new study created in RDB with name: lstm_optimization\u001b[0m\n",
      "ignoring user defined `output_chunk_length`. RNNModel uses a fixed `output_chunk_length=1`.\n"
     ]
    },
    {
     "name": "stdout",
     "output_type": "stream",
     "text": [
      "Executando trial #0\n"
     ]
    },
    {
     "name": "stderr",
     "output_type": "stream",
     "text": [
      "GPU available: False, used: False\n",
      "TPU available: False, using: 0 TPU cores\n",
      "HPU available: False, using: 0 HPUs\n",
      "\n",
      "  | Name            | Type             | Params | Mode \n",
      "-------------------------------------------------------------\n",
      "0 | criterion       | MSELoss          | 0      | train\n",
      "1 | train_criterion | MSELoss          | 0      | train\n",
      "2 | val_criterion   | MSELoss          | 0      | train\n",
      "3 | train_metrics   | MetricCollection | 0      | train\n",
      "4 | val_metrics     | MetricCollection | 0      | train\n",
      "5 | rnn             | LSTM             | 3.5 M  | train\n",
      "6 | V               | Linear           | 562    | train\n",
      "-------------------------------------------------------------\n",
      "3.5 M     Trainable params\n",
      "0         Non-trainable params\n",
      "3.5 M     Total params\n",
      "13.998    Total estimated model params size (MB)\n"
     ]
    },
    {
     "data": {
      "application/vnd.jupyter.widget-view+json": {
       "model_id": "408785427ffe4a41b09f4eadd1f630d8",
       "version_major": 2,
       "version_minor": 0
      },
      "text/plain": [
       "Training: |          | 0/? [00:00<?, ?it/s]"
      ]
     },
     "metadata": {},
     "output_type": "display_data"
    },
    {
     "name": "stderr",
     "output_type": "stream",
     "text": [
      "Metric train_loss improved. New best score: 0.924\n",
      "Metric train_loss improved by 1.087 >= min_delta = 0.001. New best score: -0.163\n",
      "Metric train_loss improved by 0.413 >= min_delta = 0.001. New best score: -0.576\n",
      "Metric train_loss improved by 0.052 >= min_delta = 0.001. New best score: -0.628\n",
      "Metric train_loss improved by 0.029 >= min_delta = 0.001. New best score: -0.657\n",
      "Metric train_loss improved by 0.043 >= min_delta = 0.001. New best score: -0.701\n",
      "Monitored metric train_loss did not improve in the last 25 records. Best score: -0.701. Signaling Trainer to stop.\n",
      "GPU available: False, used: False\n",
      "TPU available: False, using: 0 TPU cores\n",
      "HPU available: False, using: 0 HPUs\n"
     ]
    },
    {
     "data": {
      "application/vnd.jupyter.widget-view+json": {
       "model_id": "186bbf58566c443f89e13076335e6310",
       "version_major": 2,
       "version_minor": 0
      },
      "text/plain": [
       "Predicting: |          | 0/? [00:00<?, ?it/s]"
      ]
     },
     "metadata": {},
     "output_type": "display_data"
    },
    {
     "name": "stderr",
     "output_type": "stream",
     "text": [
      "\u001b[32m[I 2025-06-13 22:45:10,537]\u001b[0m Trial 0 finished with value: 0.04741031141040703 and parameters: {'hidden_dim': 280, 'n_rnn_layers': 6, 'dropout': 0.1212524110430866, 'batch_size': 45}. Best is trial 0 with value: 0.04741031141040703.\u001b[0m\n",
      "ignoring user defined `output_chunk_length`. RNNModel uses a fixed `output_chunk_length=1`.\n",
      "GPU available: False, used: False\n",
      "TPU available: False, using: 0 TPU cores\n",
      "HPU available: False, using: 0 HPUs\n",
      "\n",
      "  | Name            | Type             | Params | Mode \n",
      "-------------------------------------------------------------\n",
      "0 | criterion       | MSELoss          | 0      | train\n",
      "1 | train_criterion | MSELoss          | 0      | train\n",
      "2 | val_criterion   | MSELoss          | 0      | train\n",
      "3 | train_metrics   | MetricCollection | 0      | train\n",
      "4 | val_metrics     | MetricCollection | 0      | train\n",
      "5 | rnn             | LSTM             | 2.5 M  | train\n",
      "6 | V               | Linear           | 528    | train\n",
      "-------------------------------------------------------------\n",
      "2.5 M     Trainable params\n",
      "0         Non-trainable params\n",
      "2.5 M     Total params\n",
      "10.139    Total estimated model params size (MB)\n"
     ]
    },
    {
     "name": "stdout",
     "output_type": "stream",
     "text": [
      "Executando trial #1\n"
     ]
    },
    {
     "data": {
      "application/vnd.jupyter.widget-view+json": {
       "model_id": "dc64eea26cc7499693078e371fc6ca71",
       "version_major": 2,
       "version_minor": 0
      },
      "text/plain": [
       "Training: |          | 0/? [00:00<?, ?it/s]"
      ]
     },
     "metadata": {},
     "output_type": "display_data"
    },
    {
     "name": "stderr",
     "output_type": "stream",
     "text": [
      "Metric train_loss improved. New best score: 2.214\n",
      "Metric train_loss improved by 1.511 >= min_delta = 0.001. New best score: 0.703\n",
      "Metric train_loss improved by 0.059 >= min_delta = 0.001. New best score: 0.644\n",
      "Metric train_loss improved by 0.176 >= min_delta = 0.001. New best score: 0.467\n",
      "Metric train_loss improved by 1.162 >= min_delta = 0.001. New best score: -0.695\n",
      "Metric train_loss improved by 0.032 >= min_delta = 0.001. New best score: -0.727\n",
      "Metric train_loss improved by 0.015 >= min_delta = 0.001. New best score: -0.742\n",
      "Metric train_loss improved by 0.057 >= min_delta = 0.001. New best score: -0.799\n",
      "Monitored metric train_loss did not improve in the last 25 records. Best score: -0.799. Signaling Trainer to stop.\n",
      "GPU available: False, used: False\n",
      "TPU available: False, using: 0 TPU cores\n",
      "HPU available: False, using: 0 HPUs\n"
     ]
    },
    {
     "data": {
      "application/vnd.jupyter.widget-view+json": {
       "model_id": "3a246e2f6cab44378cb9aafec1199cea",
       "version_major": 2,
       "version_minor": 0
      },
      "text/plain": [
       "Predicting: |          | 0/? [00:00<?, ?it/s]"
      ]
     },
     "metadata": {},
     "output_type": "display_data"
    },
    {
     "name": "stderr",
     "output_type": "stream",
     "text": [
      "\u001b[32m[I 2025-06-13 22:54:43,389]\u001b[0m Trial 1 finished with value: 0.0394403542332876 and parameters: {'hidden_dim': 263, 'n_rnn_layers': 5, 'dropout': 0.15231094820527527, 'batch_size': 42}. Best is trial 1 with value: 0.0394403542332876.\u001b[0m\n",
      "ignoring user defined `output_chunk_length`. RNNModel uses a fixed `output_chunk_length=1`.\n",
      "GPU available: False, used: False\n",
      "TPU available: False, using: 0 TPU cores\n",
      "HPU available: False, using: 0 HPUs\n",
      "\n",
      "  | Name            | Type             | Params | Mode \n",
      "-------------------------------------------------------------\n",
      "0 | criterion       | MSELoss          | 0      | train\n",
      "1 | train_criterion | MSELoss          | 0      | train\n",
      "2 | val_criterion   | MSELoss          | 0      | train\n",
      "3 | train_metrics   | MetricCollection | 0      | train\n",
      "4 | val_metrics     | MetricCollection | 0      | train\n",
      "5 | rnn             | LSTM             | 316 K  | train\n",
      "6 | V               | Linear           | 246    | train\n",
      "-------------------------------------------------------------\n",
      "316 K     Trainable params\n",
      "0         Non-trainable params\n",
      "316 K     Total params\n",
      "1.266     Total estimated model params size (MB)\n"
     ]
    },
    {
     "name": "stdout",
     "output_type": "stream",
     "text": [
      "Executando trial #2\n"
     ]
    },
    {
     "data": {
      "application/vnd.jupyter.widget-view+json": {
       "model_id": "48fc9e4c16bc481b970c1c1429293989",
       "version_major": 2,
       "version_minor": 0
      },
      "text/plain": [
       "Training: |          | 0/? [00:00<?, ?it/s]"
      ]
     },
     "metadata": {},
     "output_type": "display_data"
    },
    {
     "name": "stderr",
     "output_type": "stream",
     "text": [
      "Metric train_loss improved. New best score: -0.438\n",
      "Metric train_loss improved by 0.095 >= min_delta = 0.001. New best score: -0.532\n",
      "Metric train_loss improved by 0.153 >= min_delta = 0.001. New best score: -0.685\n",
      "Metric train_loss improved by 0.006 >= min_delta = 0.001. New best score: -0.691\n",
      "Metric train_loss improved by 0.076 >= min_delta = 0.001. New best score: -0.767\n",
      "Metric train_loss improved by 0.075 >= min_delta = 0.001. New best score: -0.842\n",
      "Metric train_loss improved by 0.102 >= min_delta = 0.001. New best score: -0.943\n",
      "Metric train_loss improved by 0.207 >= min_delta = 0.001. New best score: -1.150\n",
      "Metric train_loss improved by 0.114 >= min_delta = 0.001. New best score: -1.264\n",
      "Metric train_loss improved by 0.255 >= min_delta = 0.001. New best score: -1.519\n",
      "Metric train_loss improved by 0.103 >= min_delta = 0.001. New best score: -1.621\n",
      "Metric train_loss improved by 0.108 >= min_delta = 0.001. New best score: -1.730\n",
      "Metric train_loss improved by 0.061 >= min_delta = 0.001. New best score: -1.791\n",
      "Metric train_loss improved by 0.210 >= min_delta = 0.001. New best score: -2.001\n",
      "Metric train_loss improved by 0.173 >= min_delta = 0.001. New best score: -2.174\n",
      "Metric train_loss improved by 0.036 >= min_delta = 0.001. New best score: -2.210\n",
      "Metric train_loss improved by 0.123 >= min_delta = 0.001. New best score: -2.333\n",
      "Metric train_loss improved by 0.019 >= min_delta = 0.001. New best score: -2.352\n",
      "Metric train_loss improved by 0.087 >= min_delta = 0.001. New best score: -2.438\n",
      "Metric train_loss improved by 0.183 >= min_delta = 0.001. New best score: -2.621\n",
      "Metric train_loss improved by 0.032 >= min_delta = 0.001. New best score: -2.653\n",
      "Metric train_loss improved by 0.210 >= min_delta = 0.001. New best score: -2.863\n",
      "Metric train_loss improved by 0.042 >= min_delta = 0.001. New best score: -2.905\n",
      "Metric train_loss improved by 0.259 >= min_delta = 0.001. New best score: -3.164\n",
      "Metric train_loss improved by 0.124 >= min_delta = 0.001. New best score: -3.288\n",
      "Metric train_loss improved by 0.023 >= min_delta = 0.001. New best score: -3.311\n",
      "Monitored metric train_loss did not improve in the last 25 records. Best score: -3.311. Signaling Trainer to stop.\n",
      "GPU available: False, used: False\n",
      "TPU available: False, using: 0 TPU cores\n",
      "HPU available: False, using: 0 HPUs\n"
     ]
    },
    {
     "data": {
      "application/vnd.jupyter.widget-view+json": {
       "model_id": "db7ba640f7544e7f92e6aaed2e8c651b",
       "version_major": 2,
       "version_minor": 0
      },
      "text/plain": [
       "Predicting: |          | 0/? [00:00<?, ?it/s]"
      ]
     },
     "metadata": {},
     "output_type": "display_data"
    },
    {
     "name": "stderr",
     "output_type": "stream",
     "text": [
      "\u001b[32m[I 2025-06-13 23:02:37,117]\u001b[0m Trial 2 finished with value: 0.03191447118349021 and parameters: {'hidden_dim': 122, 'n_rnn_layers': 3, 'dropout': 0.1320324080125685, 'batch_size': 32}. Best is trial 2 with value: 0.03191447118349021.\u001b[0m\n",
      "ignoring user defined `output_chunk_length`. RNNModel uses a fixed `output_chunk_length=1`.\n",
      "GPU available: False, used: False\n",
      "TPU available: False, using: 0 TPU cores\n",
      "HPU available: False, using: 0 HPUs\n"
     ]
    },
    {
     "name": "stdout",
     "output_type": "stream",
     "text": [
      "Executando trial #3\n"
     ]
    },
    {
     "name": "stderr",
     "output_type": "stream",
     "text": [
      "\n",
      "  | Name            | Type             | Params | Mode \n",
      "-------------------------------------------------------------\n",
      "0 | criterion       | MSELoss          | 0      | train\n",
      "1 | train_criterion | MSELoss          | 0      | train\n",
      "2 | val_criterion   | MSELoss          | 0      | train\n",
      "3 | train_metrics   | MetricCollection | 0      | train\n",
      "4 | val_metrics     | MetricCollection | 0      | train\n",
      "5 | rnn             | LSTM             | 118 K  | train\n",
      "6 | V               | Linear           | 102    | train\n",
      "-------------------------------------------------------------\n",
      "118 K     Trainable params\n",
      "0         Non-trainable params\n",
      "118 K     Total params\n",
      "0.476     Total estimated model params size (MB)\n"
     ]
    },
    {
     "data": {
      "application/vnd.jupyter.widget-view+json": {
       "model_id": "f302578db66141cbbd4326ce77e08a91",
       "version_major": 2,
       "version_minor": 0
      },
      "text/plain": [
       "Training: |          | 0/? [00:00<?, ?it/s]"
      ]
     },
     "metadata": {},
     "output_type": "display_data"
    },
    {
     "name": "stderr",
     "output_type": "stream",
     "text": [
      "Metric train_loss improved. New best score: -0.380\n",
      "Metric train_loss improved by 0.246 >= min_delta = 0.001. New best score: -0.626\n",
      "Metric train_loss improved by 0.027 >= min_delta = 0.001. New best score: -0.653\n",
      "Metric train_loss improved by 0.086 >= min_delta = 0.001. New best score: -0.739\n",
      "Metric train_loss improved by 0.055 >= min_delta = 0.001. New best score: -0.794\n",
      "Metric train_loss improved by 0.143 >= min_delta = 0.001. New best score: -0.937\n",
      "Metric train_loss improved by 0.058 >= min_delta = 0.001. New best score: -0.995\n",
      "Metric train_loss improved by 0.193 >= min_delta = 0.001. New best score: -1.188\n",
      "Metric train_loss improved by 0.138 >= min_delta = 0.001. New best score: -1.326\n",
      "Metric train_loss improved by 0.053 >= min_delta = 0.001. New best score: -1.379\n",
      "Metric train_loss improved by 0.059 >= min_delta = 0.001. New best score: -1.439\n",
      "Metric train_loss improved by 0.036 >= min_delta = 0.001. New best score: -1.475\n",
      "Metric train_loss improved by 0.174 >= min_delta = 0.001. New best score: -1.649\n",
      "Metric train_loss improved by 0.154 >= min_delta = 0.001. New best score: -1.803\n",
      "Metric train_loss improved by 0.119 >= min_delta = 0.001. New best score: -1.922\n",
      "Metric train_loss improved by 0.047 >= min_delta = 0.001. New best score: -1.968\n",
      "Metric train_loss improved by 0.063 >= min_delta = 0.001. New best score: -2.031\n",
      "Metric train_loss improved by 0.072 >= min_delta = 0.001. New best score: -2.103\n",
      "Metric train_loss improved by 0.167 >= min_delta = 0.001. New best score: -2.271\n",
      "Metric train_loss improved by 0.069 >= min_delta = 0.001. New best score: -2.339\n",
      "Metric train_loss improved by 0.011 >= min_delta = 0.001. New best score: -2.351\n",
      "Metric train_loss improved by 0.053 >= min_delta = 0.001. New best score: -2.404\n",
      "Metric train_loss improved by 0.040 >= min_delta = 0.001. New best score: -2.444\n",
      "Metric train_loss improved by 0.056 >= min_delta = 0.001. New best score: -2.500\n",
      "Metric train_loss improved by 0.092 >= min_delta = 0.001. New best score: -2.592\n",
      "Metric train_loss improved by 0.048 >= min_delta = 0.001. New best score: -2.639\n",
      "Metric train_loss improved by 0.003 >= min_delta = 0.001. New best score: -2.642\n",
      "Metric train_loss improved by 0.090 >= min_delta = 0.001. New best score: -2.732\n",
      "Metric train_loss improved by 0.089 >= min_delta = 0.001. New best score: -2.821\n",
      "Metric train_loss improved by 0.021 >= min_delta = 0.001. New best score: -2.842\n",
      "Metric train_loss improved by 0.011 >= min_delta = 0.001. New best score: -2.853\n",
      "Metric train_loss improved by 0.034 >= min_delta = 0.001. New best score: -2.887\n",
      "Metric train_loss improved by 0.035 >= min_delta = 0.001. New best score: -2.921\n",
      "Metric train_loss improved by 0.038 >= min_delta = 0.001. New best score: -2.959\n",
      "Metric train_loss improved by 0.009 >= min_delta = 0.001. New best score: -2.968\n",
      "Metric train_loss improved by 0.013 >= min_delta = 0.001. New best score: -2.982\n",
      "Metric train_loss improved by 0.032 >= min_delta = 0.001. New best score: -3.014\n",
      "Metric train_loss improved by 0.011 >= min_delta = 0.001. New best score: -3.025\n",
      "Metric train_loss improved by 0.156 >= min_delta = 0.001. New best score: -3.181\n",
      "Monitored metric train_loss did not improve in the last 25 records. Best score: -3.181. Signaling Trainer to stop.\n",
      "GPU available: False, used: False\n",
      "TPU available: False, using: 0 TPU cores\n",
      "HPU available: False, using: 0 HPUs\n"
     ]
    },
    {
     "data": {
      "application/vnd.jupyter.widget-view+json": {
       "model_id": "a66f89eab3ac40f9bcc113a3d2cd973c",
       "version_major": 2,
       "version_minor": 0
      },
      "text/plain": [
       "Predicting: |          | 0/? [00:00<?, ?it/s]"
      ]
     },
     "metadata": {},
     "output_type": "display_data"
    },
    {
     "name": "stderr",
     "output_type": "stream",
     "text": [
      "\u001b[32m[I 2025-06-13 23:13:39,529]\u001b[0m Trial 3 finished with value: 0.03187830002730261 and parameters: {'hidden_dim': 50, 'n_rnn_layers': 6, 'dropout': 0.11728700645965155, 'batch_size': 48}. Best is trial 3 with value: 0.03187830002730261.\u001b[0m\n",
      "ignoring user defined `output_chunk_length`. RNNModel uses a fixed `output_chunk_length=1`.\n",
      "GPU available: False, used: False\n",
      "TPU available: False, using: 0 TPU cores\n",
      "HPU available: False, using: 0 HPUs\n",
      "\n",
      "  | Name            | Type             | Params | Mode \n",
      "-------------------------------------------------------------\n",
      "0 | criterion       | MSELoss          | 0      | train\n",
      "1 | train_criterion | MSELoss          | 0      | train\n",
      "2 | val_criterion   | MSELoss          | 0      | train\n",
      "3 | train_metrics   | MetricCollection | 0      | train\n",
      "4 | val_metrics     | MetricCollection | 0      | train\n",
      "5 | rnn             | LSTM             | 2.1 M  | train\n",
      "6 | V               | Linear           | 484    | train\n",
      "-------------------------------------------------------------\n",
      "2.1 M     Trainable params\n",
      "0         Non-trainable params\n",
      "2.1 M     Total params\n",
      "8.528     Total estimated model params size (MB)\n"
     ]
    },
    {
     "name": "stdout",
     "output_type": "stream",
     "text": [
      "Executando trial #4\n"
     ]
    },
    {
     "data": {
      "application/vnd.jupyter.widget-view+json": {
       "model_id": "fbbe6671be6f48b19094b1ee343b1994",
       "version_major": 2,
       "version_minor": 0
      },
      "text/plain": [
       "Training: |          | 0/? [00:00<?, ?it/s]"
      ]
     },
     "metadata": {},
     "output_type": "display_data"
    },
    {
     "name": "stderr",
     "output_type": "stream",
     "text": [
      "Metric train_loss improved. New best score: 2.228\n",
      "Metric train_loss improved by 0.843 >= min_delta = 0.001. New best score: 1.385\n",
      "Metric train_loss improved by 0.624 >= min_delta = 0.001. New best score: 0.761\n",
      "Metric train_loss improved by 1.042 >= min_delta = 0.001. New best score: -0.281\n",
      "Metric train_loss improved by 0.283 >= min_delta = 0.001. New best score: -0.563\n",
      "Metric train_loss improved by 0.031 >= min_delta = 0.001. New best score: -0.594\n",
      "Metric train_loss improved by 0.148 >= min_delta = 0.001. New best score: -0.742\n",
      "Metric train_loss improved by 0.023 >= min_delta = 0.001. New best score: -0.765\n",
      "Metric train_loss improved by 0.094 >= min_delta = 0.001. New best score: -0.859\n",
      "Monitored metric train_loss did not improve in the last 25 records. Best score: -0.859. Signaling Trainer to stop.\n",
      "GPU available: False, used: False\n",
      "TPU available: False, using: 0 TPU cores\n",
      "HPU available: False, using: 0 HPUs\n"
     ]
    },
    {
     "data": {
      "application/vnd.jupyter.widget-view+json": {
       "model_id": "b545fab0a1bf44148e6ccfebfaed1465",
       "version_major": 2,
       "version_minor": 0
      },
      "text/plain": [
       "Predicting: |          | 0/? [00:00<?, ?it/s]"
      ]
     },
     "metadata": {},
     "output_type": "display_data"
    },
    {
     "name": "stderr",
     "output_type": "stream",
     "text": [
      "\u001b[32m[I 2025-06-13 23:21:54,517]\u001b[0m Trial 4 finished with value: 0.037020897698919995 and parameters: {'hidden_dim': 241, 'n_rnn_layers': 5, 'dropout': 0.12888775182302897, 'batch_size': 44}. Best is trial 3 with value: 0.03187830002730261.\u001b[0m\n",
      "ignoring user defined `output_chunk_length`. RNNModel uses a fixed `output_chunk_length=1`.\n",
      "GPU available: False, used: False\n",
      "TPU available: False, using: 0 TPU cores\n",
      "HPU available: False, using: 0 HPUs\n",
      "\n",
      "  | Name            | Type             | Params | Mode \n",
      "-------------------------------------------------------------\n",
      "0 | criterion       | MSELoss          | 0      | train\n",
      "1 | train_criterion | MSELoss          | 0      | train\n",
      "2 | val_criterion   | MSELoss          | 0      | train\n",
      "3 | train_metrics   | MetricCollection | 0      | train\n",
      "4 | val_metrics     | MetricCollection | 0      | train\n",
      "5 | rnn             | LSTM             | 583 K  | train\n",
      "6 | V               | Linear           | 252    | train\n",
      "-------------------------------------------------------------\n",
      "583 K     Trainable params\n",
      "0         Non-trainable params\n",
      "583 K     Total params\n",
      "2.335     Total estimated model params size (MB)\n"
     ]
    },
    {
     "name": "stdout",
     "output_type": "stream",
     "text": [
      "Executando trial #5\n"
     ]
    },
    {
     "data": {
      "application/vnd.jupyter.widget-view+json": {
       "model_id": "8f66216fc103486eb3630d58138ce2ea",
       "version_major": 2,
       "version_minor": 0
      },
      "text/plain": [
       "Training: |          | 0/? [00:00<?, ?it/s]"
      ]
     },
     "metadata": {},
     "output_type": "display_data"
    },
    {
     "name": "stderr",
     "output_type": "stream",
     "text": [
      "Metric train_loss improved. New best score: 0.154\n",
      "Metric train_loss improved by 0.910 >= min_delta = 0.001. New best score: -0.756\n",
      "Metric train_loss improved by 0.043 >= min_delta = 0.001. New best score: -0.800\n",
      "Monitored metric train_loss did not improve in the last 25 records. Best score: -0.800. Signaling Trainer to stop.\n",
      "GPU available: False, used: False\n",
      "TPU available: False, using: 0 TPU cores\n",
      "HPU available: False, using: 0 HPUs\n"
     ]
    },
    {
     "data": {
      "application/vnd.jupyter.widget-view+json": {
       "model_id": "eb7770aaaf30477ca5c1598b1f877eb1",
       "version_major": 2,
       "version_minor": 0
      },
      "text/plain": [
       "Predicting: |          | 0/? [00:00<?, ?it/s]"
      ]
     },
     "metadata": {},
     "output_type": "display_data"
    },
    {
     "name": "stderr",
     "output_type": "stream",
     "text": [
      "\u001b[32m[I 2025-06-13 23:24:56,434]\u001b[0m Trial 5 finished with value: 0.03997551461933155 and parameters: {'hidden_dim': 125, 'n_rnn_layers': 5, 'dropout': 0.11273940281862736, 'batch_size': 48}. Best is trial 3 with value: 0.03187830002730261.\u001b[0m\n",
      "ignoring user defined `output_chunk_length`. RNNModel uses a fixed `output_chunk_length=1`.\n",
      "GPU available: False, used: False\n",
      "TPU available: False, using: 0 TPU cores\n",
      "HPU available: False, using: 0 HPUs\n",
      "\n",
      "  | Name            | Type             | Params | Mode \n",
      "-------------------------------------------------------------\n",
      "0 | criterion       | MSELoss          | 0      | train\n",
      "1 | train_criterion | MSELoss          | 0      | train\n",
      "2 | val_criterion   | MSELoss          | 0      | train\n",
      "3 | train_metrics   | MetricCollection | 0      | train\n",
      "4 | val_metrics     | MetricCollection | 0      | train\n",
      "5 | rnn             | LSTM             | 58.4 K | train\n",
      "6 | V               | Linear           | 130    | train\n",
      "-------------------------------------------------------------\n",
      "58.5 K    Trainable params\n",
      "0         Non-trainable params\n",
      "58.5 K    Total params\n",
      "0.234     Total estimated model params size (MB)\n"
     ]
    },
    {
     "name": "stdout",
     "output_type": "stream",
     "text": [
      "Executando trial #6\n"
     ]
    },
    {
     "data": {
      "application/vnd.jupyter.widget-view+json": {
       "model_id": "8c6f686c6f844dffb404b686d8ace97e",
       "version_major": 2,
       "version_minor": 0
      },
      "text/plain": [
       "Training: |          | 0/? [00:00<?, ?it/s]"
      ]
     },
     "metadata": {},
     "output_type": "display_data"
    },
    {
     "name": "stderr",
     "output_type": "stream",
     "text": [
      "Metric train_loss improved. New best score: -0.594\n",
      "Metric train_loss improved by 0.120 >= min_delta = 0.001. New best score: -0.713\n",
      "Metric train_loss improved by 0.060 >= min_delta = 0.001. New best score: -0.774\n",
      "Metric train_loss improved by 0.046 >= min_delta = 0.001. New best score: -0.820\n",
      "Metric train_loss improved by 0.010 >= min_delta = 0.001. New best score: -0.829\n",
      "Metric train_loss improved by 0.089 >= min_delta = 0.001. New best score: -0.919\n",
      "Metric train_loss improved by 0.032 >= min_delta = 0.001. New best score: -0.950\n",
      "Metric train_loss improved by 0.063 >= min_delta = 0.001. New best score: -1.013\n",
      "Metric train_loss improved by 0.036 >= min_delta = 0.001. New best score: -1.049\n",
      "Metric train_loss improved by 0.059 >= min_delta = 0.001. New best score: -1.108\n",
      "Metric train_loss improved by 0.035 >= min_delta = 0.001. New best score: -1.143\n",
      "Metric train_loss improved by 0.088 >= min_delta = 0.001. New best score: -1.231\n",
      "Metric train_loss improved by 0.139 >= min_delta = 0.001. New best score: -1.370\n",
      "Metric train_loss improved by 0.111 >= min_delta = 0.001. New best score: -1.481\n",
      "Metric train_loss improved by 0.050 >= min_delta = 0.001. New best score: -1.532\n",
      "Metric train_loss improved by 0.094 >= min_delta = 0.001. New best score: -1.626\n",
      "Metric train_loss improved by 0.020 >= min_delta = 0.001. New best score: -1.646\n",
      "Metric train_loss improved by 0.088 >= min_delta = 0.001. New best score: -1.735\n",
      "Metric train_loss improved by 0.053 >= min_delta = 0.001. New best score: -1.788\n",
      "Metric train_loss improved by 0.046 >= min_delta = 0.001. New best score: -1.833\n",
      "Metric train_loss improved by 0.072 >= min_delta = 0.001. New best score: -1.905\n",
      "Metric train_loss improved by 0.104 >= min_delta = 0.001. New best score: -2.009\n",
      "Metric train_loss improved by 0.082 >= min_delta = 0.001. New best score: -2.091\n",
      "Metric train_loss improved by 0.069 >= min_delta = 0.001. New best score: -2.160\n",
      "Metric train_loss improved by 0.114 >= min_delta = 0.001. New best score: -2.274\n",
      "Metric train_loss improved by 0.005 >= min_delta = 0.001. New best score: -2.280\n",
      "Metric train_loss improved by 0.012 >= min_delta = 0.001. New best score: -2.291\n",
      "Metric train_loss improved by 0.021 >= min_delta = 0.001. New best score: -2.312\n",
      "Metric train_loss improved by 0.010 >= min_delta = 0.001. New best score: -2.322\n",
      "Metric train_loss improved by 0.013 >= min_delta = 0.001. New best score: -2.335\n",
      "Metric train_loss improved by 0.139 >= min_delta = 0.001. New best score: -2.474\n",
      "Metric train_loss improved by 0.040 >= min_delta = 0.001. New best score: -2.514\n",
      "Metric train_loss improved by 0.025 >= min_delta = 0.001. New best score: -2.539\n",
      "Metric train_loss improved by 0.026 >= min_delta = 0.001. New best score: -2.565\n",
      "Metric train_loss improved by 0.040 >= min_delta = 0.001. New best score: -2.605\n",
      "Metric train_loss improved by 0.015 >= min_delta = 0.001. New best score: -2.621\n",
      "Metric train_loss improved by 0.111 >= min_delta = 0.001. New best score: -2.732\n",
      "Metric train_loss improved by 0.023 >= min_delta = 0.001. New best score: -2.754\n",
      "Metric train_loss improved by 0.089 >= min_delta = 0.001. New best score: -2.843\n",
      "Metric train_loss improved by 0.032 >= min_delta = 0.001. New best score: -2.875\n",
      "Metric train_loss improved by 0.035 >= min_delta = 0.001. New best score: -2.910\n",
      "Metric train_loss improved by 0.013 >= min_delta = 0.001. New best score: -2.923\n",
      "Metric train_loss improved by 0.020 >= min_delta = 0.001. New best score: -2.943\n",
      "Metric train_loss improved by 0.092 >= min_delta = 0.001. New best score: -3.035\n",
      "Metric train_loss improved by 0.001 >= min_delta = 0.001. New best score: -3.036\n",
      "Metric train_loss improved by 0.003 >= min_delta = 0.001. New best score: -3.040\n",
      "Metric train_loss improved by 0.044 >= min_delta = 0.001. New best score: -3.084\n",
      "Metric train_loss improved by 0.107 >= min_delta = 0.001. New best score: -3.190\n",
      "Monitored metric train_loss did not improve in the last 25 records. Best score: -3.190. Signaling Trainer to stop.\n",
      "GPU available: False, used: False\n",
      "TPU available: False, using: 0 TPU cores\n",
      "HPU available: False, using: 0 HPUs\n"
     ]
    },
    {
     "data": {
      "application/vnd.jupyter.widget-view+json": {
       "model_id": "a2e5662d97ee40eaa8b983cac4ecffd7",
       "version_major": 2,
       "version_minor": 0
      },
      "text/plain": [
       "Predicting: |          | 0/? [00:00<?, ?it/s]"
      ]
     },
     "metadata": {},
     "output_type": "display_data"
    },
    {
     "name": "stderr",
     "output_type": "stream",
     "text": [
      "\u001b[32m[I 2025-06-13 23:30:25,762]\u001b[0m Trial 6 finished with value: 0.0320260388661131 and parameters: {'hidden_dim': 64, 'n_rnn_layers': 2, 'dropout': 0.14561096497148948, 'batch_size': 40}. Best is trial 3 with value: 0.03187830002730261.\u001b[0m\n",
      "ignoring user defined `output_chunk_length`. RNNModel uses a fixed `output_chunk_length=1`.\n",
      "GPU available: False, used: False\n",
      "TPU available: False, using: 0 TPU cores\n",
      "HPU available: False, using: 0 HPUs\n",
      "\n",
      "  | Name            | Type             | Params | Mode \n",
      "-------------------------------------------------------------\n",
      "0 | criterion       | MSELoss          | 0      | train\n",
      "1 | train_criterion | MSELoss          | 0      | train\n",
      "2 | val_criterion   | MSELoss          | 0      | train\n",
      "3 | train_metrics   | MetricCollection | 0      | train\n",
      "4 | val_metrics     | MetricCollection | 0      | train\n",
      "5 | rnn             | LSTM             | 1.3 M  | train\n",
      "6 | V               | Linear           | 384    | train\n",
      "-------------------------------------------------------------\n",
      "1.3 M     Trainable params\n",
      "0         Non-trainable params\n",
      "1.3 M     Total params\n",
      "5.383     Total estimated model params size (MB)\n"
     ]
    },
    {
     "name": "stdout",
     "output_type": "stream",
     "text": [
      "Executando trial #7\n"
     ]
    },
    {
     "data": {
      "application/vnd.jupyter.widget-view+json": {
       "model_id": "32ab6b877f5149a89543674e3791ea7b",
       "version_major": 2,
       "version_minor": 0
      },
      "text/plain": [
       "Training: |          | 0/? [00:00<?, ?it/s]"
      ]
     },
     "metadata": {},
     "output_type": "display_data"
    },
    {
     "name": "stderr",
     "output_type": "stream",
     "text": [
      "Metric train_loss improved. New best score: -0.090\n",
      "Metric train_loss improved by 0.427 >= min_delta = 0.001. New best score: -0.517\n",
      "Metric train_loss improved by 0.132 >= min_delta = 0.001. New best score: -0.649\n",
      "Metric train_loss improved by 0.030 >= min_delta = 0.001. New best score: -0.678\n",
      "Metric train_loss improved by 0.029 >= min_delta = 0.001. New best score: -0.707\n",
      "Metric train_loss improved by 0.020 >= min_delta = 0.001. New best score: -0.728\n",
      "Metric train_loss improved by 0.025 >= min_delta = 0.001. New best score: -0.752\n",
      "Metric train_loss improved by 0.023 >= min_delta = 0.001. New best score: -0.775\n",
      "Metric train_loss improved by 0.022 >= min_delta = 0.001. New best score: -0.797\n",
      "Metric train_loss improved by 0.092 >= min_delta = 0.001. New best score: -0.890\n",
      "Monitored metric train_loss did not improve in the last 25 records. Best score: -0.890. Signaling Trainer to stop.\n",
      "GPU available: False, used: False\n",
      "TPU available: False, using: 0 TPU cores\n",
      "HPU available: False, using: 0 HPUs\n"
     ]
    },
    {
     "data": {
      "application/vnd.jupyter.widget-view+json": {
       "model_id": "9a9184f659a942bda9e9d54f624d9ee8",
       "version_major": 2,
       "version_minor": 0
      },
      "text/plain": [
       "Predicting: |          | 0/? [00:00<?, ?it/s]"
      ]
     },
     "metadata": {},
     "output_type": "display_data"
    },
    {
     "name": "stderr",
     "output_type": "stream",
     "text": [
      "\u001b[32m[I 2025-06-13 23:41:03,499]\u001b[0m Trial 7 finished with value: 0.04523367772391693 and parameters: {'hidden_dim': 191, 'n_rnn_layers': 5, 'dropout': 0.12248872028403564, 'batch_size': 46}. Best is trial 3 with value: 0.03187830002730261.\u001b[0m\n",
      "ignoring user defined `output_chunk_length`. RNNModel uses a fixed `output_chunk_length=1`.\n",
      "GPU available: False, used: False\n",
      "TPU available: False, using: 0 TPU cores\n",
      "HPU available: False, using: 0 HPUs\n",
      "\n",
      "  | Name            | Type             | Params | Mode \n",
      "-------------------------------------------------------------\n",
      "0 | criterion       | MSELoss          | 0      | train\n",
      "1 | train_criterion | MSELoss          | 0      | train\n",
      "2 | val_criterion   | MSELoss          | 0      | train\n",
      "3 | train_metrics   | MetricCollection | 0      | train\n",
      "4 | val_metrics     | MetricCollection | 0      | train\n",
      "5 | rnn             | LSTM             | 516 K  | train\n",
      "6 | V               | Linear           | 268    | train\n",
      "-------------------------------------------------------------\n",
      "516 K     Trainable params\n",
      "0         Non-trainable params\n",
      "516 K     Total params\n",
      "2.067     Total estimated model params size (MB)\n"
     ]
    },
    {
     "name": "stdout",
     "output_type": "stream",
     "text": [
      "Executando trial #8\n"
     ]
    },
    {
     "data": {
      "application/vnd.jupyter.widget-view+json": {
       "model_id": "3dd7b3d124bf47389364d3f8fa10b9be",
       "version_major": 2,
       "version_minor": 0
      },
      "text/plain": [
       "Training: |          | 0/? [00:00<?, ?it/s]"
      ]
     },
     "metadata": {},
     "output_type": "display_data"
    },
    {
     "name": "stderr",
     "output_type": "stream",
     "text": [
      "Metric train_loss improved. New best score: -0.493\n",
      "Metric train_loss improved by 0.110 >= min_delta = 0.001. New best score: -0.603\n",
      "Metric train_loss improved by 0.106 >= min_delta = 0.001. New best score: -0.709\n",
      "Metric train_loss improved by 0.016 >= min_delta = 0.001. New best score: -0.725\n",
      "Metric train_loss improved by 0.069 >= min_delta = 0.001. New best score: -0.795\n",
      "Metric train_loss improved by 0.042 >= min_delta = 0.001. New best score: -0.837\n",
      "Monitored metric train_loss did not improve in the last 25 records. Best score: -0.837. Signaling Trainer to stop.\n",
      "GPU available: False, used: False\n",
      "TPU available: False, using: 0 TPU cores\n",
      "HPU available: False, using: 0 HPUs\n"
     ]
    },
    {
     "data": {
      "application/vnd.jupyter.widget-view+json": {
       "model_id": "a90c38cda9f747c7883584ecc0508296",
       "version_major": 2,
       "version_minor": 0
      },
      "text/plain": [
       "Predicting: |          | 0/? [00:00<?, ?it/s]"
      ]
     },
     "metadata": {},
     "output_type": "display_data"
    },
    {
     "name": "stderr",
     "output_type": "stream",
     "text": [
      "\u001b[32m[I 2025-06-13 23:45:04,297]\u001b[0m Trial 8 finished with value: 0.03671419017860548 and parameters: {'hidden_dim': 133, 'n_rnn_layers': 4, 'dropout': 0.1612942280095048, 'batch_size': 42}. Best is trial 3 with value: 0.03187830002730261.\u001b[0m\n",
      "ignoring user defined `output_chunk_length`. RNNModel uses a fixed `output_chunk_length=1`.\n",
      "GPU available: False, used: False\n",
      "TPU available: False, using: 0 TPU cores\n",
      "HPU available: False, using: 0 HPUs\n",
      "\n",
      "  | Name            | Type             | Params | Mode \n",
      "-------------------------------------------------------------\n",
      "0 | criterion       | MSELoss          | 0      | train\n",
      "1 | train_criterion | MSELoss          | 0      | train\n",
      "2 | val_criterion   | MSELoss          | 0      | train\n",
      "3 | train_metrics   | MetricCollection | 0      | train\n",
      "4 | val_metrics     | MetricCollection | 0      | train\n",
      "5 | rnn             | LSTM             | 1.7 M  | train\n",
      "6 | V               | Linear           | 388    | train\n",
      "-------------------------------------------------------------\n",
      "1.7 M     Trainable params\n",
      "0         Non-trainable params\n",
      "1.7 M     Total params\n",
      "6.693     Total estimated model params size (MB)\n"
     ]
    },
    {
     "name": "stdout",
     "output_type": "stream",
     "text": [
      "Executando trial #9\n"
     ]
    },
    {
     "data": {
      "application/vnd.jupyter.widget-view+json": {
       "model_id": "00f563294e714b6c83784c2c198a3d35",
       "version_major": 2,
       "version_minor": 0
      },
      "text/plain": [
       "Training: |          | 0/? [00:00<?, ?it/s]"
      ]
     },
     "metadata": {},
     "output_type": "display_data"
    },
    {
     "name": "stderr",
     "output_type": "stream",
     "text": [
      "Metric train_loss improved. New best score: 1.950\n",
      "Metric train_loss improved by 1.475 >= min_delta = 0.001. New best score: 0.476\n",
      "Metric train_loss improved by 1.020 >= min_delta = 0.001. New best score: -0.545\n",
      "Metric train_loss improved by 0.072 >= min_delta = 0.001. New best score: -0.616\n",
      "Metric train_loss improved by 0.057 >= min_delta = 0.001. New best score: -0.674\n",
      "Metric train_loss improved by 0.020 >= min_delta = 0.001. New best score: -0.693\n",
      "Metric train_loss improved by 0.024 >= min_delta = 0.001. New best score: -0.717\n",
      "Metric train_loss improved by 0.005 >= min_delta = 0.001. New best score: -0.722\n",
      "Monitored metric train_loss did not improve in the last 25 records. Best score: -0.722. Signaling Trainer to stop.\n",
      "GPU available: False, used: False\n",
      "TPU available: False, using: 0 TPU cores\n",
      "HPU available: False, using: 0 HPUs\n"
     ]
    },
    {
     "data": {
      "application/vnd.jupyter.widget-view+json": {
       "model_id": "a62ea332016b44eca4d547166f658f8f",
       "version_major": 2,
       "version_minor": 0
      },
      "text/plain": [
       "Predicting: |          | 0/? [00:00<?, ?it/s]"
      ]
     },
     "metadata": {},
     "output_type": "display_data"
    },
    {
     "name": "stderr",
     "output_type": "stream",
     "text": [
      "\u001b[32m[I 2025-06-13 23:53:17,164]\u001b[0m Trial 9 finished with value: 0.035831112958796915 and parameters: {'hidden_dim': 193, 'n_rnn_layers': 6, 'dropout': 0.14842944715663117, 'batch_size': 51}. Best is trial 3 with value: 0.03187830002730261.\u001b[0m\n",
      "ignoring user defined `output_chunk_length`. RNNModel uses a fixed `output_chunk_length=1`.\n",
      "C:\\Users\\aliss_u3voar7\\anaconda3\\Lib\\site-packages\\torch\\nn\\modules\\rnn.py:83: UserWarning: dropout option adds dropout after all but last recurrent layer, so non-zero dropout expects num_layers greater than 1, but got dropout=0.10190085861075984 and num_layers=1\n",
      "  warnings.warn(\"dropout option adds dropout after all but last \"\n",
      "GPU available: False, used: False\n",
      "TPU available: False, using: 0 TPU cores\n",
      "HPU available: False, using: 0 HPUs\n",
      "\n",
      "  | Name            | Type             | Params | Mode \n",
      "-------------------------------------------------------------\n",
      "0 | criterion       | MSELoss          | 0      | train\n",
      "1 | train_criterion | MSELoss          | 0      | train\n",
      "2 | val_criterion   | MSELoss          | 0      | train\n",
      "3 | train_metrics   | MetricCollection | 0      | train\n",
      "4 | val_metrics     | MetricCollection | 0      | train\n",
      "5 | rnn             | LSTM             | 30.5 K | train\n",
      "6 | V               | Linear           | 146    | train\n",
      "-------------------------------------------------------------\n",
      "30.7 K    Trainable params\n",
      "0         Non-trainable params\n",
      "30.7 K    Total params\n",
      "0.123     Total estimated model params size (MB)\n"
     ]
    },
    {
     "name": "stdout",
     "output_type": "stream",
     "text": [
      "Executando trial #10\n"
     ]
    },
    {
     "data": {
      "application/vnd.jupyter.widget-view+json": {
       "model_id": "f204dc75152c4db5be7c2c7c30aba0cd",
       "version_major": 2,
       "version_minor": 0
      },
      "text/plain": [
       "Training: |          | 0/? [00:00<?, ?it/s]"
      ]
     },
     "metadata": {},
     "output_type": "display_data"
    },
    {
     "name": "stderr",
     "output_type": "stream",
     "text": [
      "Metric train_loss improved. New best score: -0.111\n",
      "Metric train_loss improved by 0.502 >= min_delta = 0.001. New best score: -0.612\n",
      "Metric train_loss improved by 0.236 >= min_delta = 0.001. New best score: -0.849\n",
      "Metric train_loss improved by 0.033 >= min_delta = 0.001. New best score: -0.881\n",
      "Metric train_loss improved by 0.055 >= min_delta = 0.001. New best score: -0.937\n",
      "Metric train_loss improved by 0.019 >= min_delta = 0.001. New best score: -0.956\n",
      "Metric train_loss improved by 0.042 >= min_delta = 0.001. New best score: -0.998\n",
      "Metric train_loss improved by 0.019 >= min_delta = 0.001. New best score: -1.017\n",
      "Metric train_loss improved by 0.008 >= min_delta = 0.001. New best score: -1.025\n",
      "Metric train_loss improved by 0.040 >= min_delta = 0.001. New best score: -1.065\n",
      "Metric train_loss improved by 0.025 >= min_delta = 0.001. New best score: -1.089\n",
      "Metric train_loss improved by 0.034 >= min_delta = 0.001. New best score: -1.123\n",
      "Metric train_loss improved by 0.020 >= min_delta = 0.001. New best score: -1.143\n",
      "Metric train_loss improved by 0.043 >= min_delta = 0.001. New best score: -1.186\n",
      "Metric train_loss improved by 0.048 >= min_delta = 0.001. New best score: -1.234\n",
      "Metric train_loss improved by 0.034 >= min_delta = 0.001. New best score: -1.267\n",
      "Metric train_loss improved by 0.021 >= min_delta = 0.001. New best score: -1.289\n",
      "Metric train_loss improved by 0.151 >= min_delta = 0.001. New best score: -1.440\n",
      "Metric train_loss improved by 0.002 >= min_delta = 0.001. New best score: -1.442\n",
      "Metric train_loss improved by 0.074 >= min_delta = 0.001. New best score: -1.516\n",
      "Metric train_loss improved by 0.009 >= min_delta = 0.001. New best score: -1.526\n",
      "Metric train_loss improved by 0.108 >= min_delta = 0.001. New best score: -1.634\n",
      "Metric train_loss improved by 0.020 >= min_delta = 0.001. New best score: -1.654\n",
      "Metric train_loss improved by 0.101 >= min_delta = 0.001. New best score: -1.754\n",
      "Metric train_loss improved by 0.080 >= min_delta = 0.001. New best score: -1.834\n",
      "Metric train_loss improved by 0.109 >= min_delta = 0.001. New best score: -1.943\n",
      "Metric train_loss improved by 0.121 >= min_delta = 0.001. New best score: -2.064\n",
      "Metric train_loss improved by 0.014 >= min_delta = 0.001. New best score: -2.078\n",
      "Metric train_loss improved by 0.036 >= min_delta = 0.001. New best score: -2.114\n",
      "Metric train_loss improved by 0.028 >= min_delta = 0.001. New best score: -2.141\n",
      "Metric train_loss improved by 0.054 >= min_delta = 0.001. New best score: -2.196\n",
      "Metric train_loss improved by 0.137 >= min_delta = 0.001. New best score: -2.332\n",
      "Metric train_loss improved by 0.025 >= min_delta = 0.001. New best score: -2.357\n",
      "Metric train_loss improved by 0.056 >= min_delta = 0.001. New best score: -2.413\n",
      "Metric train_loss improved by 0.042 >= min_delta = 0.001. New best score: -2.455\n",
      "Metric train_loss improved by 0.004 >= min_delta = 0.001. New best score: -2.459\n",
      "Metric train_loss improved by 0.016 >= min_delta = 0.001. New best score: -2.475\n",
      "Metric train_loss improved by 0.081 >= min_delta = 0.001. New best score: -2.556\n",
      "Metric train_loss improved by 0.020 >= min_delta = 0.001. New best score: -2.576\n",
      "Metric train_loss improved by 0.059 >= min_delta = 0.001. New best score: -2.635\n",
      "Metric train_loss improved by 0.004 >= min_delta = 0.001. New best score: -2.639\n",
      "Metric train_loss improved by 0.007 >= min_delta = 0.001. New best score: -2.646\n",
      "Metric train_loss improved by 0.012 >= min_delta = 0.001. New best score: -2.657\n",
      "Metric train_loss improved by 0.036 >= min_delta = 0.001. New best score: -2.694\n",
      "Metric train_loss improved by 0.005 >= min_delta = 0.001. New best score: -2.699\n",
      "Metric train_loss improved by 0.063 >= min_delta = 0.001. New best score: -2.762\n",
      "Metric train_loss improved by 0.013 >= min_delta = 0.001. New best score: -2.774\n",
      "Metric train_loss improved by 0.034 >= min_delta = 0.001. New best score: -2.809\n",
      "Metric train_loss improved by 0.114 >= min_delta = 0.001. New best score: -2.923\n",
      "Metric train_loss improved by 0.073 >= min_delta = 0.001. New best score: -2.996\n",
      "Monitored metric train_loss did not improve in the last 25 records. Best score: -2.996. Signaling Trainer to stop.\n",
      "GPU available: False, used: False\n",
      "TPU available: False, using: 0 TPU cores\n",
      "HPU available: False, using: 0 HPUs\n"
     ]
    },
    {
     "data": {
      "application/vnd.jupyter.widget-view+json": {
       "model_id": "d7a697b010e741baaf75a7bcfba55bac",
       "version_major": 2,
       "version_minor": 0
      },
      "text/plain": [
       "Predicting: |          | 0/? [00:00<?, ?it/s]"
      ]
     },
     "metadata": {},
     "output_type": "display_data"
    },
    {
     "name": "stderr",
     "output_type": "stream",
     "text": [
      "\u001b[32m[I 2025-06-13 23:56:28,119]\u001b[0m Trial 10 finished with value: 0.030735673190536803 and parameters: {'hidden_dim': 72, 'n_rnn_layers': 1, 'dropout': 0.10190085861075984, 'batch_size': 60}. Best is trial 10 with value: 0.030735673190536803.\u001b[0m\n",
      "ignoring user defined `output_chunk_length`. RNNModel uses a fixed `output_chunk_length=1`.\n",
      "C:\\Users\\aliss_u3voar7\\anaconda3\\Lib\\site-packages\\torch\\nn\\modules\\rnn.py:83: UserWarning: dropout option adds dropout after all but last recurrent layer, so non-zero dropout expects num_layers greater than 1, but got dropout=0.19167233482343032 and num_layers=1\n",
      "  warnings.warn(\"dropout option adds dropout after all but last \"\n",
      "GPU available: False, used: False\n",
      "TPU available: False, using: 0 TPU cores\n",
      "HPU available: False, using: 0 HPUs\n",
      "\n",
      "  | Name            | Type             | Params | Mode \n",
      "-------------------------------------------------------------\n",
      "0 | criterion       | MSELoss          | 0      | train\n",
      "1 | train_criterion | MSELoss          | 0      | train\n",
      "2 | val_criterion   | MSELoss          | 0      | train\n",
      "3 | train_metrics   | MetricCollection | 0      | train\n",
      "4 | val_metrics     | MetricCollection | 0      | train\n",
      "5 | rnn             | LSTM             | 18.4 K | train\n",
      "6 | V               | Linear           | 108    | train\n",
      "-------------------------------------------------------------\n",
      "18.6 K    Trainable params\n",
      "0         Non-trainable params\n",
      "18.6 K    Total params\n",
      "0.074     Total estimated model params size (MB)\n"
     ]
    },
    {
     "name": "stdout",
     "output_type": "stream",
     "text": [
      "Executando trial #11\n"
     ]
    },
    {
     "data": {
      "application/vnd.jupyter.widget-view+json": {
       "model_id": "857f43d42510470b923d5158ba302c58",
       "version_major": 2,
       "version_minor": 0
      },
      "text/plain": [
       "Training: |          | 0/? [00:00<?, ?it/s]"
      ]
     },
     "metadata": {},
     "output_type": "display_data"
    },
    {
     "name": "stderr",
     "output_type": "stream",
     "text": [
      "Metric train_loss improved. New best score: -0.107\n",
      "Metric train_loss improved by 0.387 >= min_delta = 0.001. New best score: -0.494\n",
      "Metric train_loss improved by 0.272 >= min_delta = 0.001. New best score: -0.765\n",
      "Metric train_loss improved by 0.060 >= min_delta = 0.001. New best score: -0.825\n",
      "Metric train_loss improved by 0.077 >= min_delta = 0.001. New best score: -0.902\n",
      "Metric train_loss improved by 0.036 >= min_delta = 0.001. New best score: -0.939\n",
      "Metric train_loss improved by 0.052 >= min_delta = 0.001. New best score: -0.991\n",
      "Metric train_loss improved by 0.074 >= min_delta = 0.001. New best score: -1.065\n",
      "Metric train_loss improved by 0.035 >= min_delta = 0.001. New best score: -1.100\n",
      "Metric train_loss improved by 0.046 >= min_delta = 0.001. New best score: -1.147\n",
      "Metric train_loss improved by 0.170 >= min_delta = 0.001. New best score: -1.316\n",
      "Metric train_loss improved by 0.044 >= min_delta = 0.001. New best score: -1.361\n",
      "Metric train_loss improved by 0.053 >= min_delta = 0.001. New best score: -1.413\n",
      "Metric train_loss improved by 0.029 >= min_delta = 0.001. New best score: -1.442\n",
      "Metric train_loss improved by 0.075 >= min_delta = 0.001. New best score: -1.517\n",
      "Metric train_loss improved by 0.014 >= min_delta = 0.001. New best score: -1.531\n",
      "Metric train_loss improved by 0.017 >= min_delta = 0.001. New best score: -1.548\n",
      "Metric train_loss improved by 0.175 >= min_delta = 0.001. New best score: -1.723\n",
      "Metric train_loss improved by 0.212 >= min_delta = 0.001. New best score: -1.935\n",
      "Metric train_loss improved by 0.122 >= min_delta = 0.001. New best score: -2.057\n",
      "Metric train_loss improved by 0.031 >= min_delta = 0.001. New best score: -2.088\n",
      "Metric train_loss improved by 0.010 >= min_delta = 0.001. New best score: -2.099\n",
      "Metric train_loss improved by 0.066 >= min_delta = 0.001. New best score: -2.165\n",
      "Metric train_loss improved by 0.038 >= min_delta = 0.001. New best score: -2.202\n",
      "Metric train_loss improved by 0.181 >= min_delta = 0.001. New best score: -2.383\n",
      "Metric train_loss improved by 0.093 >= min_delta = 0.001. New best score: -2.476\n",
      "Metric train_loss improved by 0.083 >= min_delta = 0.001. New best score: -2.559\n",
      "Metric train_loss improved by 0.011 >= min_delta = 0.001. New best score: -2.570\n",
      "Metric train_loss improved by 0.017 >= min_delta = 0.001. New best score: -2.587\n",
      "Metric train_loss improved by 0.097 >= min_delta = 0.001. New best score: -2.684\n",
      "Metric train_loss improved by 0.155 >= min_delta = 0.001. New best score: -2.839\n",
      "Metric train_loss improved by 0.061 >= min_delta = 0.001. New best score: -2.900\n",
      "Metric train_loss improved by 0.013 >= min_delta = 0.001. New best score: -2.913\n",
      "Metric train_loss improved by 0.038 >= min_delta = 0.001. New best score: -2.952\n",
      "Metric train_loss improved by 0.048 >= min_delta = 0.001. New best score: -3.000\n",
      "Metric train_loss improved by 0.064 >= min_delta = 0.001. New best score: -3.064\n",
      "Monitored metric train_loss did not improve in the last 25 records. Best score: -3.064. Signaling Trainer to stop.\n",
      "GPU available: False, used: False\n",
      "TPU available: False, using: 0 TPU cores\n",
      "HPU available: False, using: 0 HPUs\n"
     ]
    },
    {
     "data": {
      "application/vnd.jupyter.widget-view+json": {
       "model_id": "ef6777d664f4432b94ac9cd78d4547a5",
       "version_major": 2,
       "version_minor": 0
      },
      "text/plain": [
       "Predicting: |          | 0/? [00:00<?, ?it/s]"
      ]
     },
     "metadata": {},
     "output_type": "display_data"
    },
    {
     "name": "stderr",
     "output_type": "stream",
     "text": [
      "\u001b[32m[I 2025-06-13 23:59:43,776]\u001b[0m Trial 11 finished with value: 0.027707122681565766 and parameters: {'hidden_dim': 53, 'n_rnn_layers': 1, 'dropout': 0.19167233482343032, 'batch_size': 62}. Best is trial 11 with value: 0.027707122681565766.\u001b[0m\n",
      "ignoring user defined `output_chunk_length`. RNNModel uses a fixed `output_chunk_length=1`.\n",
      "C:\\Users\\aliss_u3voar7\\anaconda3\\Lib\\site-packages\\torch\\nn\\modules\\rnn.py:83: UserWarning: dropout option adds dropout after all but last recurrent layer, so non-zero dropout expects num_layers greater than 1, but got dropout=0.18880130796289468 and num_layers=1\n",
      "  warnings.warn(\"dropout option adds dropout after all but last \"\n",
      "GPU available: False, used: False\n",
      "TPU available: False, using: 0 TPU cores\n",
      "HPU available: False, using: 0 HPUs\n",
      "\n",
      "  | Name            | Type             | Params | Mode \n",
      "-------------------------------------------------------------\n",
      "0 | criterion       | MSELoss          | 0      | train\n",
      "1 | train_criterion | MSELoss          | 0      | train\n",
      "2 | val_criterion   | MSELoss          | 0      | train\n",
      "3 | train_metrics   | MetricCollection | 0      | train\n",
      "4 | val_metrics     | MetricCollection | 0      | train\n",
      "5 | rnn             | LSTM             | 39.6 K | train\n",
      "6 | V               | Linear           | 170    | train\n",
      "-------------------------------------------------------------\n",
      "39.8 K    Trainable params\n",
      "0         Non-trainable params\n",
      "39.8 K    Total params\n",
      "0.159     Total estimated model params size (MB)\n"
     ]
    },
    {
     "name": "stdout",
     "output_type": "stream",
     "text": [
      "Executando trial #12\n"
     ]
    },
    {
     "data": {
      "application/vnd.jupyter.widget-view+json": {
       "model_id": "09ea19a52a5c4b97afc64a1fbc4e8ec9",
       "version_major": 2,
       "version_minor": 0
      },
      "text/plain": [
       "Training: |          | 0/? [00:00<?, ?it/s]"
      ]
     },
     "metadata": {},
     "output_type": "display_data"
    },
    {
     "name": "stderr",
     "output_type": "stream",
     "text": [
      "Metric train_loss improved. New best score: 0.606\n",
      "Metric train_loss improved by 1.032 >= min_delta = 0.001. New best score: -0.426\n",
      "Metric train_loss improved by 0.146 >= min_delta = 0.001. New best score: -0.571\n",
      "Metric train_loss improved by 0.008 >= min_delta = 0.001. New best score: -0.579\n",
      "Metric train_loss improved by 0.120 >= min_delta = 0.001. New best score: -0.699\n",
      "Metric train_loss improved by 0.018 >= min_delta = 0.001. New best score: -0.717\n",
      "Metric train_loss improved by 0.095 >= min_delta = 0.001. New best score: -0.812\n",
      "Metric train_loss improved by 0.009 >= min_delta = 0.001. New best score: -0.821\n",
      "Metric train_loss improved by 0.034 >= min_delta = 0.001. New best score: -0.855\n",
      "Metric train_loss improved by 0.037 >= min_delta = 0.001. New best score: -0.892\n",
      "Metric train_loss improved by 0.022 >= min_delta = 0.001. New best score: -0.914\n",
      "Metric train_loss improved by 0.038 >= min_delta = 0.001. New best score: -0.952\n",
      "Metric train_loss improved by 0.048 >= min_delta = 0.001. New best score: -1.000\n",
      "Metric train_loss improved by 0.046 >= min_delta = 0.001. New best score: -1.046\n",
      "Metric train_loss improved by 0.026 >= min_delta = 0.001. New best score: -1.072\n",
      "Metric train_loss improved by 0.006 >= min_delta = 0.001. New best score: -1.078\n",
      "Metric train_loss improved by 0.055 >= min_delta = 0.001. New best score: -1.133\n",
      "Metric train_loss improved by 0.046 >= min_delta = 0.001. New best score: -1.179\n",
      "Metric train_loss improved by 0.057 >= min_delta = 0.001. New best score: -1.235\n",
      "Metric train_loss improved by 0.027 >= min_delta = 0.001. New best score: -1.262\n",
      "Metric train_loss improved by 0.090 >= min_delta = 0.001. New best score: -1.352\n",
      "Metric train_loss improved by 0.047 >= min_delta = 0.001. New best score: -1.400\n",
      "Metric train_loss improved by 0.012 >= min_delta = 0.001. New best score: -1.411\n",
      "Metric train_loss improved by 0.042 >= min_delta = 0.001. New best score: -1.453\n",
      "Metric train_loss improved by 0.006 >= min_delta = 0.001. New best score: -1.459\n",
      "Metric train_loss improved by 0.016 >= min_delta = 0.001. New best score: -1.475\n",
      "Metric train_loss improved by 0.087 >= min_delta = 0.001. New best score: -1.563\n",
      "Metric train_loss improved by 0.115 >= min_delta = 0.001. New best score: -1.677\n",
      "Metric train_loss improved by 0.057 >= min_delta = 0.001. New best score: -1.734\n",
      "Metric train_loss improved by 0.022 >= min_delta = 0.001. New best score: -1.756\n",
      "Metric train_loss improved by 0.004 >= min_delta = 0.001. New best score: -1.760\n",
      "Metric train_loss improved by 0.053 >= min_delta = 0.001. New best score: -1.813\n",
      "Metric train_loss improved by 0.005 >= min_delta = 0.001. New best score: -1.817\n",
      "Metric train_loss improved by 0.055 >= min_delta = 0.001. New best score: -1.872\n",
      "Metric train_loss improved by 0.052 >= min_delta = 0.001. New best score: -1.925\n",
      "Metric train_loss improved by 0.003 >= min_delta = 0.001. New best score: -1.928\n",
      "Metric train_loss improved by 0.056 >= min_delta = 0.001. New best score: -1.984\n",
      "Metric train_loss improved by 0.049 >= min_delta = 0.001. New best score: -2.033\n",
      "Metric train_loss improved by 0.009 >= min_delta = 0.001. New best score: -2.041\n",
      "Metric train_loss improved by 0.007 >= min_delta = 0.001. New best score: -2.048\n",
      "Metric train_loss improved by 0.052 >= min_delta = 0.001. New best score: -2.101\n",
      "Metric train_loss improved by 0.027 >= min_delta = 0.001. New best score: -2.127\n",
      "Metric train_loss improved by 0.064 >= min_delta = 0.001. New best score: -2.192\n",
      "Metric train_loss improved by 0.057 >= min_delta = 0.001. New best score: -2.249\n",
      "Metric train_loss improved by 0.082 >= min_delta = 0.001. New best score: -2.331\n",
      "Metric train_loss improved by 0.059 >= min_delta = 0.001. New best score: -2.390\n",
      "Metric train_loss improved by 0.020 >= min_delta = 0.001. New best score: -2.410\n",
      "Metric train_loss improved by 0.030 >= min_delta = 0.001. New best score: -2.440\n",
      "Metric train_loss improved by 0.001 >= min_delta = 0.001. New best score: -2.441\n",
      "Metric train_loss improved by 0.120 >= min_delta = 0.001. New best score: -2.562\n",
      "Metric train_loss improved by 0.011 >= min_delta = 0.001. New best score: -2.573\n",
      "Metric train_loss improved by 0.018 >= min_delta = 0.001. New best score: -2.591\n",
      "Metric train_loss improved by 0.076 >= min_delta = 0.001. New best score: -2.668\n",
      "Metric train_loss improved by 0.009 >= min_delta = 0.001. New best score: -2.676\n",
      "Metric train_loss improved by 0.020 >= min_delta = 0.001. New best score: -2.697\n",
      "Metric train_loss improved by 0.104 >= min_delta = 0.001. New best score: -2.800\n",
      "Monitored metric train_loss did not improve in the last 25 records. Best score: -2.800. Signaling Trainer to stop.\n",
      "GPU available: False, used: False\n",
      "TPU available: False, using: 0 TPU cores\n",
      "HPU available: False, using: 0 HPUs\n"
     ]
    },
    {
     "data": {
      "application/vnd.jupyter.widget-view+json": {
       "model_id": "446377516e114f2786349f740157cca4",
       "version_major": 2,
       "version_minor": 0
      },
      "text/plain": [
       "Predicting: |          | 0/? [00:00<?, ?it/s]"
      ]
     },
     "metadata": {},
     "output_type": "display_data"
    },
    {
     "name": "stderr",
     "output_type": "stream",
     "text": [
      "\u001b[32m[I 2025-06-14 00:03:26,743]\u001b[0m Trial 12 finished with value: 0.028973289962909134 and parameters: {'hidden_dim': 84, 'n_rnn_layers': 1, 'dropout': 0.18880130796289468, 'batch_size': 63}. Best is trial 11 with value: 0.027707122681565766.\u001b[0m\n",
      "ignoring user defined `output_chunk_length`. RNNModel uses a fixed `output_chunk_length=1`.\n",
      "C:\\Users\\aliss_u3voar7\\anaconda3\\Lib\\site-packages\\torch\\nn\\modules\\rnn.py:83: UserWarning: dropout option adds dropout after all but last recurrent layer, so non-zero dropout expects num_layers greater than 1, but got dropout=0.19824661975714683 and num_layers=1\n",
      "  warnings.warn(\"dropout option adds dropout after all but last \"\n",
      "GPU available: False, used: False\n",
      "TPU available: False, using: 0 TPU cores\n",
      "HPU available: False, using: 0 HPUs\n",
      "\n",
      "  | Name            | Type             | Params | Mode \n",
      "-------------------------------------------------------------\n",
      "0 | criterion       | MSELoss          | 0      | train\n",
      "1 | train_criterion | MSELoss          | 0      | train\n",
      "2 | val_criterion   | MSELoss          | 0      | train\n",
      "3 | train_metrics   | MetricCollection | 0      | train\n",
      "4 | val_metrics     | MetricCollection | 0      | train\n",
      "5 | rnn             | LSTM             | 49.0 K | train\n",
      "6 | V               | Linear           | 192    | train\n",
      "-------------------------------------------------------------\n",
      "49.2 K    Trainable params\n",
      "0         Non-trainable params\n",
      "49.2 K    Total params\n",
      "0.197     Total estimated model params size (MB)\n"
     ]
    },
    {
     "name": "stdout",
     "output_type": "stream",
     "text": [
      "Executando trial #13\n"
     ]
    },
    {
     "data": {
      "application/vnd.jupyter.widget-view+json": {
       "model_id": "ad6ee6f059c84132b29d2d749da11d94",
       "version_major": 2,
       "version_minor": 0
      },
      "text/plain": [
       "Training: |          | 0/? [00:00<?, ?it/s]"
      ]
     },
     "metadata": {},
     "output_type": "display_data"
    },
    {
     "name": "stderr",
     "output_type": "stream",
     "text": [
      "Metric train_loss improved. New best score: 0.051\n",
      "Metric train_loss improved by 0.689 >= min_delta = 0.001. New best score: -0.638\n",
      "Metric train_loss improved by 0.091 >= min_delta = 0.001. New best score: -0.729\n",
      "Metric train_loss improved by 0.121 >= min_delta = 0.001. New best score: -0.850\n",
      "Metric train_loss improved by 0.005 >= min_delta = 0.001. New best score: -0.855\n",
      "Metric train_loss improved by 0.052 >= min_delta = 0.001. New best score: -0.907\n",
      "Metric train_loss improved by 0.035 >= min_delta = 0.001. New best score: -0.942\n",
      "Metric train_loss improved by 0.010 >= min_delta = 0.001. New best score: -0.952\n",
      "Metric train_loss improved by 0.005 >= min_delta = 0.001. New best score: -0.957\n",
      "Metric train_loss improved by 0.082 >= min_delta = 0.001. New best score: -1.038\n",
      "Metric train_loss improved by 0.017 >= min_delta = 0.001. New best score: -1.055\n",
      "Metric train_loss improved by 0.072 >= min_delta = 0.001. New best score: -1.127\n",
      "Metric train_loss improved by 0.022 >= min_delta = 0.001. New best score: -1.149\n",
      "Metric train_loss improved by 0.090 >= min_delta = 0.001. New best score: -1.240\n",
      "Metric train_loss improved by 0.102 >= min_delta = 0.001. New best score: -1.342\n",
      "Metric train_loss improved by 0.057 >= min_delta = 0.001. New best score: -1.399\n",
      "Metric train_loss improved by 0.079 >= min_delta = 0.001. New best score: -1.478\n",
      "Metric train_loss improved by 0.036 >= min_delta = 0.001. New best score: -1.514\n",
      "Metric train_loss improved by 0.031 >= min_delta = 0.001. New best score: -1.545\n",
      "Metric train_loss improved by 0.070 >= min_delta = 0.001. New best score: -1.615\n",
      "Metric train_loss improved by 0.166 >= min_delta = 0.001. New best score: -1.781\n",
      "Metric train_loss improved by 0.010 >= min_delta = 0.001. New best score: -1.792\n",
      "Metric train_loss improved by 0.066 >= min_delta = 0.001. New best score: -1.858\n",
      "Metric train_loss improved by 0.003 >= min_delta = 0.001. New best score: -1.860\n",
      "Metric train_loss improved by 0.039 >= min_delta = 0.001. New best score: -1.899\n",
      "Metric train_loss improved by 0.130 >= min_delta = 0.001. New best score: -2.030\n",
      "Metric train_loss improved by 0.161 >= min_delta = 0.001. New best score: -2.190\n",
      "Metric train_loss improved by 0.020 >= min_delta = 0.001. New best score: -2.210\n",
      "Metric train_loss improved by 0.019 >= min_delta = 0.001. New best score: -2.229\n",
      "Metric train_loss improved by 0.083 >= min_delta = 0.001. New best score: -2.312\n",
      "Metric train_loss improved by 0.014 >= min_delta = 0.001. New best score: -2.326\n",
      "Metric train_loss improved by 0.077 >= min_delta = 0.001. New best score: -2.403\n",
      "Metric train_loss improved by 0.089 >= min_delta = 0.001. New best score: -2.491\n",
      "Metric train_loss improved by 0.098 >= min_delta = 0.001. New best score: -2.589\n",
      "Metric train_loss improved by 0.017 >= min_delta = 0.001. New best score: -2.605\n",
      "Metric train_loss improved by 0.003 >= min_delta = 0.001. New best score: -2.608\n",
      "Metric train_loss improved by 0.058 >= min_delta = 0.001. New best score: -2.665\n",
      "Metric train_loss improved by 0.068 >= min_delta = 0.001. New best score: -2.733\n",
      "Metric train_loss improved by 0.041 >= min_delta = 0.001. New best score: -2.774\n",
      "Metric train_loss improved by 0.007 >= min_delta = 0.001. New best score: -2.781\n",
      "Metric train_loss improved by 0.135 >= min_delta = 0.001. New best score: -2.915\n",
      "Monitored metric train_loss did not improve in the last 25 records. Best score: -2.915. Signaling Trainer to stop.\n",
      "GPU available: False, used: False\n",
      "TPU available: False, using: 0 TPU cores\n",
      "HPU available: False, using: 0 HPUs\n"
     ]
    },
    {
     "data": {
      "application/vnd.jupyter.widget-view+json": {
       "model_id": "531120215a4745aeb4ecd4a503f123d4",
       "version_major": 2,
       "version_minor": 0
      },
      "text/plain": [
       "Predicting: |          | 0/? [00:00<?, ?it/s]"
      ]
     },
     "metadata": {},
     "output_type": "display_data"
    },
    {
     "name": "stderr",
     "output_type": "stream",
     "text": [
      "\u001b[32m[I 2025-06-14 00:06:27,646]\u001b[0m Trial 13 finished with value: 0.029729869359579303 and parameters: {'hidden_dim': 95, 'n_rnn_layers': 1, 'dropout': 0.19824661975714683, 'batch_size': 61}. Best is trial 11 with value: 0.027707122681565766.\u001b[0m\n",
      "ignoring user defined `output_chunk_length`. RNNModel uses a fixed `output_chunk_length=1`.\n",
      "GPU available: False, used: False\n",
      "TPU available: False, using: 0 TPU cores\n",
      "HPU available: False, using: 0 HPUs\n",
      "\n",
      "  | Name            | Type             | Params | Mode \n",
      "-------------------------------------------------------------\n",
      "0 | criterion       | MSELoss          | 0      | train\n",
      "1 | train_criterion | MSELoss          | 0      | train\n",
      "2 | val_criterion   | MSELoss          | 0      | train\n",
      "3 | train_metrics   | MetricCollection | 0      | train\n",
      "4 | val_metrics     | MetricCollection | 0      | train\n",
      "5 | rnn             | LSTM             | 314 K  | train\n",
      "6 | V               | Linear           | 314    | train\n",
      "-------------------------------------------------------------\n",
      "314 K     Trainable params\n",
      "0         Non-trainable params\n",
      "314 K     Total params\n",
      "1.259     Total estimated model params size (MB)\n"
     ]
    },
    {
     "name": "stdout",
     "output_type": "stream",
     "text": [
      "Executando trial #14\n"
     ]
    },
    {
     "data": {
      "application/vnd.jupyter.widget-view+json": {
       "model_id": "6eda2f67e7284ad594664f2067c2ea80",
       "version_major": 2,
       "version_minor": 0
      },
      "text/plain": [
       "Training: |          | 0/? [00:00<?, ?it/s]"
      ]
     },
     "metadata": {},
     "output_type": "display_data"
    },
    {
     "name": "stderr",
     "output_type": "stream",
     "text": [
      "Metric train_loss improved. New best score: -0.378\n",
      "Metric train_loss improved by 0.225 >= min_delta = 0.001. New best score: -0.603\n",
      "Metric train_loss improved by 0.089 >= min_delta = 0.001. New best score: -0.692\n",
      "Metric train_loss improved by 0.107 >= min_delta = 0.001. New best score: -0.799\n",
      "Metric train_loss improved by 0.016 >= min_delta = 0.001. New best score: -0.815\n",
      "Metric train_loss improved by 0.035 >= min_delta = 0.001. New best score: -0.849\n",
      "Metric train_loss improved by 0.043 >= min_delta = 0.001. New best score: -0.892\n",
      "Metric train_loss improved by 0.073 >= min_delta = 0.001. New best score: -0.965\n",
      "Metric train_loss improved by 0.016 >= min_delta = 0.001. New best score: -0.982\n",
      "Metric train_loss improved by 0.069 >= min_delta = 0.001. New best score: -1.050\n",
      "Metric train_loss improved by 0.037 >= min_delta = 0.001. New best score: -1.087\n",
      "Metric train_loss improved by 0.089 >= min_delta = 0.001. New best score: -1.176\n",
      "Metric train_loss improved by 0.075 >= min_delta = 0.001. New best score: -1.251\n",
      "Metric train_loss improved by 0.059 >= min_delta = 0.001. New best score: -1.310\n",
      "Metric train_loss improved by 0.007 >= min_delta = 0.001. New best score: -1.318\n",
      "Metric train_loss improved by 0.125 >= min_delta = 0.001. New best score: -1.443\n",
      "Metric train_loss improved by 0.046 >= min_delta = 0.001. New best score: -1.488\n",
      "Metric train_loss improved by 0.171 >= min_delta = 0.001. New best score: -1.659\n",
      "Metric train_loss improved by 0.058 >= min_delta = 0.001. New best score: -1.717\n",
      "Metric train_loss improved by 0.033 >= min_delta = 0.001. New best score: -1.750\n",
      "Metric train_loss improved by 0.270 >= min_delta = 0.001. New best score: -2.020\n",
      "Metric train_loss improved by 0.071 >= min_delta = 0.001. New best score: -2.091\n",
      "Metric train_loss improved by 0.004 >= min_delta = 0.001. New best score: -2.095\n",
      "Metric train_loss improved by 0.117 >= min_delta = 0.001. New best score: -2.213\n",
      "Metric train_loss improved by 0.102 >= min_delta = 0.001. New best score: -2.314\n",
      "Metric train_loss improved by 0.079 >= min_delta = 0.001. New best score: -2.393\n",
      "Metric train_loss improved by 0.084 >= min_delta = 0.001. New best score: -2.477\n",
      "Metric train_loss improved by 0.090 >= min_delta = 0.001. New best score: -2.567\n",
      "Metric train_loss improved by 0.005 >= min_delta = 0.001. New best score: -2.573\n",
      "Metric train_loss improved by 0.127 >= min_delta = 0.001. New best score: -2.699\n",
      "Metric train_loss improved by 0.079 >= min_delta = 0.001. New best score: -2.778\n",
      "Metric train_loss improved by 0.090 >= min_delta = 0.001. New best score: -2.868\n",
      "Metric train_loss improved by 0.029 >= min_delta = 0.001. New best score: -2.897\n",
      "Metric train_loss improved by 0.003 >= min_delta = 0.001. New best score: -2.900\n",
      "Metric train_loss improved by 0.057 >= min_delta = 0.001. New best score: -2.957\n",
      "Metric train_loss improved by 0.013 >= min_delta = 0.001. New best score: -2.971\n",
      "Metric train_loss improved by 0.022 >= min_delta = 0.001. New best score: -2.992\n",
      "Metric train_loss improved by 0.050 >= min_delta = 0.001. New best score: -3.042\n",
      "Metric train_loss improved by 0.092 >= min_delta = 0.001. New best score: -3.134\n",
      "Metric train_loss improved by 0.013 >= min_delta = 0.001. New best score: -3.147\n",
      "Metric train_loss improved by 0.004 >= min_delta = 0.001. New best score: -3.152\n",
      "Metric train_loss improved by 0.001 >= min_delta = 0.001. New best score: -3.153\n",
      "Metric train_loss improved by 0.042 >= min_delta = 0.001. New best score: -3.195\n",
      "Metric train_loss improved by 0.006 >= min_delta = 0.001. New best score: -3.200\n",
      "Metric train_loss improved by 0.092 >= min_delta = 0.001. New best score: -3.293\n",
      "Metric train_loss improved by 0.020 >= min_delta = 0.001. New best score: -3.313\n",
      "Metric train_loss improved by 0.098 >= min_delta = 0.001. New best score: -3.411\n",
      "Metric train_loss improved by 0.037 >= min_delta = 0.001. New best score: -3.448\n",
      "Monitored metric train_loss did not improve in the last 25 records. Best score: -3.448. Signaling Trainer to stop.\n",
      "GPU available: False, used: False\n",
      "TPU available: False, using: 0 TPU cores\n",
      "HPU available: False, using: 0 HPUs\n"
     ]
    },
    {
     "data": {
      "application/vnd.jupyter.widget-view+json": {
       "model_id": "c1dd0a87f6ea45c280ecc2d1e3f5ed13",
       "version_major": 2,
       "version_minor": 0
      },
      "text/plain": [
       "Predicting: |          | 0/? [00:00<?, ?it/s]"
      ]
     },
     "metadata": {},
     "output_type": "display_data"
    },
    {
     "name": "stderr",
     "output_type": "stream",
     "text": [
      "\u001b[32m[I 2025-06-14 00:14:18,489]\u001b[0m Trial 14 finished with value: 0.03189052726913571 and parameters: {'hidden_dim': 156, 'n_rnn_layers': 2, 'dropout': 0.19825636295145244, 'batch_size': 64}. Best is trial 11 with value: 0.027707122681565766.\u001b[0m\n",
      "ignoring user defined `output_chunk_length`. RNNModel uses a fixed `output_chunk_length=1`.\n",
      "GPU available: False, used: False\n",
      "TPU available: False, using: 0 TPU cores\n",
      "HPU available: False, using: 0 HPUs\n",
      "\n",
      "  | Name            | Type             | Params | Mode \n",
      "-------------------------------------------------------------\n",
      "0 | criterion       | MSELoss          | 0      | train\n",
      "1 | train_criterion | MSELoss          | 0      | train\n",
      "2 | val_criterion   | MSELoss          | 0      | train\n",
      "3 | train_metrics   | MetricCollection | 0      | train\n",
      "4 | val_metrics     | MetricCollection | 0      | train\n",
      "5 | rnn             | LSTM             | 110 K  | train\n",
      "6 | V               | Linear           | 182    | train\n",
      "-------------------------------------------------------------\n",
      "110 K     Trainable params\n",
      "0         Non-trainable params\n",
      "110 K     Total params\n",
      "0.441     Total estimated model params size (MB)\n"
     ]
    },
    {
     "name": "stdout",
     "output_type": "stream",
     "text": [
      "Executando trial #15\n"
     ]
    },
    {
     "data": {
      "application/vnd.jupyter.widget-view+json": {
       "model_id": "89f2b1c524984ddeaf3a06e411c8a215",
       "version_major": 2,
       "version_minor": 0
      },
      "text/plain": [
       "Training: |          | 0/? [00:00<?, ?it/s]"
      ]
     },
     "metadata": {},
     "output_type": "display_data"
    },
    {
     "name": "stderr",
     "output_type": "stream",
     "text": [
      "Metric train_loss improved. New best score: -0.044\n",
      "Metric train_loss improved by 0.617 >= min_delta = 0.001. New best score: -0.661\n",
      "Metric train_loss improved by 0.043 >= min_delta = 0.001. New best score: -0.703\n",
      "Metric train_loss improved by 0.027 >= min_delta = 0.001. New best score: -0.730\n",
      "Metric train_loss improved by 0.020 >= min_delta = 0.001. New best score: -0.750\n",
      "Metric train_loss improved by 0.062 >= min_delta = 0.001. New best score: -0.812\n",
      "Metric train_loss improved by 0.043 >= min_delta = 0.001. New best score: -0.855\n",
      "Metric train_loss improved by 0.008 >= min_delta = 0.001. New best score: -0.863\n",
      "Metric train_loss improved by 0.039 >= min_delta = 0.001. New best score: -0.903\n",
      "Metric train_loss improved by 0.051 >= min_delta = 0.001. New best score: -0.954\n",
      "Metric train_loss improved by 0.006 >= min_delta = 0.001. New best score: -0.960\n",
      "Metric train_loss improved by 0.045 >= min_delta = 0.001. New best score: -1.006\n",
      "Metric train_loss improved by 0.039 >= min_delta = 0.001. New best score: -1.045\n",
      "Metric train_loss improved by 0.041 >= min_delta = 0.001. New best score: -1.086\n",
      "Metric train_loss improved by 0.068 >= min_delta = 0.001. New best score: -1.154\n",
      "Metric train_loss improved by 0.020 >= min_delta = 0.001. New best score: -1.174\n",
      "Metric train_loss improved by 0.087 >= min_delta = 0.001. New best score: -1.261\n",
      "Metric train_loss improved by 0.035 >= min_delta = 0.001. New best score: -1.296\n",
      "Metric train_loss improved by 0.013 >= min_delta = 0.001. New best score: -1.309\n",
      "Metric train_loss improved by 0.075 >= min_delta = 0.001. New best score: -1.385\n",
      "Metric train_loss improved by 0.128 >= min_delta = 0.001. New best score: -1.513\n",
      "Metric train_loss improved by 0.029 >= min_delta = 0.001. New best score: -1.542\n",
      "Metric train_loss improved by 0.025 >= min_delta = 0.001. New best score: -1.567\n",
      "Metric train_loss improved by 0.099 >= min_delta = 0.001. New best score: -1.666\n",
      "Metric train_loss improved by 0.105 >= min_delta = 0.001. New best score: -1.772\n",
      "Metric train_loss improved by 0.014 >= min_delta = 0.001. New best score: -1.786\n",
      "Metric train_loss improved by 0.094 >= min_delta = 0.001. New best score: -1.880\n",
      "Metric train_loss improved by 0.082 >= min_delta = 0.001. New best score: -1.962\n",
      "Metric train_loss improved by 0.022 >= min_delta = 0.001. New best score: -1.984\n",
      "Metric train_loss improved by 0.084 >= min_delta = 0.001. New best score: -2.068\n",
      "Metric train_loss improved by 0.003 >= min_delta = 0.001. New best score: -2.070\n",
      "Metric train_loss improved by 0.092 >= min_delta = 0.001. New best score: -2.162\n",
      "Metric train_loss improved by 0.044 >= min_delta = 0.001. New best score: -2.207\n",
      "Metric train_loss improved by 0.094 >= min_delta = 0.001. New best score: -2.301\n",
      "Metric train_loss improved by 0.110 >= min_delta = 0.001. New best score: -2.411\n",
      "Metric train_loss improved by 0.068 >= min_delta = 0.001. New best score: -2.479\n",
      "Metric train_loss improved by 0.015 >= min_delta = 0.001. New best score: -2.494\n",
      "Metric train_loss improved by 0.025 >= min_delta = 0.001. New best score: -2.519\n",
      "Metric train_loss improved by 0.030 >= min_delta = 0.001. New best score: -2.549\n",
      "Metric train_loss improved by 0.017 >= min_delta = 0.001. New best score: -2.566\n",
      "Metric train_loss improved by 0.021 >= min_delta = 0.001. New best score: -2.587\n",
      "Metric train_loss improved by 0.005 >= min_delta = 0.001. New best score: -2.592\n",
      "Metric train_loss improved by 0.049 >= min_delta = 0.001. New best score: -2.641\n",
      "Metric train_loss improved by 0.053 >= min_delta = 0.001. New best score: -2.694\n",
      "Metric train_loss improved by 0.036 >= min_delta = 0.001. New best score: -2.731\n",
      "Metric train_loss improved by 0.032 >= min_delta = 0.001. New best score: -2.763\n",
      "Metric train_loss improved by 0.025 >= min_delta = 0.001. New best score: -2.788\n",
      "Metric train_loss improved by 0.012 >= min_delta = 0.001. New best score: -2.800\n",
      "Metric train_loss improved by 0.060 >= min_delta = 0.001. New best score: -2.860\n",
      "Metric train_loss improved by 0.015 >= min_delta = 0.001. New best score: -2.875\n",
      "Metric train_loss improved by 0.060 >= min_delta = 0.001. New best score: -2.935\n",
      "Metric train_loss improved by 0.042 >= min_delta = 0.001. New best score: -2.977\n",
      "Monitored metric train_loss did not improve in the last 25 records. Best score: -2.977. Signaling Trainer to stop.\n",
      "GPU available: False, used: False\n",
      "TPU available: False, using: 0 TPU cores\n",
      "HPU available: False, using: 0 HPUs\n"
     ]
    },
    {
     "data": {
      "application/vnd.jupyter.widget-view+json": {
       "model_id": "0835e697b2c84ec98431b9bc412af322",
       "version_major": 2,
       "version_minor": 0
      },
      "text/plain": [
       "Predicting: |          | 0/? [00:00<?, ?it/s]"
      ]
     },
     "metadata": {},
     "output_type": "display_data"
    },
    {
     "name": "stderr",
     "output_type": "stream",
     "text": [
      "\u001b[32m[I 2025-06-14 00:19:50,900]\u001b[0m Trial 15 finished with value: 0.03832895901339486 and parameters: {'hidden_dim': 90, 'n_rnn_layers': 2, 'dropout': 0.18013516709196256, 'batch_size': 54}. Best is trial 11 with value: 0.027707122681565766.\u001b[0m\n",
      "ignoring user defined `output_chunk_length`. RNNModel uses a fixed `output_chunk_length=1`.\n",
      "C:\\Users\\aliss_u3voar7\\anaconda3\\Lib\\site-packages\\torch\\nn\\modules\\rnn.py:83: UserWarning: dropout option adds dropout after all but last recurrent layer, so non-zero dropout expects num_layers greater than 1, but got dropout=0.18007530391564264 and num_layers=1\n",
      "  warnings.warn(\"dropout option adds dropout after all but last \"\n",
      "GPU available: False, used: False\n",
      "TPU available: False, using: 0 TPU cores\n",
      "HPU available: False, using: 0 HPUs\n",
      "\n",
      "  | Name            | Type             | Params | Mode \n",
      "-------------------------------------------------------------\n",
      "0 | criterion       | MSELoss          | 0      | train\n",
      "1 | train_criterion | MSELoss          | 0      | train\n",
      "2 | val_criterion   | MSELoss          | 0      | train\n",
      "3 | train_metrics   | MetricCollection | 0      | train\n",
      "4 | val_metrics     | MetricCollection | 0      | train\n",
      "5 | rnn             | LSTM             | 48.1 K | train\n",
      "6 | V               | Linear           | 190    | train\n",
      "-------------------------------------------------------------\n",
      "48.3 K    Trainable params\n",
      "0         Non-trainable params\n",
      "48.3 K    Total params\n",
      "0.193     Total estimated model params size (MB)\n"
     ]
    },
    {
     "name": "stdout",
     "output_type": "stream",
     "text": [
      "Executando trial #16\n"
     ]
    },
    {
     "data": {
      "application/vnd.jupyter.widget-view+json": {
       "model_id": "d8e915bedbb345d38ced9e09b1457156",
       "version_major": 2,
       "version_minor": 0
      },
      "text/plain": [
       "Training: |          | 0/? [00:00<?, ?it/s]"
      ]
     },
     "metadata": {},
     "output_type": "display_data"
    },
    {
     "name": "stderr",
     "output_type": "stream",
     "text": [
      "Metric train_loss improved. New best score: -0.472\n",
      "Metric train_loss improved by 0.271 >= min_delta = 0.001. New best score: -0.743\n",
      "Metric train_loss improved by 0.074 >= min_delta = 0.001. New best score: -0.817\n",
      "Metric train_loss improved by 0.008 >= min_delta = 0.001. New best score: -0.825\n",
      "Metric train_loss improved by 0.042 >= min_delta = 0.001. New best score: -0.866\n",
      "Metric train_loss improved by 0.067 >= min_delta = 0.001. New best score: -0.933\n",
      "Metric train_loss improved by 0.045 >= min_delta = 0.001. New best score: -0.978\n",
      "Metric train_loss improved by 0.012 >= min_delta = 0.001. New best score: -0.990\n",
      "Metric train_loss improved by 0.032 >= min_delta = 0.001. New best score: -1.022\n",
      "Metric train_loss improved by 0.023 >= min_delta = 0.001. New best score: -1.045\n",
      "Metric train_loss improved by 0.024 >= min_delta = 0.001. New best score: -1.070\n",
      "Metric train_loss improved by 0.003 >= min_delta = 0.001. New best score: -1.073\n",
      "Metric train_loss improved by 0.029 >= min_delta = 0.001. New best score: -1.102\n",
      "Metric train_loss improved by 0.095 >= min_delta = 0.001. New best score: -1.197\n",
      "Metric train_loss improved by 0.021 >= min_delta = 0.001. New best score: -1.218\n",
      "Metric train_loss improved by 0.139 >= min_delta = 0.001. New best score: -1.357\n",
      "Metric train_loss improved by 0.074 >= min_delta = 0.001. New best score: -1.431\n",
      "Metric train_loss improved by 0.111 >= min_delta = 0.001. New best score: -1.542\n",
      "Metric train_loss improved by 0.048 >= min_delta = 0.001. New best score: -1.589\n",
      "Metric train_loss improved by 0.009 >= min_delta = 0.001. New best score: -1.598\n",
      "Metric train_loss improved by 0.064 >= min_delta = 0.001. New best score: -1.662\n",
      "Metric train_loss improved by 0.155 >= min_delta = 0.001. New best score: -1.817\n",
      "Metric train_loss improved by 0.112 >= min_delta = 0.001. New best score: -1.930\n",
      "Metric train_loss improved by 0.016 >= min_delta = 0.001. New best score: -1.946\n",
      "Metric train_loss improved by 0.037 >= min_delta = 0.001. New best score: -1.982\n",
      "Metric train_loss improved by 0.147 >= min_delta = 0.001. New best score: -2.129\n",
      "Metric train_loss improved by 0.060 >= min_delta = 0.001. New best score: -2.190\n",
      "Metric train_loss improved by 0.111 >= min_delta = 0.001. New best score: -2.300\n",
      "Metric train_loss improved by 0.107 >= min_delta = 0.001. New best score: -2.407\n",
      "Metric train_loss improved by 0.055 >= min_delta = 0.001. New best score: -2.462\n",
      "Metric train_loss improved by 0.102 >= min_delta = 0.001. New best score: -2.564\n",
      "Metric train_loss improved by 0.037 >= min_delta = 0.001. New best score: -2.601\n",
      "Metric train_loss improved by 0.037 >= min_delta = 0.001. New best score: -2.637\n",
      "Metric train_loss improved by 0.051 >= min_delta = 0.001. New best score: -2.689\n",
      "Metric train_loss improved by 0.016 >= min_delta = 0.001. New best score: -2.704\n",
      "Metric train_loss improved by 0.082 >= min_delta = 0.001. New best score: -2.786\n",
      "Metric train_loss improved by 0.057 >= min_delta = 0.001. New best score: -2.843\n",
      "Metric train_loss improved by 0.016 >= min_delta = 0.001. New best score: -2.859\n",
      "Metric train_loss improved by 0.010 >= min_delta = 0.001. New best score: -2.869\n",
      "Metric train_loss improved by 0.074 >= min_delta = 0.001. New best score: -2.943\n",
      "Metric train_loss improved by 0.026 >= min_delta = 0.001. New best score: -2.970\n",
      "Metric train_loss improved by 0.018 >= min_delta = 0.001. New best score: -2.988\n",
      "Metric train_loss improved by 0.086 >= min_delta = 0.001. New best score: -3.073\n",
      "Metric train_loss improved by 0.075 >= min_delta = 0.001. New best score: -3.149\n",
      "Metric train_loss improved by 0.114 >= min_delta = 0.001. New best score: -3.263\n",
      "Monitored metric train_loss did not improve in the last 25 records. Best score: -3.263. Signaling Trainer to stop.\n",
      "GPU available: False, used: False\n",
      "TPU available: False, using: 0 TPU cores\n",
      "HPU available: False, using: 0 HPUs\n"
     ]
    },
    {
     "data": {
      "application/vnd.jupyter.widget-view+json": {
       "model_id": "426be8341d404b41abed52bc7879a49a",
       "version_major": 2,
       "version_minor": 0
      },
      "text/plain": [
       "Predicting: |          | 0/? [00:00<?, ?it/s]"
      ]
     },
     "metadata": {},
     "output_type": "display_data"
    },
    {
     "name": "stderr",
     "output_type": "stream",
     "text": [
      "\u001b[32m[I 2025-06-14 00:23:40,243]\u001b[0m Trial 16 finished with value: 0.029549955919263744 and parameters: {'hidden_dim': 94, 'n_rnn_layers': 1, 'dropout': 0.18007530391564264, 'batch_size': 57}. Best is trial 11 with value: 0.027707122681565766.\u001b[0m\n",
      "ignoring user defined `output_chunk_length`. RNNModel uses a fixed `output_chunk_length=1`.\n",
      "GPU available: False, used: False\n",
      "TPU available: False, using: 0 TPU cores\n",
      "HPU available: False, using: 0 HPUs\n",
      "\n",
      "  | Name            | Type             | Params | Mode \n",
      "-------------------------------------------------------------\n",
      "0 | criterion       | MSELoss          | 0      | train\n",
      "1 | train_criterion | MSELoss          | 0      | train\n",
      "2 | val_criterion   | MSELoss          | 0      | train\n",
      "3 | train_metrics   | MetricCollection | 0      | train\n",
      "4 | val_metrics     | MetricCollection | 0      | train\n",
      "5 | rnn             | LSTM             | 983 K  | train\n",
      "6 | V               | Linear           | 438    | train\n",
      "-------------------------------------------------------------\n",
      "984 K     Trainable params\n",
      "0         Non-trainable params\n",
      "984 K     Total params\n",
      "3.936     Total estimated model params size (MB)\n"
     ]
    },
    {
     "name": "stdout",
     "output_type": "stream",
     "text": [
      "Executando trial #17\n"
     ]
    },
    {
     "data": {
      "application/vnd.jupyter.widget-view+json": {
       "model_id": "77f7fc0c9ff44155ae6b18ebe6340a54",
       "version_major": 2,
       "version_minor": 0
      },
      "text/plain": [
       "Training: |          | 0/? [00:00<?, ?it/s]"
      ]
     },
     "metadata": {},
     "output_type": "display_data"
    },
    {
     "name": "stderr",
     "output_type": "stream",
     "text": [
      "Metric train_loss improved. New best score: 0.140\n",
      "Metric train_loss improved by 0.308 >= min_delta = 0.001. New best score: -0.167\n",
      "Metric train_loss improved by 0.476 >= min_delta = 0.001. New best score: -0.644\n",
      "Metric train_loss improved by 0.015 >= min_delta = 0.001. New best score: -0.659\n",
      "Metric train_loss improved by 0.006 >= min_delta = 0.001. New best score: -0.665\n",
      "Metric train_loss improved by 0.008 >= min_delta = 0.001. New best score: -0.674\n",
      "Metric train_loss improved by 0.046 >= min_delta = 0.001. New best score: -0.720\n",
      "Monitored metric train_loss did not improve in the last 25 records. Best score: -0.720. Signaling Trainer to stop.\n",
      "GPU available: False, used: False\n",
      "TPU available: False, using: 0 TPU cores\n",
      "HPU available: False, using: 0 HPUs\n"
     ]
    },
    {
     "data": {
      "application/vnd.jupyter.widget-view+json": {
       "model_id": "8f8c556e7dcc4501b55d3edf18317455",
       "version_major": 2,
       "version_minor": 0
      },
      "text/plain": [
       "Predicting: |          | 0/? [00:00<?, ?it/s]"
      ]
     },
     "metadata": {},
     "output_type": "display_data"
    },
    {
     "name": "stderr",
     "output_type": "stream",
     "text": [
      "\u001b[32m[I 2025-06-14 00:27:09,296]\u001b[0m Trial 17 finished with value: 0.036497787916378074 and parameters: {'hidden_dim': 218, 'n_rnn_layers': 3, 'dropout': 0.17983637021985033, 'batch_size': 64}. Best is trial 11 with value: 0.027707122681565766.\u001b[0m\n",
      "ignoring user defined `output_chunk_length`. RNNModel uses a fixed `output_chunk_length=1`.\n",
      "GPU available: False, used: False\n",
      "TPU available: False, using: 0 TPU cores\n",
      "HPU available: False, using: 0 HPUs\n",
      "\n",
      "  | Name            | Type             | Params | Mode \n",
      "-------------------------------------------------------------\n",
      "0 | criterion       | MSELoss          | 0      | train\n",
      "1 | train_criterion | MSELoss          | 0      | train\n",
      "2 | val_criterion   | MSELoss          | 0      | train\n",
      "3 | train_metrics   | MetricCollection | 0      | train\n",
      "4 | val_metrics     | MetricCollection | 0      | train\n",
      "5 | rnn             | LSTM             | 280 K  | train\n",
      "6 | V               | Linear           | 296    | train\n",
      "-------------------------------------------------------------\n",
      "280 K     Trainable params\n",
      "0         Non-trainable params\n",
      "280 K     Total params\n",
      "1.123     Total estimated model params size (MB)\n"
     ]
    },
    {
     "name": "stdout",
     "output_type": "stream",
     "text": [
      "Executando trial #18\n"
     ]
    },
    {
     "data": {
      "application/vnd.jupyter.widget-view+json": {
       "model_id": "dd565ce238c44fa9b18728a4bd875d83",
       "version_major": 2,
       "version_minor": 0
      },
      "text/plain": [
       "Training: |          | 0/? [00:00<?, ?it/s]"
      ]
     },
     "metadata": {},
     "output_type": "display_data"
    },
    {
     "name": "stderr",
     "output_type": "stream",
     "text": [
      "Metric train_loss improved. New best score: -0.433\n",
      "Metric train_loss improved by 0.238 >= min_delta = 0.001. New best score: -0.671\n",
      "Metric train_loss improved by 0.035 >= min_delta = 0.001. New best score: -0.707\n",
      "Metric train_loss improved by 0.011 >= min_delta = 0.001. New best score: -0.717\n",
      "Metric train_loss improved by 0.060 >= min_delta = 0.001. New best score: -0.778\n",
      "Metric train_loss improved by 0.063 >= min_delta = 0.001. New best score: -0.840\n",
      "Metric train_loss improved by 0.020 >= min_delta = 0.001. New best score: -0.860\n",
      "Metric train_loss improved by 0.036 >= min_delta = 0.001. New best score: -0.896\n",
      "Metric train_loss improved by 0.059 >= min_delta = 0.001. New best score: -0.956\n",
      "Metric train_loss improved by 0.115 >= min_delta = 0.001. New best score: -1.071\n",
      "Metric train_loss improved by 0.085 >= min_delta = 0.001. New best score: -1.156\n",
      "Metric train_loss improved by 0.036 >= min_delta = 0.001. New best score: -1.192\n",
      "Metric train_loss improved by 0.129 >= min_delta = 0.001. New best score: -1.320\n",
      "Metric train_loss improved by 0.168 >= min_delta = 0.001. New best score: -1.488\n",
      "Metric train_loss improved by 0.041 >= min_delta = 0.001. New best score: -1.529\n",
      "Metric train_loss improved by 0.112 >= min_delta = 0.001. New best score: -1.641\n",
      "Metric train_loss improved by 0.103 >= min_delta = 0.001. New best score: -1.744\n",
      "Metric train_loss improved by 0.166 >= min_delta = 0.001. New best score: -1.910\n",
      "Metric train_loss improved by 0.158 >= min_delta = 0.001. New best score: -2.068\n",
      "Metric train_loss improved by 0.054 >= min_delta = 0.001. New best score: -2.122\n",
      "Metric train_loss improved by 0.076 >= min_delta = 0.001. New best score: -2.198\n",
      "Metric train_loss improved by 0.106 >= min_delta = 0.001. New best score: -2.304\n",
      "Metric train_loss improved by 0.039 >= min_delta = 0.001. New best score: -2.343\n",
      "Metric train_loss improved by 0.145 >= min_delta = 0.001. New best score: -2.488\n",
      "Metric train_loss improved by 0.081 >= min_delta = 0.001. New best score: -2.568\n",
      "Metric train_loss improved by 0.070 >= min_delta = 0.001. New best score: -2.639\n",
      "Metric train_loss improved by 0.021 >= min_delta = 0.001. New best score: -2.660\n",
      "Metric train_loss improved by 0.028 >= min_delta = 0.001. New best score: -2.688\n",
      "Metric train_loss improved by 0.006 >= min_delta = 0.001. New best score: -2.694\n",
      "Metric train_loss improved by 0.057 >= min_delta = 0.001. New best score: -2.751\n",
      "Metric train_loss improved by 0.154 >= min_delta = 0.001. New best score: -2.905\n",
      "Metric train_loss improved by 0.061 >= min_delta = 0.001. New best score: -2.966\n",
      "Metric train_loss improved by 0.049 >= min_delta = 0.001. New best score: -3.015\n",
      "Metric train_loss improved by 0.015 >= min_delta = 0.001. New best score: -3.031\n",
      "Metric train_loss improved by 0.009 >= min_delta = 0.001. New best score: -3.040\n",
      "Metric train_loss improved by 0.022 >= min_delta = 0.001. New best score: -3.063\n",
      "Metric train_loss improved by 0.002 >= min_delta = 0.001. New best score: -3.064\n",
      "Metric train_loss improved by 0.034 >= min_delta = 0.001. New best score: -3.098\n",
      "Metric train_loss improved by 0.006 >= min_delta = 0.001. New best score: -3.105\n",
      "Metric train_loss improved by 0.033 >= min_delta = 0.001. New best score: -3.138\n",
      "Metric train_loss improved by 0.078 >= min_delta = 0.001. New best score: -3.216\n",
      "Metric train_loss improved by 0.020 >= min_delta = 0.001. New best score: -3.236\n",
      "Metric train_loss improved by 0.036 >= min_delta = 0.001. New best score: -3.273\n",
      "Metric train_loss improved by 0.033 >= min_delta = 0.001. New best score: -3.305\n",
      "Metric train_loss improved by 0.030 >= min_delta = 0.001. New best score: -3.335\n",
      "Metric train_loss improved by 0.008 >= min_delta = 0.001. New best score: -3.343\n",
      "Metric train_loss improved by 0.027 >= min_delta = 0.001. New best score: -3.370\n",
      "Metric train_loss improved by 0.012 >= min_delta = 0.001. New best score: -3.382\n",
      "Monitored metric train_loss did not improve in the last 25 records. Best score: -3.382. Signaling Trainer to stop.\n",
      "GPU available: False, used: False\n",
      "TPU available: False, using: 0 TPU cores\n",
      "HPU available: False, using: 0 HPUs\n"
     ]
    },
    {
     "data": {
      "application/vnd.jupyter.widget-view+json": {
       "model_id": "a44f7ecffce1453f825b2f1d4b6a445b",
       "version_major": 2,
       "version_minor": 0
      },
      "text/plain": [
       "Predicting: |          | 0/? [00:00<?, ?it/s]"
      ]
     },
     "metadata": {},
     "output_type": "display_data"
    },
    {
     "name": "stderr",
     "output_type": "stream",
     "text": [
      "\u001b[32m[I 2025-06-14 00:35:37,665]\u001b[0m Trial 18 finished with value: 0.038667803648097264 and parameters: {'hidden_dim': 147, 'n_rnn_layers': 2, 'dropout': 0.17033182219480208, 'batch_size': 55}. Best is trial 11 with value: 0.027707122681565766.\u001b[0m\n",
      "ignoring user defined `output_chunk_length`. RNNModel uses a fixed `output_chunk_length=1`.\n",
      "C:\\Users\\aliss_u3voar7\\anaconda3\\Lib\\site-packages\\torch\\nn\\modules\\rnn.py:83: UserWarning: dropout option adds dropout after all but last recurrent layer, so non-zero dropout expects num_layers greater than 1, but got dropout=0.18766397148508362 and num_layers=1\n",
      "  warnings.warn(\"dropout option adds dropout after all but last \"\n",
      "GPU available: False, used: False\n",
      "TPU available: False, using: 0 TPU cores\n",
      "HPU available: False, using: 0 HPUs\n",
      "\n",
      "  | Name            | Type             | Params | Mode \n",
      "-------------------------------------------------------------\n",
      "0 | criterion       | MSELoss          | 0      | train\n",
      "1 | train_criterion | MSELoss          | 0      | train\n",
      "2 | val_criterion   | MSELoss          | 0      | train\n",
      "3 | train_metrics   | MetricCollection | 0      | train\n",
      "4 | val_metrics     | MetricCollection | 0      | train\n",
      "5 | rnn             | LSTM             | 17.3 K | train\n",
      "6 | V               | Linear           | 104    | train\n",
      "-------------------------------------------------------------\n",
      "17.4 K    Trainable params\n",
      "0         Non-trainable params\n",
      "17.4 K    Total params\n",
      "0.070     Total estimated model params size (MB)\n"
     ]
    },
    {
     "name": "stdout",
     "output_type": "stream",
     "text": [
      "Executando trial #19\n"
     ]
    },
    {
     "data": {
      "application/vnd.jupyter.widget-view+json": {
       "model_id": "92d6876df0ed4a209cf0f548fcf56b1f",
       "version_major": 2,
       "version_minor": 0
      },
      "text/plain": [
       "Training: |          | 0/? [00:00<?, ?it/s]"
      ]
     },
     "metadata": {},
     "output_type": "display_data"
    },
    {
     "name": "stderr",
     "output_type": "stream",
     "text": [
      "Metric train_loss improved. New best score: -0.142\n",
      "Metric train_loss improved by 0.677 >= min_delta = 0.001. New best score: -0.819\n",
      "Metric train_loss improved by 0.029 >= min_delta = 0.001. New best score: -0.848\n",
      "Metric train_loss improved by 0.048 >= min_delta = 0.001. New best score: -0.896\n",
      "Metric train_loss improved by 0.010 >= min_delta = 0.001. New best score: -0.905\n",
      "Metric train_loss improved by 0.065 >= min_delta = 0.001. New best score: -0.970\n",
      "Metric train_loss improved by 0.015 >= min_delta = 0.001. New best score: -0.985\n",
      "Metric train_loss improved by 0.113 >= min_delta = 0.001. New best score: -1.099\n",
      "Metric train_loss improved by 0.005 >= min_delta = 0.001. New best score: -1.104\n",
      "Metric train_loss improved by 0.051 >= min_delta = 0.001. New best score: -1.154\n",
      "Metric train_loss improved by 0.036 >= min_delta = 0.001. New best score: -1.191\n",
      "Metric train_loss improved by 0.095 >= min_delta = 0.001. New best score: -1.286\n",
      "Metric train_loss improved by 0.094 >= min_delta = 0.001. New best score: -1.380\n",
      "Metric train_loss improved by 0.259 >= min_delta = 0.001. New best score: -1.639\n",
      "Metric train_loss improved by 0.223 >= min_delta = 0.001. New best score: -1.863\n",
      "Metric train_loss improved by 0.049 >= min_delta = 0.001. New best score: -1.912\n",
      "Metric train_loss improved by 0.116 >= min_delta = 0.001. New best score: -2.028\n",
      "Metric train_loss improved by 0.128 >= min_delta = 0.001. New best score: -2.155\n",
      "Metric train_loss improved by 0.051 >= min_delta = 0.001. New best score: -2.206\n",
      "Metric train_loss improved by 0.278 >= min_delta = 0.001. New best score: -2.485\n",
      "Metric train_loss improved by 0.020 >= min_delta = 0.001. New best score: -2.504\n",
      "Metric train_loss improved by 0.224 >= min_delta = 0.001. New best score: -2.728\n",
      "Metric train_loss improved by 0.044 >= min_delta = 0.001. New best score: -2.772\n",
      "Metric train_loss improved by 0.087 >= min_delta = 0.001. New best score: -2.859\n",
      "Monitored metric train_loss did not improve in the last 25 records. Best score: -2.859. Signaling Trainer to stop.\n",
      "GPU available: False, used: False\n",
      "TPU available: False, using: 0 TPU cores\n",
      "HPU available: False, using: 0 HPUs\n"
     ]
    },
    {
     "data": {
      "application/vnd.jupyter.widget-view+json": {
       "model_id": "16cb1df68b7f48afb8b8ef7da22aa76c",
       "version_major": 2,
       "version_minor": 0
      },
      "text/plain": [
       "Predicting: |          | 0/? [00:00<?, ?it/s]"
      ]
     },
     "metadata": {},
     "output_type": "display_data"
    },
    {
     "name": "stderr",
     "output_type": "stream",
     "text": [
      "\u001b[32m[I 2025-06-14 00:38:25,200]\u001b[0m Trial 19 finished with value: 0.028333052755223485 and parameters: {'hidden_dim': 51, 'n_rnn_layers': 1, 'dropout': 0.18766397148508362, 'batch_size': 59}. Best is trial 11 with value: 0.027707122681565766.\u001b[0m\n",
      "ignoring user defined `output_chunk_length`. RNNModel uses a fixed `output_chunk_length=1`.\n",
      "GPU available: False, used: False\n",
      "TPU available: False, using: 0 TPU cores\n",
      "HPU available: False, using: 0 HPUs\n",
      "\n",
      "  | Name            | Type             | Params | Mode \n",
      "-------------------------------------------------------------\n",
      "0 | criterion       | MSELoss          | 0      | train\n",
      "1 | train_criterion | MSELoss          | 0      | train\n",
      "2 | val_criterion   | MSELoss          | 0      | train\n",
      "3 | train_metrics   | MetricCollection | 0      | train\n",
      "4 | val_metrics     | MetricCollection | 0      | train\n",
      "5 | rnn             | LSTM             | 267 K  | train\n",
      "6 | V               | Linear           | 226    | train\n",
      "-------------------------------------------------------------\n",
      "268 K     Trainable params\n",
      "0         Non-trainable params\n",
      "268 K     Total params\n",
      "1.073     Total estimated model params size (MB)\n"
     ]
    },
    {
     "name": "stdout",
     "output_type": "stream",
     "text": [
      "Executando trial #20\n"
     ]
    },
    {
     "data": {
      "application/vnd.jupyter.widget-view+json": {
       "model_id": "eb625bebd5754717a5d661b7cf36b67c",
       "version_major": 2,
       "version_minor": 0
      },
      "text/plain": [
       "Training: |          | 0/? [00:00<?, ?it/s]"
      ]
     },
     "metadata": {},
     "output_type": "display_data"
    },
    {
     "name": "stderr",
     "output_type": "stream",
     "text": [
      "Metric train_loss improved. New best score: 0.682\n",
      "Metric train_loss improved by 1.228 >= min_delta = 0.001. New best score: -0.545\n",
      "Metric train_loss improved by 0.059 >= min_delta = 0.001. New best score: -0.604\n",
      "Metric train_loss improved by 0.057 >= min_delta = 0.001. New best score: -0.661\n",
      "Metric train_loss improved by 0.072 >= min_delta = 0.001. New best score: -0.734\n",
      "Metric train_loss improved by 0.020 >= min_delta = 0.001. New best score: -0.754\n",
      "Metric train_loss improved by 0.093 >= min_delta = 0.001. New best score: -0.847\n",
      "Metric train_loss improved by 0.079 >= min_delta = 0.001. New best score: -0.925\n",
      "Metric train_loss improved by 0.065 >= min_delta = 0.001. New best score: -0.991\n",
      "Metric train_loss improved by 0.019 >= min_delta = 0.001. New best score: -1.009\n",
      "Metric train_loss improved by 0.092 >= min_delta = 0.001. New best score: -1.102\n",
      "Metric train_loss improved by 0.006 >= min_delta = 0.001. New best score: -1.108\n",
      "Metric train_loss improved by 0.069 >= min_delta = 0.001. New best score: -1.177\n",
      "Metric train_loss improved by 0.085 >= min_delta = 0.001. New best score: -1.263\n",
      "Metric train_loss improved by 0.021 >= min_delta = 0.001. New best score: -1.284\n",
      "Metric train_loss improved by 0.062 >= min_delta = 0.001. New best score: -1.346\n",
      "Metric train_loss improved by 0.070 >= min_delta = 0.001. New best score: -1.416\n",
      "Metric train_loss improved by 0.105 >= min_delta = 0.001. New best score: -1.521\n",
      "Metric train_loss improved by 0.081 >= min_delta = 0.001. New best score: -1.602\n",
      "Metric train_loss improved by 0.006 >= min_delta = 0.001. New best score: -1.608\n",
      "Metric train_loss improved by 0.063 >= min_delta = 0.001. New best score: -1.671\n",
      "Metric train_loss improved by 0.145 >= min_delta = 0.001. New best score: -1.816\n",
      "Metric train_loss improved by 0.042 >= min_delta = 0.001. New best score: -1.858\n",
      "Metric train_loss improved by 0.103 >= min_delta = 0.001. New best score: -1.961\n",
      "Metric train_loss improved by 0.114 >= min_delta = 0.001. New best score: -2.076\n",
      "Metric train_loss improved by 0.020 >= min_delta = 0.001. New best score: -2.095\n",
      "Metric train_loss improved by 0.063 >= min_delta = 0.001. New best score: -2.158\n",
      "Metric train_loss improved by 0.042 >= min_delta = 0.001. New best score: -2.200\n",
      "Metric train_loss improved by 0.093 >= min_delta = 0.001. New best score: -2.293\n",
      "Metric train_loss improved by 0.022 >= min_delta = 0.001. New best score: -2.315\n",
      "Metric train_loss improved by 0.035 >= min_delta = 0.001. New best score: -2.351\n",
      "Metric train_loss improved by 0.104 >= min_delta = 0.001. New best score: -2.454\n",
      "Metric train_loss improved by 0.013 >= min_delta = 0.001. New best score: -2.468\n",
      "Metric train_loss improved by 0.045 >= min_delta = 0.001. New best score: -2.513\n",
      "Metric train_loss improved by 0.001 >= min_delta = 0.001. New best score: -2.514\n",
      "Metric train_loss improved by 0.013 >= min_delta = 0.001. New best score: -2.527\n",
      "Metric train_loss improved by 0.129 >= min_delta = 0.001. New best score: -2.656\n",
      "Metric train_loss improved by 0.016 >= min_delta = 0.001. New best score: -2.672\n",
      "Metric train_loss improved by 0.139 >= min_delta = 0.001. New best score: -2.812\n",
      "Metric train_loss improved by 0.025 >= min_delta = 0.001. New best score: -2.836\n",
      "Metric train_loss improved by 0.010 >= min_delta = 0.001. New best score: -2.846\n",
      "Metric train_loss improved by 0.015 >= min_delta = 0.001. New best score: -2.861\n",
      "Metric train_loss improved by 0.002 >= min_delta = 0.001. New best score: -2.862\n",
      "Metric train_loss improved by 0.124 >= min_delta = 0.001. New best score: -2.986\n",
      "Metric train_loss improved by 0.056 >= min_delta = 0.001. New best score: -3.042\n",
      "Metric train_loss improved by 0.081 >= min_delta = 0.001. New best score: -3.123\n",
      "Metric train_loss improved by 0.041 >= min_delta = 0.001. New best score: -3.164\n",
      "Metric train_loss improved by 0.037 >= min_delta = 0.001. New best score: -3.201\n",
      "Metric train_loss improved by 0.004 >= min_delta = 0.001. New best score: -3.205\n",
      "Metric train_loss improved by 0.065 >= min_delta = 0.001. New best score: -3.271\n",
      "Monitored metric train_loss did not improve in the last 25 records. Best score: -3.271. Signaling Trainer to stop.\n",
      "GPU available: False, used: False\n",
      "TPU available: False, using: 0 TPU cores\n",
      "HPU available: False, using: 0 HPUs\n"
     ]
    },
    {
     "data": {
      "application/vnd.jupyter.widget-view+json": {
       "model_id": "a23e8984394e453da06be42157ab3411",
       "version_major": 2,
       "version_minor": 0
      },
      "text/plain": [
       "Predicting: |          | 0/? [00:00<?, ?it/s]"
      ]
     },
     "metadata": {},
     "output_type": "display_data"
    },
    {
     "name": "stderr",
     "output_type": "stream",
     "text": [
      "\u001b[32m[I 2025-06-14 00:47:51,855]\u001b[0m Trial 20 finished with value: 0.030277089939230645 and parameters: {'hidden_dim': 112, 'n_rnn_layers': 3, 'dropout': 0.1665883187187679, 'batch_size': 58}. Best is trial 11 with value: 0.027707122681565766.\u001b[0m\n",
      "ignoring user defined `output_chunk_length`. RNNModel uses a fixed `output_chunk_length=1`.\n",
      "C:\\Users\\aliss_u3voar7\\anaconda3\\Lib\\site-packages\\torch\\nn\\modules\\rnn.py:83: UserWarning: dropout option adds dropout after all but last recurrent layer, so non-zero dropout expects num_layers greater than 1, but got dropout=0.19113843494979596 and num_layers=1\n",
      "  warnings.warn(\"dropout option adds dropout after all but last \"\n",
      "GPU available: False, used: False\n",
      "TPU available: False, using: 0 TPU cores\n",
      "HPU available: False, using: 0 HPUs\n",
      "\n",
      "  | Name            | Type             | Params | Mode \n",
      "-------------------------------------------------------------\n",
      "0 | criterion       | MSELoss          | 0      | train\n",
      "1 | train_criterion | MSELoss          | 0      | train\n",
      "2 | val_criterion   | MSELoss          | 0      | train\n",
      "3 | train_metrics   | MetricCollection | 0      | train\n",
      "4 | val_metrics     | MetricCollection | 0      | train\n",
      "5 | rnn             | LSTM             | 16.8 K | train\n",
      "6 | V               | Linear           | 102    | train\n",
      "-------------------------------------------------------------\n",
      "16.9 K    Trainable params\n",
      "0         Non-trainable params\n",
      "16.9 K    Total params\n",
      "0.068     Total estimated model params size (MB)\n"
     ]
    },
    {
     "name": "stdout",
     "output_type": "stream",
     "text": [
      "Executando trial #21\n"
     ]
    },
    {
     "data": {
      "application/vnd.jupyter.widget-view+json": {
       "model_id": "6a2fc5dd0e7e48a3b8cb5750c1c61bf9",
       "version_major": 2,
       "version_minor": 0
      },
      "text/plain": [
       "Training: |          | 0/? [00:00<?, ?it/s]"
      ]
     },
     "metadata": {},
     "output_type": "display_data"
    },
    {
     "name": "stderr",
     "output_type": "stream",
     "text": [
      "Metric train_loss improved. New best score: -0.309\n",
      "Metric train_loss improved by 0.345 >= min_delta = 0.001. New best score: -0.654\n",
      "Metric train_loss improved by 0.102 >= min_delta = 0.001. New best score: -0.756\n",
      "Metric train_loss improved by 0.030 >= min_delta = 0.001. New best score: -0.786\n",
      "Metric train_loss improved by 0.040 >= min_delta = 0.001. New best score: -0.826\n",
      "Metric train_loss improved by 0.020 >= min_delta = 0.001. New best score: -0.846\n",
      "Metric train_loss improved by 0.005 >= min_delta = 0.001. New best score: -0.850\n",
      "Metric train_loss improved by 0.018 >= min_delta = 0.001. New best score: -0.868\n",
      "Metric train_loss improved by 0.087 >= min_delta = 0.001. New best score: -0.955\n",
      "Metric train_loss improved by 0.022 >= min_delta = 0.001. New best score: -0.977\n",
      "Metric train_loss improved by 0.029 >= min_delta = 0.001. New best score: -1.006\n",
      "Metric train_loss improved by 0.021 >= min_delta = 0.001. New best score: -1.027\n",
      "Metric train_loss improved by 0.061 >= min_delta = 0.001. New best score: -1.088\n",
      "Metric train_loss improved by 0.008 >= min_delta = 0.001. New best score: -1.096\n",
      "Metric train_loss improved by 0.093 >= min_delta = 0.001. New best score: -1.189\n",
      "Metric train_loss improved by 0.075 >= min_delta = 0.001. New best score: -1.264\n",
      "Metric train_loss improved by 0.059 >= min_delta = 0.001. New best score: -1.323\n",
      "Metric train_loss improved by 0.017 >= min_delta = 0.001. New best score: -1.340\n",
      "Metric train_loss improved by 0.046 >= min_delta = 0.001. New best score: -1.386\n",
      "Metric train_loss improved by 0.072 >= min_delta = 0.001. New best score: -1.458\n",
      "Metric train_loss improved by 0.106 >= min_delta = 0.001. New best score: -1.564\n",
      "Metric train_loss improved by 0.006 >= min_delta = 0.001. New best score: -1.571\n",
      "Metric train_loss improved by 0.039 >= min_delta = 0.001. New best score: -1.609\n",
      "Metric train_loss improved by 0.156 >= min_delta = 0.001. New best score: -1.765\n",
      "Metric train_loss improved by 0.083 >= min_delta = 0.001. New best score: -1.847\n",
      "Metric train_loss improved by 0.015 >= min_delta = 0.001. New best score: -1.862\n",
      "Metric train_loss improved by 0.015 >= min_delta = 0.001. New best score: -1.877\n",
      "Metric train_loss improved by 0.008 >= min_delta = 0.001. New best score: -1.885\n",
      "Metric train_loss improved by 0.201 >= min_delta = 0.001. New best score: -2.086\n",
      "Metric train_loss improved by 0.008 >= min_delta = 0.001. New best score: -2.094\n",
      "Metric train_loss improved by 0.005 >= min_delta = 0.001. New best score: -2.098\n",
      "Metric train_loss improved by 0.033 >= min_delta = 0.001. New best score: -2.131\n",
      "Metric train_loss improved by 0.023 >= min_delta = 0.001. New best score: -2.154\n",
      "Metric train_loss improved by 0.003 >= min_delta = 0.001. New best score: -2.156\n",
      "Metric train_loss improved by 0.123 >= min_delta = 0.001. New best score: -2.279\n",
      "Metric train_loss improved by 0.029 >= min_delta = 0.001. New best score: -2.308\n",
      "Metric train_loss improved by 0.121 >= min_delta = 0.001. New best score: -2.429\n",
      "Metric train_loss improved by 0.027 >= min_delta = 0.001. New best score: -2.456\n",
      "Metric train_loss improved by 0.001 >= min_delta = 0.001. New best score: -2.457\n",
      "Metric train_loss improved by 0.046 >= min_delta = 0.001. New best score: -2.503\n",
      "Metric train_loss improved by 0.179 >= min_delta = 0.001. New best score: -2.682\n",
      "Metric train_loss improved by 0.038 >= min_delta = 0.001. New best score: -2.720\n",
      "Metric train_loss improved by 0.017 >= min_delta = 0.001. New best score: -2.737\n",
      "Metric train_loss improved by 0.034 >= min_delta = 0.001. New best score: -2.771\n",
      "Metric train_loss improved by 0.069 >= min_delta = 0.001. New best score: -2.840\n",
      "Metric train_loss improved by 0.002 >= min_delta = 0.001. New best score: -2.842\n",
      "Metric train_loss improved by 0.076 >= min_delta = 0.001. New best score: -2.918\n",
      "Metric train_loss improved by 0.044 >= min_delta = 0.001. New best score: -2.962\n",
      "Metric train_loss improved by 0.041 >= min_delta = 0.001. New best score: -3.003\n",
      "Metric train_loss improved by 0.039 >= min_delta = 0.001. New best score: -3.041\n",
      "Monitored metric train_loss did not improve in the last 25 records. Best score: -3.041. Signaling Trainer to stop.\n",
      "GPU available: False, used: False\n",
      "TPU available: False, using: 0 TPU cores\n",
      "HPU available: False, using: 0 HPUs\n"
     ]
    },
    {
     "data": {
      "application/vnd.jupyter.widget-view+json": {
       "model_id": "1d7ad28c5e3948dab9281e7cd7e9ce78",
       "version_major": 2,
       "version_minor": 0
      },
      "text/plain": [
       "Predicting: |          | 0/? [00:00<?, ?it/s]"
      ]
     },
     "metadata": {},
     "output_type": "display_data"
    },
    {
     "name": "stderr",
     "output_type": "stream",
     "text": [
      "\u001b[32m[I 2025-06-14 00:51:40,683]\u001b[0m Trial 21 finished with value: 0.03227595027074096 and parameters: {'hidden_dim': 50, 'n_rnn_layers': 1, 'dropout': 0.19113843494979596, 'batch_size': 61}. Best is trial 11 with value: 0.027707122681565766.\u001b[0m\n",
      "ignoring user defined `output_chunk_length`. RNNModel uses a fixed `output_chunk_length=1`.\n",
      "C:\\Users\\aliss_u3voar7\\anaconda3\\Lib\\site-packages\\torch\\nn\\modules\\rnn.py:83: UserWarning: dropout option adds dropout after all but last recurrent layer, so non-zero dropout expects num_layers greater than 1, but got dropout=0.1885175564059267 and num_layers=1\n",
      "  warnings.warn(\"dropout option adds dropout after all but last \"\n",
      "GPU available: False, used: False\n",
      "TPU available: False, using: 0 TPU cores\n",
      "HPU available: False, using: 0 HPUs\n",
      "\n",
      "  | Name            | Type             | Params | Mode \n",
      "-------------------------------------------------------------\n",
      "0 | criterion       | MSELoss          | 0      | train\n",
      "1 | train_criterion | MSELoss          | 0      | train\n",
      "2 | val_criterion   | MSELoss          | 0      | train\n",
      "3 | train_metrics   | MetricCollection | 0      | train\n",
      "4 | val_metrics     | MetricCollection | 0      | train\n",
      "5 | rnn             | LSTM             | 34.2 K | train\n",
      "6 | V               | Linear           | 156    | train\n",
      "-------------------------------------------------------------\n",
      "34.3 K    Trainable params\n",
      "0         Non-trainable params\n",
      "34.3 K    Total params\n",
      "0.137     Total estimated model params size (MB)\n"
     ]
    },
    {
     "name": "stdout",
     "output_type": "stream",
     "text": [
      "Executando trial #22\n"
     ]
    },
    {
     "data": {
      "application/vnd.jupyter.widget-view+json": {
       "model_id": "7d5985d93f1e40869c4201a14b3571b0",
       "version_major": 2,
       "version_minor": 0
      },
      "text/plain": [
       "Training: |          | 0/? [00:00<?, ?it/s]"
      ]
     },
     "metadata": {},
     "output_type": "display_data"
    },
    {
     "name": "stderr",
     "output_type": "stream",
     "text": [
      "Metric train_loss improved. New best score: -0.287\n",
      "Metric train_loss improved by 0.336 >= min_delta = 0.001. New best score: -0.623\n",
      "Metric train_loss improved by 0.052 >= min_delta = 0.001. New best score: -0.676\n",
      "Metric train_loss improved by 0.027 >= min_delta = 0.001. New best score: -0.703\n",
      "Metric train_loss improved by 0.070 >= min_delta = 0.001. New best score: -0.773\n",
      "Metric train_loss improved by 0.010 >= min_delta = 0.001. New best score: -0.783\n",
      "Metric train_loss improved by 0.064 >= min_delta = 0.001. New best score: -0.848\n",
      "Metric train_loss improved by 0.024 >= min_delta = 0.001. New best score: -0.872\n",
      "Metric train_loss improved by 0.044 >= min_delta = 0.001. New best score: -0.916\n",
      "Metric train_loss improved by 0.004 >= min_delta = 0.001. New best score: -0.920\n",
      "Metric train_loss improved by 0.018 >= min_delta = 0.001. New best score: -0.938\n",
      "Metric train_loss improved by 0.040 >= min_delta = 0.001. New best score: -0.979\n",
      "Metric train_loss improved by 0.051 >= min_delta = 0.001. New best score: -1.029\n",
      "Metric train_loss improved by 0.026 >= min_delta = 0.001. New best score: -1.055\n",
      "Metric train_loss improved by 0.037 >= min_delta = 0.001. New best score: -1.092\n",
      "Metric train_loss improved by 0.043 >= min_delta = 0.001. New best score: -1.134\n",
      "Metric train_loss improved by 0.054 >= min_delta = 0.001. New best score: -1.189\n",
      "Metric train_loss improved by 0.035 >= min_delta = 0.001. New best score: -1.224\n",
      "Metric train_loss improved by 0.016 >= min_delta = 0.001. New best score: -1.240\n",
      "Metric train_loss improved by 0.033 >= min_delta = 0.001. New best score: -1.273\n",
      "Metric train_loss improved by 0.017 >= min_delta = 0.001. New best score: -1.290\n",
      "Metric train_loss improved by 0.110 >= min_delta = 0.001. New best score: -1.400\n",
      "Metric train_loss improved by 0.101 >= min_delta = 0.001. New best score: -1.501\n",
      "Metric train_loss improved by 0.034 >= min_delta = 0.001. New best score: -1.535\n",
      "Metric train_loss improved by 0.020 >= min_delta = 0.001. New best score: -1.555\n",
      "Metric train_loss improved by 0.057 >= min_delta = 0.001. New best score: -1.611\n",
      "Metric train_loss improved by 0.089 >= min_delta = 0.001. New best score: -1.700\n",
      "Metric train_loss improved by 0.024 >= min_delta = 0.001. New best score: -1.725\n",
      "Metric train_loss improved by 0.028 >= min_delta = 0.001. New best score: -1.753\n",
      "Metric train_loss improved by 0.059 >= min_delta = 0.001. New best score: -1.812\n",
      "Metric train_loss improved by 0.031 >= min_delta = 0.001. New best score: -1.843\n",
      "Metric train_loss improved by 0.082 >= min_delta = 0.001. New best score: -1.925\n",
      "Metric train_loss improved by 0.034 >= min_delta = 0.001. New best score: -1.959\n",
      "Metric train_loss improved by 0.004 >= min_delta = 0.001. New best score: -1.963\n",
      "Metric train_loss improved by 0.007 >= min_delta = 0.001. New best score: -1.970\n",
      "Metric train_loss improved by 0.177 >= min_delta = 0.001. New best score: -2.147\n",
      "Metric train_loss improved by 0.044 >= min_delta = 0.001. New best score: -2.191\n",
      "Metric train_loss improved by 0.081 >= min_delta = 0.001. New best score: -2.272\n",
      "Metric train_loss improved by 0.057 >= min_delta = 0.001. New best score: -2.329\n",
      "Metric train_loss improved by 0.083 >= min_delta = 0.001. New best score: -2.412\n",
      "Metric train_loss improved by 0.012 >= min_delta = 0.001. New best score: -2.424\n",
      "Metric train_loss improved by 0.107 >= min_delta = 0.001. New best score: -2.531\n",
      "Metric train_loss improved by 0.155 >= min_delta = 0.001. New best score: -2.686\n",
      "Metric train_loss improved by 0.004 >= min_delta = 0.001. New best score: -2.690\n",
      "Metric train_loss improved by 0.075 >= min_delta = 0.001. New best score: -2.765\n",
      "Metric train_loss improved by 0.018 >= min_delta = 0.001. New best score: -2.783\n",
      "Metric train_loss improved by 0.087 >= min_delta = 0.001. New best score: -2.870\n",
      "Monitored metric train_loss did not improve in the last 25 records. Best score: -2.870. Signaling Trainer to stop.\n",
      "GPU available: False, used: False\n",
      "TPU available: False, using: 0 TPU cores\n",
      "HPU available: False, using: 0 HPUs\n"
     ]
    },
    {
     "data": {
      "application/vnd.jupyter.widget-view+json": {
       "model_id": "7fdd2d43e24945b6a0c6f7d078a5ef5d",
       "version_major": 2,
       "version_minor": 0
      },
      "text/plain": [
       "Predicting: |          | 0/? [00:00<?, ?it/s]"
      ]
     },
     "metadata": {},
     "output_type": "display_data"
    },
    {
     "name": "stderr",
     "output_type": "stream",
     "text": [
      "\u001b[32m[I 2025-06-14 00:54:30,171]\u001b[0m Trial 22 finished with value: 0.03249505128175463 and parameters: {'hidden_dim': 77, 'n_rnn_layers': 1, 'dropout': 0.1885175564059267, 'batch_size': 64}. Best is trial 11 with value: 0.027707122681565766.\u001b[0m\n",
      "ignoring user defined `output_chunk_length`. RNNModel uses a fixed `output_chunk_length=1`.\n",
      "GPU available: False, used: False\n",
      "TPU available: False, using: 0 TPU cores\n",
      "HPU available: False, using: 0 HPUs\n",
      "\n",
      "  | Name            | Type             | Params | Mode \n",
      "-------------------------------------------------------------\n",
      "0 | criterion       | MSELoss          | 0      | train\n",
      "1 | train_criterion | MSELoss          | 0      | train\n",
      "2 | val_criterion   | MSELoss          | 0      | train\n",
      "3 | train_metrics   | MetricCollection | 0      | train\n",
      "4 | val_metrics     | MetricCollection | 0      | train\n",
      "5 | rnn             | LSTM             | 68.9 K | train\n",
      "6 | V               | Linear           | 142    | train\n",
      "-------------------------------------------------------------\n",
      "69.0 K    Trainable params\n",
      "0         Non-trainable params\n",
      "69.0 K    Total params\n",
      "0.276     Total estimated model params size (MB)\n"
     ]
    },
    {
     "name": "stdout",
     "output_type": "stream",
     "text": [
      "Executando trial #23\n"
     ]
    },
    {
     "data": {
      "application/vnd.jupyter.widget-view+json": {
       "model_id": "1dca0b6caf724af5aa878dc7880db4bc",
       "version_major": 2,
       "version_minor": 0
      },
      "text/plain": [
       "Training: |          | 0/? [00:00<?, ?it/s]"
      ]
     },
     "metadata": {},
     "output_type": "display_data"
    },
    {
     "name": "stderr",
     "output_type": "stream",
     "text": [
      "Metric train_loss improved. New best score: -0.214\n",
      "Metric train_loss improved by 0.369 >= min_delta = 0.001. New best score: -0.583\n",
      "Metric train_loss improved by 0.009 >= min_delta = 0.001. New best score: -0.591\n",
      "Metric train_loss improved by 0.052 >= min_delta = 0.001. New best score: -0.644\n",
      "Metric train_loss improved by 0.146 >= min_delta = 0.001. New best score: -0.790\n",
      "Metric train_loss improved by 0.021 >= min_delta = 0.001. New best score: -0.811\n",
      "Metric train_loss improved by 0.016 >= min_delta = 0.001. New best score: -0.827\n",
      "Metric train_loss improved by 0.088 >= min_delta = 0.001. New best score: -0.915\n",
      "Metric train_loss improved by 0.096 >= min_delta = 0.001. New best score: -1.010\n",
      "Metric train_loss improved by 0.023 >= min_delta = 0.001. New best score: -1.034\n",
      "Metric train_loss improved by 0.013 >= min_delta = 0.001. New best score: -1.046\n",
      "Metric train_loss improved by 0.108 >= min_delta = 0.001. New best score: -1.155\n",
      "Metric train_loss improved by 0.037 >= min_delta = 0.001. New best score: -1.191\n",
      "Metric train_loss improved by 0.102 >= min_delta = 0.001. New best score: -1.293\n",
      "Metric train_loss improved by 0.114 >= min_delta = 0.001. New best score: -1.407\n",
      "Metric train_loss improved by 0.032 >= min_delta = 0.001. New best score: -1.440\n",
      "Metric train_loss improved by 0.150 >= min_delta = 0.001. New best score: -1.590\n",
      "Metric train_loss improved by 0.126 >= min_delta = 0.001. New best score: -1.716\n",
      "Metric train_loss improved by 0.016 >= min_delta = 0.001. New best score: -1.732\n",
      "Metric train_loss improved by 0.073 >= min_delta = 0.001. New best score: -1.805\n",
      "Metric train_loss improved by 0.111 >= min_delta = 0.001. New best score: -1.916\n",
      "Metric train_loss improved by 0.051 >= min_delta = 0.001. New best score: -1.966\n",
      "Metric train_loss improved by 0.125 >= min_delta = 0.001. New best score: -2.091\n",
      "Metric train_loss improved by 0.038 >= min_delta = 0.001. New best score: -2.129\n",
      "Metric train_loss improved by 0.002 >= min_delta = 0.001. New best score: -2.131\n",
      "Metric train_loss improved by 0.003 >= min_delta = 0.001. New best score: -2.134\n",
      "Metric train_loss improved by 0.101 >= min_delta = 0.001. New best score: -2.235\n",
      "Metric train_loss improved by 0.033 >= min_delta = 0.001. New best score: -2.268\n",
      "Metric train_loss improved by 0.057 >= min_delta = 0.001. New best score: -2.325\n",
      "Metric train_loss improved by 0.115 >= min_delta = 0.001. New best score: -2.440\n",
      "Metric train_loss improved by 0.005 >= min_delta = 0.001. New best score: -2.445\n",
      "Metric train_loss improved by 0.015 >= min_delta = 0.001. New best score: -2.459\n",
      "Metric train_loss improved by 0.063 >= min_delta = 0.001. New best score: -2.522\n",
      "Metric train_loss improved by 0.024 >= min_delta = 0.001. New best score: -2.546\n",
      "Metric train_loss improved by 0.002 >= min_delta = 0.001. New best score: -2.548\n",
      "Metric train_loss improved by 0.012 >= min_delta = 0.001. New best score: -2.560\n",
      "Metric train_loss improved by 0.033 >= min_delta = 0.001. New best score: -2.593\n",
      "Metric train_loss improved by 0.056 >= min_delta = 0.001. New best score: -2.649\n",
      "Metric train_loss improved by 0.058 >= min_delta = 0.001. New best score: -2.707\n",
      "Metric train_loss improved by 0.006 >= min_delta = 0.001. New best score: -2.713\n",
      "Metric train_loss improved by 0.078 >= min_delta = 0.001. New best score: -2.790\n",
      "Metric train_loss improved by 0.029 >= min_delta = 0.001. New best score: -2.819\n",
      "Metric train_loss improved by 0.062 >= min_delta = 0.001. New best score: -2.881\n",
      "Metric train_loss improved by 0.031 >= min_delta = 0.001. New best score: -2.912\n",
      "Metric train_loss improved by 0.023 >= min_delta = 0.001. New best score: -2.935\n",
      "Metric train_loss improved by 0.007 >= min_delta = 0.001. New best score: -2.942\n",
      "Metric train_loss improved by 0.010 >= min_delta = 0.001. New best score: -2.952\n",
      "Metric train_loss improved by 0.004 >= min_delta = 0.001. New best score: -2.955\n",
      "Metric train_loss improved by 0.010 >= min_delta = 0.001. New best score: -2.965\n",
      "Metric train_loss improved by 0.032 >= min_delta = 0.001. New best score: -2.997\n",
      "Metric train_loss improved by 0.054 >= min_delta = 0.001. New best score: -3.051\n",
      "Metric train_loss improved by 0.019 >= min_delta = 0.001. New best score: -3.070\n",
      "Metric train_loss improved by 0.028 >= min_delta = 0.001. New best score: -3.097\n",
      "Metric train_loss improved by 0.030 >= min_delta = 0.001. New best score: -3.127\n",
      "Metric train_loss improved by 0.080 >= min_delta = 0.001. New best score: -3.207\n",
      "Metric train_loss improved by 0.026 >= min_delta = 0.001. New best score: -3.233\n",
      "Metric train_loss improved by 0.022 >= min_delta = 0.001. New best score: -3.255\n",
      "Metric train_loss improved by 0.003 >= min_delta = 0.001. New best score: -3.257\n",
      "Metric train_loss improved by 0.104 >= min_delta = 0.001. New best score: -3.361\n",
      "Metric train_loss improved by 0.049 >= min_delta = 0.001. New best score: -3.410\n",
      "Monitored metric train_loss did not improve in the last 25 records. Best score: -3.410. Signaling Trainer to stop.\n",
      "GPU available: False, used: False\n",
      "TPU available: False, using: 0 TPU cores\n",
      "HPU available: False, using: 0 HPUs\n"
     ]
    },
    {
     "data": {
      "application/vnd.jupyter.widget-view+json": {
       "model_id": "dabc1563ecc44f07890e660d167af92c",
       "version_major": 2,
       "version_minor": 0
      },
      "text/plain": [
       "Predicting: |          | 0/? [00:00<?, ?it/s]"
      ]
     },
     "metadata": {},
     "output_type": "display_data"
    },
    {
     "name": "stderr",
     "output_type": "stream",
     "text": [
      "\u001b[32m[I 2025-06-14 01:03:11,974]\u001b[0m Trial 23 finished with value: 0.032140341312926826 and parameters: {'hidden_dim': 70, 'n_rnn_layers': 2, 'dropout': 0.18649567769233716, 'batch_size': 52}. Best is trial 11 with value: 0.027707122681565766.\u001b[0m\n",
      "ignoring user defined `output_chunk_length`. RNNModel uses a fixed `output_chunk_length=1`.\n",
      "C:\\Users\\aliss_u3voar7\\anaconda3\\Lib\\site-packages\\torch\\nn\\modules\\rnn.py:83: UserWarning: dropout option adds dropout after all but last recurrent layer, so non-zero dropout expects num_layers greater than 1, but got dropout=0.1725528716145125 and num_layers=1\n",
      "  warnings.warn(\"dropout option adds dropout after all but last \"\n",
      "GPU available: False, used: False\n",
      "TPU available: False, using: 0 TPU cores\n",
      "HPU available: False, using: 0 HPUs\n",
      "\n",
      "  | Name            | Type             | Params | Mode \n",
      "-------------------------------------------------------------\n",
      "0 | criterion       | MSELoss          | 0      | train\n",
      "1 | train_criterion | MSELoss          | 0      | train\n",
      "2 | val_criterion   | MSELoss          | 0      | train\n",
      "3 | train_metrics   | MetricCollection | 0      | train\n",
      "4 | val_metrics     | MetricCollection | 0      | train\n",
      "5 | rnn             | LSTM             | 59.4 K | train\n",
      "6 | V               | Linear           | 214    | train\n",
      "-------------------------------------------------------------\n",
      "59.6 K    Trainable params\n",
      "0         Non-trainable params\n",
      "59.6 K    Total params\n",
      "0.238     Total estimated model params size (MB)\n"
     ]
    },
    {
     "name": "stdout",
     "output_type": "stream",
     "text": [
      "Executando trial #24\n"
     ]
    },
    {
     "data": {
      "application/vnd.jupyter.widget-view+json": {
       "model_id": "f5594d36b76e4f2da79c1bb1df035d78",
       "version_major": 2,
       "version_minor": 0
      },
      "text/plain": [
       "Training: |          | 0/? [00:00<?, ?it/s]"
      ]
     },
     "metadata": {},
     "output_type": "display_data"
    },
    {
     "name": "stderr",
     "output_type": "stream",
     "text": [
      "Metric train_loss improved. New best score: 0.092\n",
      "Metric train_loss improved by 0.677 >= min_delta = 0.001. New best score: -0.585\n",
      "Metric train_loss improved by 0.092 >= min_delta = 0.001. New best score: -0.677\n",
      "Metric train_loss improved by 0.143 >= min_delta = 0.001. New best score: -0.821\n",
      "Metric train_loss improved by 0.036 >= min_delta = 0.001. New best score: -0.857\n",
      "Metric train_loss improved by 0.010 >= min_delta = 0.001. New best score: -0.867\n",
      "Metric train_loss improved by 0.029 >= min_delta = 0.001. New best score: -0.896\n",
      "Metric train_loss improved by 0.053 >= min_delta = 0.001. New best score: -0.948\n",
      "Metric train_loss improved by 0.002 >= min_delta = 0.001. New best score: -0.951\n",
      "Metric train_loss improved by 0.049 >= min_delta = 0.001. New best score: -1.000\n",
      "Metric train_loss improved by 0.039 >= min_delta = 0.001. New best score: -1.038\n",
      "Metric train_loss improved by 0.027 >= min_delta = 0.001. New best score: -1.065\n",
      "Metric train_loss improved by 0.040 >= min_delta = 0.001. New best score: -1.105\n",
      "Metric train_loss improved by 0.041 >= min_delta = 0.001. New best score: -1.146\n",
      "Metric train_loss improved by 0.105 >= min_delta = 0.001. New best score: -1.251\n",
      "Metric train_loss improved by 0.007 >= min_delta = 0.001. New best score: -1.258\n",
      "Metric train_loss improved by 0.059 >= min_delta = 0.001. New best score: -1.317\n",
      "Metric train_loss improved by 0.061 >= min_delta = 0.001. New best score: -1.378\n",
      "Metric train_loss improved by 0.123 >= min_delta = 0.001. New best score: -1.501\n",
      "Metric train_loss improved by 0.010 >= min_delta = 0.001. New best score: -1.512\n",
      "Metric train_loss improved by 0.081 >= min_delta = 0.001. New best score: -1.593\n",
      "Metric train_loss improved by 0.004 >= min_delta = 0.001. New best score: -1.597\n",
      "Metric train_loss improved by 0.006 >= min_delta = 0.001. New best score: -1.602\n",
      "Metric train_loss improved by 0.154 >= min_delta = 0.001. New best score: -1.756\n",
      "Metric train_loss improved by 0.006 >= min_delta = 0.001. New best score: -1.762\n",
      "Metric train_loss improved by 0.119 >= min_delta = 0.001. New best score: -1.882\n",
      "Metric train_loss improved by 0.142 >= min_delta = 0.001. New best score: -2.023\n",
      "Metric train_loss improved by 0.113 >= min_delta = 0.001. New best score: -2.136\n",
      "Metric train_loss improved by 0.056 >= min_delta = 0.001. New best score: -2.192\n",
      "Metric train_loss improved by 0.002 >= min_delta = 0.001. New best score: -2.194\n",
      "Metric train_loss improved by 0.069 >= min_delta = 0.001. New best score: -2.262\n",
      "Metric train_loss improved by 0.061 >= min_delta = 0.001. New best score: -2.323\n",
      "Metric train_loss improved by 0.032 >= min_delta = 0.001. New best score: -2.355\n",
      "Metric train_loss improved by 0.245 >= min_delta = 0.001. New best score: -2.600\n",
      "Metric train_loss improved by 0.081 >= min_delta = 0.001. New best score: -2.681\n",
      "Metric train_loss improved by 0.061 >= min_delta = 0.001. New best score: -2.742\n",
      "Metric train_loss improved by 0.019 >= min_delta = 0.001. New best score: -2.761\n",
      "Metric train_loss improved by 0.086 >= min_delta = 0.001. New best score: -2.848\n",
      "Metric train_loss improved by 0.039 >= min_delta = 0.001. New best score: -2.887\n",
      "Metric train_loss improved by 0.047 >= min_delta = 0.001. New best score: -2.934\n",
      "Metric train_loss improved by 0.019 >= min_delta = 0.001. New best score: -2.954\n",
      "Metric train_loss improved by 0.046 >= min_delta = 0.001. New best score: -2.999\n",
      "Metric train_loss improved by 0.007 >= min_delta = 0.001. New best score: -3.006\n",
      "Monitored metric train_loss did not improve in the last 25 records. Best score: -3.006. Signaling Trainer to stop.\n",
      "GPU available: False, used: False\n",
      "TPU available: False, using: 0 TPU cores\n",
      "HPU available: False, using: 0 HPUs\n"
     ]
    },
    {
     "data": {
      "application/vnd.jupyter.widget-view+json": {
       "model_id": "b1d79dd41a4c4351bb3e64c6d26d8948",
       "version_major": 2,
       "version_minor": 0
      },
      "text/plain": [
       "Predicting: |          | 0/? [00:00<?, ?it/s]"
      ]
     },
     "metadata": {},
     "output_type": "display_data"
    },
    {
     "name": "stderr",
     "output_type": "stream",
     "text": [
      "\u001b[32m[I 2025-06-14 01:06:52,168]\u001b[0m Trial 24 finished with value: 0.0317544649747951 and parameters: {'hidden_dim': 106, 'n_rnn_layers': 1, 'dropout': 0.1725528716145125, 'batch_size': 58}. Best is trial 11 with value: 0.027707122681565766.\u001b[0m\n"
     ]
    },
    {
     "name": "stdout",
     "output_type": "stream",
     "text": [
      "Melhores parâmetros: {'hidden_dim': 53, 'n_rnn_layers': 1, 'dropout': 0.19167233482343032, 'batch_size': 62}\n"
     ]
    }
   ],
   "source": [
    "# Seleciona as colunas univariadas escaladas\n",
    "train_series_univariate_scaled = train_continuous_scaled['INDENIZ']\n",
    "val_series_univariate_scaled = val_continuous_scaled['INDENIZ']\n",
    "\n",
    "# Definie o pruner com paciência e warmup\n",
    "pruner = optuna.pruners.PatientPruner(\n",
    "    optuna.pruners.MedianPruner(),\n",
    "    patience=25  # Paciencia de 25 épocas antes de podar\n",
    ")\n",
    "\n",
    "\n",
    "# Executa o estudo com Optuna\n",
    "storage = optuna.storages.RDBStorage(\"sqlite:///../models/optuna_studies.db\") # ← Permite armazenar a etapa de otimização\n",
    "study = optuna.create_study(\n",
    "    study_name=\"lstm_optimization\",\n",
    "    storage=storage,\n",
    "    load_if_exists=True,  # ← Permite continuar estudos existentes\n",
    "    direction=\"minimize\", pruner=pruner)\n",
    "\n",
    "# Roda o estudo Optuna\n",
    "study.optimize(\n",
    "    lambda trial: objective(\n",
    "        trial,\n",
    "        train_series_univariate_scaled,\n",
    "        val_series_univariate_scaled,\n",
    "        optuna_parameters,\n",
    "        train_future_covariates=all_future_covariates,\n",
    "        val_future_covariates=all_future_covariates\n",
    "    ),\n",
    "    n_trials=25,\n",
    ")\n",
    "\n",
    "# Mostra os melhores parâmetros ncontrados\n",
    "best_params = study.best_params\n",
    "print(f\"Melhores parâmetros: {best_params}\")\n"
   ]
  },
  {
   "cell_type": "code",
   "execution_count": 18,
   "metadata": {},
   "outputs": [
    {
     "name": "stdout",
     "output_type": "stream",
     "text": [
      "Parâmetros atualizados: {'input_chunk_length': 24, 'training_length': 365, 'output_chunk_length': 1, 'hidden_dim': 53, 'n_rnn_layers': 1, 'dropout': 0.19167233482343032, 'lr': 0.01, 'n_epochs': 500, 'batch_size': 62, 'random_state': 42, 'patience': 25}\n",
      "Melhor valor de loss: 0.027707122681565766\n"
     ]
    }
   ],
   "source": [
    "# Obtém os melhores parâmetros encontrados pelo Optuna\n",
    "best_params = study.best_params\n",
    "\n",
    "# Atualiza os parâmetros originais com os melhores parâmetros do Optuna\n",
    "updated_parameters = update_optuna_parameters(optuna_parameters, best_params)\n",
    "\n",
    "# Mostra os parâmetros atualizados\n",
    "print(f\"Parâmetros atualizados: {updated_parameters}\")\n",
    "print(\"Melhor valor de loss:\", study.best_value)\n",
    "\n"
   ]
  },
  {
   "cell_type": "code",
   "execution_count": 17,
   "metadata": {},
   "outputs": [],
   "source": [
    "import dill\n",
    "path_study = os.path.join(path_project,'models','optuna_study.pkl')\n",
    "# Salva o study usando dill\n",
    "with open(path_study, 'wb') as f:\n",
    "    dill.dump(study, f)\n"
   ]
  },
  {
   "cell_type": "markdown",
   "metadata": {},
   "source": [
    "# Treinando Rede Neural com Hiper Parâmetros Otimizados"
   ]
  },
  {
   "cell_type": "markdown",
   "metadata": {},
   "source": [
    "\n",
    "Treina e salva o modelo LSTM final com os melhores parâmetros encontrados na otimização.\r\n",
    "\r\n",
    "**Passo a passo:**  \r\n",
    "1. **Recupera os melhores parâmetros** da otimização com Optuna\r\n",
    "2. **Ajustes opcionais**:\r\n",
    "   - Aumenta épocas de treino para 900\r\n",
    "   - Aumenta paciência do early stopping para 100 épocas\r\n",
    "3. **Treina o modelo final** com:\r\n",
    "   - Parâmetros otimizados\r\n",
    "   - Dados de treino/validação normalizados\r\n",
    "   - Covariáveis temporais (dia da semana)\r\n",
    "4. **Salva o modelo** em `../models/best_lstm_model.pt`\r\n",
    "\r\n",
    "**Saída:**  \r\n",
    "- Modelo LSTM treinado pronto para previsões\r\n",
    "- Arquivo do modelo salvo no caminho especificado\r\n",
    "- Print confirmando o salvamento\r\n",
    "\r\n",
    "**Dica:**  \r\n",
    "Os ajustes de épocas e paciência são opcionais - aumente apenas se o modelo precisar de mais tempo para convergir."
   ]
  },
  {
   "cell_type": "code",
   "execution_count": 25,
   "metadata": {},
   "outputs": [
    {
     "name": "stdout",
     "output_type": "stream",
     "text": [
      "Parâmetros atualizados:\n",
      "\n"
     ]
    },
    {
     "data": {
      "text/plain": [
       "{'input_chunk_length': 24,\n",
       " 'training_length': 365,\n",
       " 'output_chunk_length': 1,\n",
       " 'hidden_dim': 53,\n",
       " 'n_rnn_layers': 1,\n",
       " 'dropout': 0.19167233482343032,\n",
       " 'lr': 0.01,\n",
       " 'n_epochs': 900,\n",
       " 'batch_size': 62,\n",
       " 'random_state': 42,\n",
       " 'patience': 100}"
      ]
     },
     "execution_count": 25,
     "metadata": {},
     "output_type": "execute_result"
    }
   ],
   "source": [
    "# Obtém os melhores parâmetros encontrados pelo Optuna\n",
    "best_params = study.best_params\n",
    "\n",
    "# Atualiza os parâmetros originais com os melhores parâmetros do Optuna\n",
    "updated_parameters = update_optuna_parameters(optuna_parameters, best_params)\n",
    "\n",
    "updated_parameters['n_epochs'] = 900 # (opcional) <----- Aumenta o número de épocas se preferir\n",
    "updated_parameters['patience'] = 100  # (opcional) <----- Aumenta o número de esperas na melhora do treinamento se preferir\n",
    "\n",
    "# Mostra os parâmetros atualizados\n",
    "print(\"Parâmetros atualizados:\\n\")\n",
    "updated_parameters"
   ]
  },
  {
   "cell_type": "code",
   "execution_count": 26,
   "metadata": {},
   "outputs": [
    {
     "name": "stderr",
     "output_type": "stream",
     "text": [
      "ignoring user defined `output_chunk_length`. RNNModel uses a fixed `output_chunk_length=1`.\n",
      "C:\\Users\\aliss_u3voar7\\anaconda3\\Lib\\site-packages\\torch\\nn\\modules\\rnn.py:83: UserWarning: dropout option adds dropout after all but last recurrent layer, so non-zero dropout expects num_layers greater than 1, but got dropout=0.19167233482343032 and num_layers=1\n",
      "  warnings.warn(\"dropout option adds dropout after all but last \"\n",
      "GPU available: False, used: False\n",
      "TPU available: False, using: 0 TPU cores\n",
      "HPU available: False, using: 0 HPUs\n",
      "C:\\Users\\aliss_u3voar7\\anaconda3\\Lib\\site-packages\\pytorch_lightning\\callbacks\\model_checkpoint.py:652: Checkpoint directory C:\\Users\\aliss_u3voar7\\Meu Drive (pesquisaursulino@gmail.com)\\Colab Notebooks\\IBA_PureRiskConformal\\models\\checkpoints\\trial_final exists and is not empty.\n",
      "\n",
      "  | Name            | Type             | Params | Mode \n",
      "-------------------------------------------------------------\n",
      "0 | criterion       | MSELoss          | 0      | train\n",
      "1 | train_criterion | MSELoss          | 0      | train\n",
      "2 | val_criterion   | MSELoss          | 0      | train\n",
      "3 | train_metrics   | MetricCollection | 0      | train\n",
      "4 | val_metrics     | MetricCollection | 0      | train\n",
      "5 | rnn             | LSTM             | 18.4 K | train\n",
      "6 | V               | Linear           | 108    | train\n",
      "-------------------------------------------------------------\n",
      "18.6 K    Trainable params\n",
      "0         Non-trainable params\n",
      "18.6 K    Total params\n",
      "0.074     Total estimated model params size (MB)\n"
     ]
    },
    {
     "data": {
      "application/vnd.jupyter.widget-view+json": {
       "model_id": "2f756d2d37984da9a02656fbf391a4c2",
       "version_major": 2,
       "version_minor": 0
      },
      "text/plain": [
       "Training: |          | 0/? [00:00<?, ?it/s]"
      ]
     },
     "metadata": {},
     "output_type": "display_data"
    },
    {
     "name": "stderr",
     "output_type": "stream",
     "text": [
      "Metric train_loss improved. New best score: -0.107\n",
      "Metric train_loss improved by 0.387 >= min_delta = 0.001. New best score: -0.494\n",
      "Metric train_loss improved by 0.272 >= min_delta = 0.001. New best score: -0.765\n",
      "Metric train_loss improved by 0.060 >= min_delta = 0.001. New best score: -0.825\n",
      "Metric train_loss improved by 0.077 >= min_delta = 0.001. New best score: -0.902\n",
      "Metric train_loss improved by 0.036 >= min_delta = 0.001. New best score: -0.939\n",
      "Metric train_loss improved by 0.052 >= min_delta = 0.001. New best score: -0.991\n",
      "Metric train_loss improved by 0.074 >= min_delta = 0.001. New best score: -1.065\n",
      "Metric train_loss improved by 0.035 >= min_delta = 0.001. New best score: -1.100\n",
      "Metric train_loss improved by 0.046 >= min_delta = 0.001. New best score: -1.147\n",
      "Metric train_loss improved by 0.170 >= min_delta = 0.001. New best score: -1.316\n",
      "Metric train_loss improved by 0.044 >= min_delta = 0.001. New best score: -1.361\n",
      "Metric train_loss improved by 0.053 >= min_delta = 0.001. New best score: -1.413\n",
      "Metric train_loss improved by 0.029 >= min_delta = 0.001. New best score: -1.442\n",
      "Metric train_loss improved by 0.075 >= min_delta = 0.001. New best score: -1.517\n",
      "Metric train_loss improved by 0.014 >= min_delta = 0.001. New best score: -1.531\n",
      "Metric train_loss improved by 0.017 >= min_delta = 0.001. New best score: -1.548\n",
      "Metric train_loss improved by 0.175 >= min_delta = 0.001. New best score: -1.723\n",
      "Metric train_loss improved by 0.212 >= min_delta = 0.001. New best score: -1.935\n",
      "Metric train_loss improved by 0.122 >= min_delta = 0.001. New best score: -2.057\n",
      "Metric train_loss improved by 0.031 >= min_delta = 0.001. New best score: -2.088\n",
      "Metric train_loss improved by 0.010 >= min_delta = 0.001. New best score: -2.099\n",
      "Metric train_loss improved by 0.066 >= min_delta = 0.001. New best score: -2.165\n",
      "Metric train_loss improved by 0.038 >= min_delta = 0.001. New best score: -2.202\n",
      "Metric train_loss improved by 0.181 >= min_delta = 0.001. New best score: -2.383\n",
      "Metric train_loss improved by 0.093 >= min_delta = 0.001. New best score: -2.476\n",
      "Metric train_loss improved by 0.083 >= min_delta = 0.001. New best score: -2.559\n",
      "Metric train_loss improved by 0.011 >= min_delta = 0.001. New best score: -2.570\n",
      "Metric train_loss improved by 0.017 >= min_delta = 0.001. New best score: -2.587\n",
      "Metric train_loss improved by 0.097 >= min_delta = 0.001. New best score: -2.684\n",
      "Metric train_loss improved by 0.155 >= min_delta = 0.001. New best score: -2.839\n",
      "Metric train_loss improved by 0.061 >= min_delta = 0.001. New best score: -2.900\n",
      "Metric train_loss improved by 0.013 >= min_delta = 0.001. New best score: -2.913\n",
      "Metric train_loss improved by 0.038 >= min_delta = 0.001. New best score: -2.952\n",
      "Metric train_loss improved by 0.048 >= min_delta = 0.001. New best score: -3.000\n",
      "Metric train_loss improved by 0.064 >= min_delta = 0.001. New best score: -3.064\n",
      "Metric train_loss improved by 0.023 >= min_delta = 0.001. New best score: -3.088\n",
      "Metric train_loss improved by 0.173 >= min_delta = 0.001. New best score: -3.261\n",
      "Metric train_loss improved by 0.007 >= min_delta = 0.001. New best score: -3.268\n",
      "Metric train_loss improved by 0.018 >= min_delta = 0.001. New best score: -3.285\n",
      "Metric train_loss improved by 0.023 >= min_delta = 0.001. New best score: -3.308\n",
      "Metric train_loss improved by 0.061 >= min_delta = 0.001. New best score: -3.370\n",
      "Metric train_loss improved by 0.071 >= min_delta = 0.001. New best score: -3.441\n",
      "Metric train_loss improved by 0.009 >= min_delta = 0.001. New best score: -3.450\n",
      "Metric train_loss improved by 0.044 >= min_delta = 0.001. New best score: -3.494\n",
      "Metric train_loss improved by 0.020 >= min_delta = 0.001. New best score: -3.514\n",
      "Metric train_loss improved by 0.138 >= min_delta = 0.001. New best score: -3.652\n",
      "Metric train_loss improved by 0.055 >= min_delta = 0.001. New best score: -3.707\n",
      "Metric train_loss improved by 0.080 >= min_delta = 0.001. New best score: -3.787\n",
      "Metric train_loss improved by 0.075 >= min_delta = 0.001. New best score: -3.863\n",
      "Monitored metric train_loss did not improve in the last 100 records. Best score: -3.863. Signaling Trainer to stop.\n"
     ]
    }
   ],
   "source": [
    "# Treina o modelo LSTM com os melhores parâmetros encontrados\n",
    "best_lstm_model, _, _,_= model_objective_lstm(\n",
    "    train=train_continuous_scaled,  # Série de treino\n",
    "    val=val_continuous_scaled,  # Série de validação\n",
    "    trial_parameters=updated_parameters,  # Passar os melhores parâmetros do Optuna\n",
    "    # trial_parameters=trial_parameters,\n",
    "    train_future_covariates=all_future_covariates,  # Covariáveis futuras de treino (se aplicável)\n",
    "    val_future_covariates=val_future_covariates  # Covariáveis futuras de validação (se aplicável)\n",
    ")\n"
   ]
  },
  {
   "cell_type": "code",
   "execution_count": 28,
   "metadata": {},
   "outputs": [
    {
     "name": "stdout",
     "output_type": "stream",
     "text": [
      "Modelo salvo em: ../models/best_lstm_model.pt\n"
     ]
    }
   ],
   "source": [
    "# Definir o caminho para salvar o modelo\n",
    "model_save_path = '../models/best_lstm_model.pt'\n",
    "\n",
    "# Salvar o modelo treinado\n",
    "best_lstm_model.save(model_save_path)\n",
    "\n",
    "print(f\"Modelo salvo em: {model_save_path}\")"
   ]
  }
 ],
 "metadata": {
  "kernelspec": {
   "display_name": "Python 3 (ipykernel)",
   "language": "python",
   "name": "python3"
  },
  "language_info": {
   "codemirror_mode": {
    "name": "ipython",
    "version": 3
   },
   "file_extension": ".py",
   "mimetype": "text/x-python",
   "name": "python",
   "nbconvert_exporter": "python",
   "pygments_lexer": "ipython3",
   "version": "3.11.7"
  }
 },
 "nbformat": 4,
 "nbformat_minor": 4
}
