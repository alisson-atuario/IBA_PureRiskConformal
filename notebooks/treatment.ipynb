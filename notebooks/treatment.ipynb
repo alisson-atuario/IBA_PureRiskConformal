{
 "cells": [
  {
   "cell_type": "markdown",
   "metadata": {},
   "source": [
    "# Importando bibliotecas"
   ]
  },
  {
   "cell_type": "code",
   "execution_count": 1,
   "metadata": {},
   "outputs": [],
   "source": [
    "import os\n",
    "import sys\n",
    "import importlib\n"
   ]
  },
  {
   "cell_type": "markdown",
   "metadata": {},
   "source": [
    "## Adiciona Módulos "
   ]
  },
  {
   "cell_type": "code",
   "execution_count": 2,
   "metadata": {},
   "outputs": [
    {
     "name": "stdout",
     "output_type": "stream",
     "text": [
      "Help on module make_dataset:\n",
      "\n",
      "NAME\n",
      "    make_dataset\n",
      "\n",
      "CLASSES\n",
      "    builtins.object\n",
      "        InsuranceDataProcessor\n",
      "    \n",
      "    class InsuranceDataProcessor(builtins.object)\n",
      "     |  InsuranceDataProcessor(input_files, combined_path=None, cleaned_path=None, final_path=None, n_jobs=-1, inner_max_num_threads=2)\n",
      "     |  \n",
      "     |  Processador de dados de seguros para limpeza, transformação e agregação de dados.\n",
      "     |  \n",
      "     |  Realiza um pipeline completo de processamento de dados de seguros, incluindo:\n",
      "     |  - Combinação de múltiplos arquivos CSV\n",
      "     |  - Limpeza e filtragem de dados\n",
      "     |  - Codificação de variáveis categóricas\n",
      "     |  - Agregação temporal dos dados\n",
      "     |  \n",
      "     |  Parâmetros:\n",
      "     |  ----------\n",
      "     |  input_files : str ou list\n",
      "     |      Caminho para arquivo(s) CSV ou diretório contendo os arquivos\n",
      "     |  combined_path : str, opcional\n",
      "     |      Caminho para salvar os dados brutos combinados (padrão: 'combined_data.csv')\n",
      "     |  cleaned_path : str, opcional\n",
      "     |      Caminho para salvar os dados limpos (padrão: 'cleaned_data.csv')\n",
      "     |  final_path : str, opcional\n",
      "     |      Caminho para salvar os dados processados finais (padrão: 'final_data.csv')\n",
      "     |  n_jobs : int, opcional\n",
      "     |      Número de jobs paralelos para processamento (padrão: -1, usa todos os cores)\n",
      "     |  \n",
      "     |  Métodos:\n",
      "     |  -------\n",
      "     |  combine_files(sep=';')\n",
      "     |      Combina múltiplos arquivos CSV em um único DataFrame\n",
      "     |  clean_data(df, sep=';')\n",
      "     |      Realiza limpeza dos dados (remove duplicatas, filtra valores válidos, etc.)\n",
      "     |  process_data(df, sep=';')\n",
      "     |      Processa os dados com one-hot encoding e agregação temporal\n",
      "     |  run()\n",
      "     |      Executa o pipeline completo (combine → clean → process)\n",
      "     |  \n",
      "     |  Exemplo:\n",
      "     |  -------\n",
      "     |  processor = InsuranceDataProcessor('dados/raw/')\n",
      "     |  resultado = processor.run()\n",
      "     |  \n",
      "     |  Methods defined here:\n",
      "     |  \n",
      "     |  __init__(self, input_files, combined_path=None, cleaned_path=None, final_path=None, n_jobs=-1, inner_max_num_threads=2)\n",
      "     |      Inicializa o processador de dados de seguros.\n",
      "     |      \n",
      "     |      Args:\n",
      "     |          input_files (str/list): Caminho para arquivo(s) CSV ou diretório\n",
      "     |          combined_path (str, optional): Onde salvar os dados brutos combinados\n",
      "     |          cleaned_path (str, optional): Onde salvar os dados limpos\n",
      "     |          final_path (str, optional): Onde salvar os dados processados finais\n",
      "     |          n_jobs (int, optional): Número de jobs paralelos (padrão: -1)\n",
      "     |  \n",
      "     |  clean_data(self, df, sep=';')\n",
      "     |      Realiza limpeza dos dados de seguros.\n",
      "     |      \n",
      "     |      Operações:\n",
      "     |      - Remove duplicatas\n",
      "     |      - Seleciona colunas relevantes\n",
      "     |      - Filtra sexos válidos (M/F)\n",
      "     |      - Padroniza códigos de região\n",
      "     |      - Filtra valores válidos para CAUSA (1-8) e EVENTO (1-9)\n",
      "     |      \n",
      "     |      Args:\n",
      "     |          df (pd.DataFrame): DataFrame com dados brutos\n",
      "     |          sep (str): Separador de campos (padrão: ';')\n",
      "     |          \n",
      "     |      Returns:\n",
      "     |          pd.DataFrame: DataFrame limpo\n",
      "     |  \n",
      "     |  combine_files(self, sep=';')\n",
      "     |      Combina múltiplos arquivos CSV em um único DataFrame usando paralelismo controlado.\n",
      "     |      \n",
      "     |      Args:\n",
      "     |          sep (str): Separador de campos (padrão: ';')\n",
      "     |          \n",
      "     |      Returns:\n",
      "     |          pd.DataFrame: DataFrame combinado\n",
      "     |      \n",
      "     |      Otimizado com:\n",
      "     |      - Loky backend para melhor gerenciamento de processos\n",
      "     |      - Controle de threads internos para evitar sobrecarga\n",
      "     |      - Gerenciamento automático de recursos com context manager\n",
      "     |  \n",
      "     |  process_data(self, df, sep=';')\n",
      "     |      Processa os dados com one-hot encoding e agregação temporal.\n",
      "     |      \n",
      "     |      Operações:\n",
      "     |      - Aplica one-hot encoding nas variáveis categóricas\n",
      "     |      - Converte valores para absolutos\n",
      "     |      - Agrega dados por data (D_OCORR)\n",
      "     |      - Formata datas corretamente\n",
      "     |      \n",
      "     |      Args:\n",
      "     |          df (pd.DataFrame): DataFrame com dados limpos\n",
      "     |          sep (str): Separador de campos (padrão: ';')\n",
      "     |          \n",
      "     |      Returns:\n",
      "     |          pd.DataFrame: DataFrame processado final\n",
      "     |  \n",
      "     |  run(self)\n",
      "     |      Executa o pipeline completo de processamento.\n",
      "     |      \n",
      "     |      Etapas:\n",
      "     |      1. combine_files(): Combina arquivos de entrada\n",
      "     |      2. clean_data(): Limpa os dados combinados\n",
      "     |      3. process_data(): Processa os dados limpos\n",
      "     |      \n",
      "     |      Returns:\n",
      "     |          pd.DataFrame: Dados finais processados\n",
      "     |  \n",
      "     |  ----------------------------------------------------------------------\n",
      "     |  Data descriptors defined here:\n",
      "     |  \n",
      "     |  __dict__\n",
      "     |      dictionary for instance variables\n",
      "     |  \n",
      "     |  __weakref__\n",
      "     |      list of weak references to the object\n",
      "\n",
      "FILE\n",
      "    c:\\users\\aliss_u3voar7\\meu drive (pesquisaursulino@gmail.com)\\colab notebooks\\iba_pureriskconformal\\src\\data\\make_dataset.py\n",
      "\n",
      "\n"
     ]
    }
   ],
   "source": [
    "path_project = \"../\"\n",
    "sys.path.append(os.path.join(path_project,'src','data'))\n",
    "\n",
    "import make_dataset\n",
    "importlib.reload(make_dataset)  # Recarrega o módulo atualizado\n",
    "help(make_dataset)"
   ]
  },
  {
   "cell_type": "markdown",
   "metadata": {},
   "source": [
    "# Executa o tratamento dos dados"
   ]
  },
  {
   "cell_type": "markdown",
   "metadata": {},
   "source": [
    "**Processamento em Etapas para Otimização de Memória**\n",
    "\n",
    "Se você estiver enfrentando problemas de memória e precisar executar o processamento em etapas separadas, substitua a chamada `resultado = processor.run()` pelos seguintes comandos:\n",
    "1.  combined = processor.combine_files()\n",
    "2.  processor.treat(combined)       \n",
    "3.  processor.save()\n",
    "4.  final = processor.process_data(cleaned)"
   ]
  },
  {
   "cell_type": "markdown",
   "metadata": {},
   "source": [
    "**Processamento em uma única etapa (requer mais memória)**\n",
    "1.  resultado = processor.run()"
   ]
  },
  {
   "cell_type": "code",
   "execution_count": 3,
   "metadata": {},
   "outputs": [
    {
     "name": "stdout",
     "output_type": "stream",
     "text": [
      "Combinando 12 arquivos com 8 workers...\n"
     ]
    },
    {
     "name": "stderr",
     "output_type": "stream",
     "text": [
      "[Parallel(n_jobs=8)]: Using backend LokyBackend with 8 concurrent workers.\n",
      "[Parallel(n_jobs=8)]: Done   1 tasks      | elapsed:   51.6s\n",
      "[Parallel(n_jobs=8)]: Done   3 out of  12 | elapsed:  1.0min remaining:  3.1min\n",
      "[Parallel(n_jobs=8)]: Done   5 out of  12 | elapsed:  1.3min remaining:  1.8min\n",
      "[Parallel(n_jobs=8)]: Done   7 out of  12 | elapsed:  1.4min remaining:  1.0min\n",
      "[Parallel(n_jobs=8)]: Done   9 out of  12 | elapsed:  1.6min remaining:   31.4s\n",
      "[Parallel(n_jobs=8)]: Done  12 out of  12 | elapsed:  1.7min finished\n"
     ]
    },
    {
     "name": "stdout",
     "output_type": "stream",
     "text": [
      "Combinação concluída e salva em: ../data/raw\\combined_data.csv\n",
      "Limpando dados...\n",
      "Número de linhas antes de remover duplicatas: 36904344\n",
      "Número de linhas após remover duplicatas: 36316459\n",
      "Dados limpos salvos em: ../data/processed\\cleaned_data.csv\n",
      "Processando dados...\n"
     ]
    },
    {
     "name": "stderr",
     "output_type": "stream",
     "text": [
      "C:\\Users\\aliss_u3voar7\\Meu Drive (pesquisaursulino@gmail.com)\\Colab Notebooks\\IBA_PureRiskConformal\\notebooks\\../src\\data\\make_dataset.py:289: RuntimeWarning: invalid value encountered in scalar divide\n",
      "  **{col: lambda x: (x * processed.loc[x.index, 'INDENIZ']).sum() /\n"
     ]
    },
    {
     "name": "stdout",
     "output_type": "stream",
     "text": [
      "Dados processados salvos em: ../data/processed\\trated_data.csv\n"
     ]
    }
   ],
   "source": [
    "path_raw = \"../data/raw\"\n",
    "path_processed = \"../data/processed\"\n",
    "\n",
    "processor = make_dataset.InsuranceDataProcessor(\n",
    "    input_files=os.path.join(path_raw,'susep'),  # Ou lista de arquivos\n",
    "    combined_path=os.path.join(path_raw,'combined_data.csv'),\n",
    "    cleaned_path=os.path.join(path_processed,'cleaned_data.csv'),\n",
    "    final_path=os.path.join(path_processed,'trated_data.csv'),\n",
    "    n_jobs=8,\n",
    "    inner_max_num_threads=2\n",
    ")\n",
    "resultado = processor.run()"
   ]
  }
 ],
 "metadata": {
  "kernelspec": {
   "display_name": "Python 3 (ipykernel)",
   "language": "python",
   "name": "python3"
  },
  "language_info": {
   "codemirror_mode": {
    "name": "ipython",
    "version": 3
   },
   "file_extension": ".py",
   "mimetype": "text/x-python",
   "name": "python",
   "nbconvert_exporter": "python",
   "pygments_lexer": "ipython3",
   "version": "3.11.7"
  }
 },
 "nbformat": 4,
 "nbformat_minor": 4
}
